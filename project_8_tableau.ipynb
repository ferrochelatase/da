{
 "cells": [
  {
   "cell_type": "markdown",
   "id": "521fa931",
   "metadata": {},
   "source": [
    "**Table of contents**<a id='toc0_'></a>    \n",
    "- [Проект: Построение дашбордов в Tableau](#toc1_)    \n",
    "  - [Описание проекта](#toc1_1_)    \n",
    "  - [Цели исследования](#toc1_2_)    \n",
    "  - [Задачи исследования](#toc1_3_)    \n",
    "  - [Структура исследования](#toc1_4_)    \n",
    "  - [Результаты исследования](#toc1_5_)    \n",
   
    "\n",
    "<!-- vscode-jupyter-toc-config\n",
    "\tnumbering=false\n",
    "\tanchor=true\n",
    "\tflat=false\n",
    "\tminLevel=1\n",
    "\tmaxLevel=6\n",
    "\t/vscode-jupyter-toc-config -->\n",
    "<!-- THIS CELL WILL BE REPLACED ON TOC UPDATE. DO NOT WRITE YOUR TEXT IN THIS CELL -->"
   ]
  },
  {
   "cell_type": "markdown",
   "id": "a855d6c0",
   "metadata": {},
   "source": [
    "# <a id='toc1_'></a>[Проект: Построение дашбордов в Tableau](#toc0_)"
   ]
  },
  {
   "cell_type": "markdown",
   "metadata": {},
   "source": [
    "## <a id='toc1_1_'></a>[Описание проекта](#toc0_)"
   ]
  },
  {
   "cell_type": "markdown",
   "id": "afdebb34",
   "metadata": {},
   "source": [
    "TED (от англ. technology, education, design — «технологии, образование, дизайн») — некоммерческий фонд, который проводит популярные конференции. На них выступают специалисты из разных областей и читают лекции на актуальные социальные, культурные и научные темы. \n",
    "\n",
    "В этом проекте мы исследуем историю TED-конференций с помощью Tableau.\n",
    "\n",
    "Для анализа предоставлены данные о выступлениях, конференциях и авторах с даты основания фонда TED по 2021 год."
   ]
  },
  {
   "cell_type": "markdown",
   "metadata": {},
   "source": [
    "## <a id='toc1_2_'></a>[Цели исследования](#toc0_)"
   ]
  },
  {
   "cell_type": "markdown",
   "id": "f29b11d9",
   "metadata": {},
   "source": [
    "Исследовать информацию о конференциях TED с помощью Tableau, найти взаимосвязи, визуализировать находки, подготовить презентацию."
   ]
  },
  {
   "cell_type": "markdown",
   "metadata": {},
   "source": [
    "## <a id='toc1_3_'></a>[Задачи исследования](#toc0_)"
   ]
  },
  {
   "cell_type": "markdown",
   "id": "a3ee7faf",
   "metadata": {},
   "source": [
    "1. Изучить предоставленные данные, уточнить временной интервал для анализа.\n",
    "2. Проанализировать страны-участницы и тематики выступлений в разрезе времени, реакцию публики (смех и аплодисменты), длительность выступлений, количество просмотров, области деятельности авторов, количество выступлений конкретных авторов.\n",
    "3. Выявить лидеров среди конференций по просмотрам и определить причину популярности конкретных конференций."
   ]
  },
  {
   "cell_type": "markdown",
   "metadata": {},
   "source": [
    "## <a id='toc1_4_'></a>[Структура исследования](#toc0_)"
   ]
  },
  {
   "cell_type": "markdown",
   "id": "f248b3e9",
   "metadata": {},
   "source": [
    "Исследование представлено в виде Tableau-тетради, содержащей листы с отдельными визуализациями и таблицами, а также дашборды, на которых с помощью визуализаций и таблиц представлено комплексное рассмотрение аспектов. Дашборды сопровождаются выводами и наблюдениями.\n",
    "\n",
    "**Дашборды:**\\\n",
    "`История выступлений` — общая информация о конференциях в разрезе времени: страны, тематики, динамика изменения популярности тематик и его причины.\\\n",
    "`Тематики выступлений` — более подробное расссмотрение тематик и реакции публики на выступления конкретных тематик, поиск взаимосвязи длительности выступления и количества просмотров, поиск различий в интересах публики топ-3 стран по количеству выступлений.\\\n",
    "`Авторы выступлений` — информация о спикерах TED и их активности: области деятельности, количестве выступлений, количестве просмотров выступлений.\\\n",
    "`Самые просматриваемые конференции` — более подробное рассмотрение топ-20 конференций по количеству просмотров, поиск факторов популярности: количество спикеров, тематики выступлений, \"звезды\" конференций. "
   ]
  },
  {
   "cell_type": "markdown",
   "metadata": {},
   "source": [
    "## <a id='toc1_5_'></a>[Результаты исследования](#toc0_)"
   ]
  },
  {
   "cell_type": "markdown",
   "id": "f4e37b8f",
   "metadata": {},
   "source": [
    "Вся информация, визуализации, таблицы, дашборды и презентация на [public.tableau.com](https://public.tableau.com/views/DA_TED_project/TED2008-2021?:language=en-US&publish=yes&:sid=&:display_count=n&:origin=viz_share_link)"
   ]
  }
 ],
 "metadata": {
  "ExecuteTimeLog": [
   {
    "duration": 4,
    "start_time": "2024-04-27T18:31:06.651Z"
   },
   {
    "duration": 90,
    "start_time": "2024-04-28T07:07:06.974Z"
   }
  ],
  "kernelspec": {
   "display_name": "Python 3 (ipykernel)",
   "language": "python",
   "name": "python3"
  },
  "language_info": {
   "codemirror_mode": {
    "name": "ipython",
    "version": 3
   },
   "file_extension": ".py",
   "mimetype": "text/x-python",
   "name": "python",
   "nbconvert_exporter": "python",
   "pygments_lexer": "ipython3",
   "version": "3.9.5"
  },
  "toc": {
   "base_numbering": 1,
   "nav_menu": {},
   "number_sections": true,
   "sideBar": true,
   "skip_h1_title": true,
   "title_cell": "Table of Contents",
   "title_sidebar": "Contents",
   "toc_cell": false,
   "toc_position": {},
   "toc_section_display": true,
   "toc_window_display": false
  }
 },
 "nbformat": 4,
 "nbformat_minor": 5
}
