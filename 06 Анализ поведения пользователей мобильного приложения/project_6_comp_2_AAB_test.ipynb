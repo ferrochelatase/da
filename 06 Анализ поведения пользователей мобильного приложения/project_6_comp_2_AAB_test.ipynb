{
 "cells": [
  {
   "cell_type": "markdown",
   "metadata": {},
   "source": [
    "**Содержание**<a id='toc0_'></a>    \n",
    "- [Сборный проект 2](#toc1_)    \n",
    "  - [Описание проекта](#toc1_1_)    \n",
    "  - [Описание данных](#toc1_2_)    \n",
    "  - [Загрузка и подготовка данных](#toc1_3_)    \n",
    "    - [Изучение и проверка данных](#toc1_3_1_)    \n",
    "    - [Выводы](#toc1_3_2_)    \n",
    "  - [Изучаем воронку событий](#toc1_4_)    \n",
    "    - [Выводы](#toc1_4_1_)    \n",
    "  - [Изучаем результаты эксперимента](#toc1_5_)    \n",
    "    - [Вывод](#toc1_5_1_)    \n",
    "  - [Общие выводы по проекту](#toc1_6_)    "
   ]
  },
  {
   "cell_type": "markdown",
   "metadata": {},
   "source": [
    "# <a id='toc1_'></a>[Сборный проект 2](#toc0_)"
   ]
  },
  {
   "cell_type": "markdown",
   "metadata": {},
   "source": [
    "## <a id='toc1_1_'></a>[Описание проекта](#toc0_)\n",
    "Для анализа предоставлены данные о работе сервиса продажи продуктов питания. Нужно разобраться, как ведут себя пользователи мобильного приложения и как шрифт влияет на активность пользователей. \\\n",
    "Для этого изучим воронку продаж: узнаем, как пользователи доходят до покупки, сколько пользователей доходит до покупки, а сколько — «застревает» на предыдущих шагах и на каких именно.\\\n",
    "В исследовании используем А/А/В-эксперимент. Для него пользователей разделили на 3 группы: две контрольные со старыми шрифтами и одна экспериментальная — с новыми. Выясним, какой шрифт лучше."
   ]
  },
  {
   "cell_type": "markdown",
   "metadata": {},
   "source": [
    "## <a id='toc1_2_'></a>[Описание данных](#toc0_)\n",
    "Каждая запись в логе — это действие пользователя, или событие. \\\n",
    "`EventName` — название события;\\\n",
    "`DeviceIDHash` — уникальный идентификатор пользователя;\\\n",
    "`EventTimestamp` — время события;\\\n",
    "`ExpId` — номер эксперимента: 246 и 247 — контрольные группы, а 248 — экспериментальная."
   ]
  },
  {
   "cell_type": "markdown",
   "metadata": {},
   "source": [
    "## <a id='toc1_3_'></a>[Загрузка и подготовка данных](#toc0_)"
   ]
  },
  {
   "cell_type": "code",
   "execution_count": 1,
   "metadata": {},
   "outputs": [],
   "source": [
    "import pandas as pd\n",
    "import matplotlib.pyplot as plt\n",
    "import numpy as np\n",
    "from scipy import stats as st\n",
    "from plotly import graph_objects as go\n",
    "import warnings\n",
    "warnings.filterwarnings('ignore')"
   ]
  },
  {
   "cell_type": "code",
   "execution_count": 2,
   "metadata": {},
   "outputs": [
    {
     "name": "stdout",
     "output_type": "stream",
     "text": [
      "                 EventName         DeviceIDHash  EventTimestamp  ExpId\n",
      "0         MainScreenAppear  4575588528974610257      1564029816    246\n",
      "1         MainScreenAppear  7416695313311560658      1564053102    246\n",
      "2  PaymentScreenSuccessful  3518123091307005509      1564054127    248\n",
      "3         CartScreenAppear  3518123091307005509      1564054127    248\n",
      "4  PaymentScreenSuccessful  6217807653094995999      1564055322    248\n",
      "5         CartScreenAppear  6217807653094995999      1564055323    248\n",
      "6       OffersScreenAppear  8351860793733343758      1564066242    246\n",
      "7         MainScreenAppear  5682100281902512875      1564085677    246\n",
      "8         MainScreenAppear  1850981295691852772      1564086702    247\n",
      "9         MainScreenAppear  5407636962369102641      1564112112    246\n",
      "<class 'pandas.core.frame.DataFrame'>\n",
      "RangeIndex: 244126 entries, 0 to 244125\n",
      "Data columns (total 4 columns):\n",
      " #   Column          Non-Null Count   Dtype \n",
      "---  ------          --------------   ----- \n",
      " 0   EventName       244126 non-null  object\n",
      " 1   DeviceIDHash    244126 non-null  int64 \n",
      " 2   EventTimestamp  244126 non-null  int64 \n",
      " 3   ExpId           244126 non-null  int64 \n",
      "dtypes: int64(3), object(1)\n",
      "memory usage: 7.5+ MB\n",
      "None\n"
     ]
    }
   ],
   "source": [
    "data=pd.read_csv('https://code.s3.yandex.net/datasets/logs_exp.csv', sep='\\t')\n",
    "print(data.head(10))\n",
    "print(data.info())"
   ]
  },
  {
   "cell_type": "markdown",
   "metadata": {},
   "source": [
    "Явных пропусков в данных нет.\\\n",
    "Приведем названия столбцов к нижнему регистру, со столбцом с данными о дате и времени поработаем далее."
   ]
  },
  {
   "cell_type": "code",
   "execution_count": 3,
   "metadata": {},
   "outputs": [
    {
     "data": {
      "text/html": [
       "<div>\n",
       "<style scoped>\n",
       "    .dataframe tbody tr th:only-of-type {\n",
       "        vertical-align: middle;\n",
       "    }\n",
       "\n",
       "    .dataframe tbody tr th {\n",
       "        vertical-align: top;\n",
       "    }\n",
       "\n",
       "    .dataframe thead th {\n",
       "        text-align: right;\n",
       "    }\n",
       "</style>\n",
       "<table border=\"1\" class=\"dataframe\">\n",
       "  <thead>\n",
       "    <tr style=\"text-align: right;\">\n",
       "      <th></th>\n",
       "      <th>event_name</th>\n",
       "      <th>user_id</th>\n",
       "      <th>event_timestamp</th>\n",
       "      <th>exp_id</th>\n",
       "    </tr>\n",
       "  </thead>\n",
       "  <tbody>\n",
       "    <tr>\n",
       "      <th>0</th>\n",
       "      <td>MainScreenAppear</td>\n",
       "      <td>4575588528974610257</td>\n",
       "      <td>1564029816</td>\n",
       "      <td>246</td>\n",
       "    </tr>\n",
       "  </tbody>\n",
       "</table>\n",
       "</div>"
      ],
      "text/plain": [
       "         event_name              user_id  event_timestamp  exp_id\n",
       "0  MainScreenAppear  4575588528974610257       1564029816     246"
      ]
     },
     "execution_count": 3,
     "metadata": {},
     "output_type": "execute_result"
    }
   ],
   "source": [
    "data.columns = ['event_name', 'user_id', 'event_timestamp', 'exp_id']\n",
    "data.head(1)"
   ]
  },
  {
   "cell_type": "code",
   "execution_count": 4,
   "metadata": {},
   "outputs": [
    {
     "name": "stdout",
     "output_type": "stream",
     "text": [
      "Количество дубликатов: 413\n"
     ]
    },
    {
     "data": {
      "text/html": [
       "<div>\n",
       "<style scoped>\n",
       "    .dataframe tbody tr th:only-of-type {\n",
       "        vertical-align: middle;\n",
       "    }\n",
       "\n",
       "    .dataframe tbody tr th {\n",
       "        vertical-align: top;\n",
       "    }\n",
       "\n",
       "    .dataframe thead th {\n",
       "        text-align: right;\n",
       "    }\n",
       "</style>\n",
       "<table border=\"1\" class=\"dataframe\">\n",
       "  <thead>\n",
       "    <tr style=\"text-align: right;\">\n",
       "      <th></th>\n",
       "      <th>event_name</th>\n",
       "      <th>user_id</th>\n",
       "      <th>event_timestamp</th>\n",
       "      <th>exp_id</th>\n",
       "    </tr>\n",
       "  </thead>\n",
       "  <tbody>\n",
       "    <tr>\n",
       "      <th>0</th>\n",
       "      <td>MainScreenAppear</td>\n",
       "      <td>4575588528974610257</td>\n",
       "      <td>1564029816</td>\n",
       "      <td>246</td>\n",
       "    </tr>\n",
       "    <tr>\n",
       "      <th>1</th>\n",
       "      <td>MainScreenAppear</td>\n",
       "      <td>7416695313311560658</td>\n",
       "      <td>1564053102</td>\n",
       "      <td>246</td>\n",
       "    </tr>\n",
       "    <tr>\n",
       "      <th>2</th>\n",
       "      <td>PaymentScreenSuccessful</td>\n",
       "      <td>3518123091307005509</td>\n",
       "      <td>1564054127</td>\n",
       "      <td>248</td>\n",
       "    </tr>\n",
       "    <tr>\n",
       "      <th>3</th>\n",
       "      <td>CartScreenAppear</td>\n",
       "      <td>3518123091307005509</td>\n",
       "      <td>1564054127</td>\n",
       "      <td>248</td>\n",
       "    </tr>\n",
       "    <tr>\n",
       "      <th>4</th>\n",
       "      <td>PaymentScreenSuccessful</td>\n",
       "      <td>6217807653094995999</td>\n",
       "      <td>1564055322</td>\n",
       "      <td>248</td>\n",
       "    </tr>\n",
       "    <tr>\n",
       "      <th>...</th>\n",
       "      <td>...</td>\n",
       "      <td>...</td>\n",
       "      <td>...</td>\n",
       "      <td>...</td>\n",
       "    </tr>\n",
       "    <tr>\n",
       "      <th>243708</th>\n",
       "      <td>MainScreenAppear</td>\n",
       "      <td>4599628364049201812</td>\n",
       "      <td>1565212345</td>\n",
       "      <td>247</td>\n",
       "    </tr>\n",
       "    <tr>\n",
       "      <th>243709</th>\n",
       "      <td>MainScreenAppear</td>\n",
       "      <td>5849806612437486590</td>\n",
       "      <td>1565212439</td>\n",
       "      <td>246</td>\n",
       "    </tr>\n",
       "    <tr>\n",
       "      <th>243710</th>\n",
       "      <td>MainScreenAppear</td>\n",
       "      <td>5746969938801999050</td>\n",
       "      <td>1565212483</td>\n",
       "      <td>246</td>\n",
       "    </tr>\n",
       "    <tr>\n",
       "      <th>243711</th>\n",
       "      <td>MainScreenAppear</td>\n",
       "      <td>5746969938801999050</td>\n",
       "      <td>1565212498</td>\n",
       "      <td>246</td>\n",
       "    </tr>\n",
       "    <tr>\n",
       "      <th>243712</th>\n",
       "      <td>OffersScreenAppear</td>\n",
       "      <td>5746969938801999050</td>\n",
       "      <td>1565212517</td>\n",
       "      <td>246</td>\n",
       "    </tr>\n",
       "  </tbody>\n",
       "</table>\n",
       "<p>243713 rows × 4 columns</p>\n",
       "</div>"
      ],
      "text/plain": [
       "                     event_name              user_id  event_timestamp  exp_id\n",
       "0              MainScreenAppear  4575588528974610257       1564029816     246\n",
       "1              MainScreenAppear  7416695313311560658       1564053102     246\n",
       "2       PaymentScreenSuccessful  3518123091307005509       1564054127     248\n",
       "3              CartScreenAppear  3518123091307005509       1564054127     248\n",
       "4       PaymentScreenSuccessful  6217807653094995999       1564055322     248\n",
       "...                         ...                  ...              ...     ...\n",
       "243708         MainScreenAppear  4599628364049201812       1565212345     247\n",
       "243709         MainScreenAppear  5849806612437486590       1565212439     246\n",
       "243710         MainScreenAppear  5746969938801999050       1565212483     246\n",
       "243711         MainScreenAppear  5746969938801999050       1565212498     246\n",
       "243712       OffersScreenAppear  5746969938801999050       1565212517     246\n",
       "\n",
       "[243713 rows x 4 columns]"
      ]
     },
     "execution_count": 4,
     "metadata": {},
     "output_type": "execute_result"
    }
   ],
   "source": [
    "print('Количество дубликатов:', data.duplicated().sum())\n",
    "data.drop_duplicates().reset_index(drop=True)"
   ]
  },
  {
   "cell_type": "code",
   "execution_count": 5,
   "metadata": {},
   "outputs": [
    {
     "name": "stdout",
     "output_type": "stream",
     "text": [
      "                event_name              user_id  event_timestamp  exp_id  \\\n",
      "0         MainScreenAppear  4575588528974610257       1564029816     246   \n",
      "1         MainScreenAppear  7416695313311560658       1564053102     246   \n",
      "2  PaymentScreenSuccessful  3518123091307005509       1564054127     248   \n",
      "3         CartScreenAppear  3518123091307005509       1564054127     248   \n",
      "4  PaymentScreenSuccessful  6217807653094995999       1564055322     248   \n",
      "5         CartScreenAppear  6217807653094995999       1564055323     248   \n",
      "6       OffersScreenAppear  8351860793733343758       1564066242     246   \n",
      "7         MainScreenAppear  5682100281902512875       1564085677     246   \n",
      "8         MainScreenAppear  1850981295691852772       1564086702     247   \n",
      "9         MainScreenAppear  5407636962369102641       1564112112     246   \n",
      "\n",
      "            date_time       date  \n",
      "0 2019-07-25 04:43:36 2019-07-25  \n",
      "1 2019-07-25 11:11:42 2019-07-25  \n",
      "2 2019-07-25 11:28:47 2019-07-25  \n",
      "3 2019-07-25 11:28:47 2019-07-25  \n",
      "4 2019-07-25 11:48:42 2019-07-25  \n",
      "5 2019-07-25 11:48:43 2019-07-25  \n",
      "6 2019-07-25 14:50:42 2019-07-25  \n",
      "7 2019-07-25 20:14:37 2019-07-25  \n",
      "8 2019-07-25 20:31:42 2019-07-25  \n",
      "9 2019-07-26 03:35:12 2019-07-26  \n",
      "<class 'pandas.core.frame.DataFrame'>\n",
      "RangeIndex: 244126 entries, 0 to 244125\n",
      "Data columns (total 6 columns):\n",
      " #   Column           Non-Null Count   Dtype         \n",
      "---  ------           --------------   -----         \n",
      " 0   event_name       244126 non-null  object        \n",
      " 1   user_id          244126 non-null  int64         \n",
      " 2   event_timestamp  244126 non-null  int64         \n",
      " 3   exp_id           244126 non-null  int64         \n",
      " 4   date_time        244126 non-null  datetime64[ns]\n",
      " 5   date             244126 non-null  datetime64[ns]\n",
      "dtypes: datetime64[ns](2), int64(3), object(1)\n",
      "memory usage: 11.2+ MB\n",
      "None\n"
     ]
    }
   ],
   "source": [
    "data['date_time'] = pd.to_datetime(data['event_timestamp'], unit='s')\n",
    "data['date'] = data['date_time'].astype('datetime64[D]')\n",
    "print(data.head(10))\n",
    "print(data.info())"
   ]
  },
  {
   "cell_type": "markdown",
   "metadata": {},
   "source": [
    "### <a id='toc1_3_1_'></a>[Изучение и проверка данных](#toc0_)"
   ]
  },
  {
   "cell_type": "code",
   "execution_count": 6,
   "metadata": {},
   "outputs": [
    {
     "name": "stdout",
     "output_type": "stream",
     "text": [
      "В логе 244126 событий, типов событий 5.\n",
      "MainScreenAppear           119205\n",
      "OffersScreenAppear          46825\n",
      "CartScreenAppear            42731\n",
      "PaymentScreenSuccessful     34313\n",
      "Tutorial                     1052\n",
      "Name: event_name, dtype: int64\n"
     ]
    }
   ],
   "source": [
    "print('В логе %d событий, типов событий %d.' % (data.shape[0], data['event_name'].nunique()))\n",
    "print(data['event_name'].value_counts())"
   ]
  },
  {
   "cell_type": "code",
   "execution_count": 7,
   "metadata": {},
   "outputs": [
    {
     "name": "stdout",
     "output_type": "stream",
     "text": [
      "7551 пользователей.\n"
     ]
    }
   ],
   "source": [
    "print('%d пользователей.' % (data['user_id'].nunique()))"
   ]
  },
  {
   "cell_type": "code",
   "execution_count": 8,
   "metadata": {},
   "outputs": [
    {
     "name": "stdout",
     "output_type": "stream",
     "text": [
      "В среднем 32 события на пользователя.\n"
     ]
    }
   ],
   "source": [
    "print('В среднем %d события на пользователя.' % (data.shape[0] / data['user_id'].nunique()))"
   ]
  },
  {
   "cell_type": "code",
   "execution_count": 9,
   "metadata": {},
   "outputs": [
    {
     "name": "stdout",
     "output_type": "stream",
     "text": [
      "Эксперимент проводился с 2019-07-25 по 2019-08-07.\n"
     ]
    }
   ],
   "source": [
    "first_date = data['date_time'].min().date()\n",
    "last_date = data['date_time'].max().date()\n",
    "print('Эксперимент проводился с %s по %s.' % (first_date, last_date))"
   ]
  },
  {
   "cell_type": "code",
   "execution_count": 10,
   "metadata": {},
   "outputs": [
    {
     "data": {
      "image/png": "[encoded data removed]",
      "text/plain": [
       "<Figure size 720x360 with 1 Axes>"
      ]
     },
     "metadata": {
      "needs_background": "light"
     },
     "output_type": "display_data"
    }
   ],
   "source": [
    "plt.title('Распределение событий по дням')\n",
    "data['date'].hist(bins=30, xrot=15,  figsize=(10, 5), alpha=0.6, grid=False)\n",
    "plt.show()"
   ]
  },
  {
   "cell_type": "markdown",
   "metadata": {},
   "source": [
    "Мы выяснили, что в предоставленных данных диапазон дат с 25 июля по 7 августа, однако наиболее насыщен событиями период с 1 по 7 августа. Для дальнейшего анализа будем использовать этот уточненный временной интервал."
   ]
  },
  {
   "cell_type": "code",
   "execution_count": 11,
   "metadata": {},
   "outputs": [
    {
     "name": "stdout",
     "output_type": "stream",
     "text": [
      "Отбросили:\n",
      "2828 событий ~ 1.16 %\n",
      "17 пользователей ~ 0.23 %\n"
     ]
    }
   ],
   "source": [
    "clean_data=data.drop(data[data['date'] < '2019-08-01'].index)\n",
    "print('Отбросили:')\n",
    "print(data['event_name'].value_counts().sum() - clean_data['event_name'].value_counts().sum(), 'событий ~', \\\n",
    "      round((1 - clean_data['event_name'].value_counts().sum() / data['event_name'].value_counts().sum()) * 100, 2), '%')\n",
    "print(data['user_id'].nunique() - clean_data['user_id'].nunique(), 'пользователей ~', \\\n",
    "      round((1 - clean_data['user_id'].nunique() / data['user_id'].nunique()) * 100, 2), '%')"
   ]
  },
  {
   "cell_type": "code",
   "execution_count": 12,
   "metadata": {},
   "outputs": [
    {
     "data": {
      "text/html": [
       "<div>\n",
       "<style scoped>\n",
       "    .dataframe tbody tr th:only-of-type {\n",
       "        vertical-align: middle;\n",
       "    }\n",
       "\n",
       "    .dataframe tbody tr th {\n",
       "        vertical-align: top;\n",
       "    }\n",
       "\n",
       "    .dataframe thead tr th {\n",
       "        text-align: left;\n",
       "    }\n",
       "\n",
       "    .dataframe thead tr:last-of-type th {\n",
       "        text-align: right;\n",
       "    }\n",
       "</style>\n",
       "<table border=\"1\" class=\"dataframe\">\n",
       "  <thead>\n",
       "    <tr>\n",
       "      <th></th>\n",
       "      <th colspan=\"2\" halign=\"left\">user_id</th>\n",
       "    </tr>\n",
       "    <tr>\n",
       "      <th></th>\n",
       "      <th>count</th>\n",
       "      <th>nunique</th>\n",
       "    </tr>\n",
       "    <tr>\n",
       "      <th>exp_id</th>\n",
       "      <th></th>\n",
       "      <th></th>\n",
       "    </tr>\n",
       "  </thead>\n",
       "  <tbody>\n",
       "    <tr>\n",
       "      <th>246</th>\n",
       "      <td>79425</td>\n",
       "      <td>2484</td>\n",
       "    </tr>\n",
       "    <tr>\n",
       "      <th>247</th>\n",
       "      <td>77147</td>\n",
       "      <td>2513</td>\n",
       "    </tr>\n",
       "    <tr>\n",
       "      <th>248</th>\n",
       "      <td>84726</td>\n",
       "      <td>2537</td>\n",
       "    </tr>\n",
       "  </tbody>\n",
       "</table>\n",
       "</div>"
      ],
      "text/plain": [
       "       user_id        \n",
       "         count nunique\n",
       "exp_id                \n",
       "246      79425    2484\n",
       "247      77147    2513\n",
       "248      84726    2537"
      ]
     },
     "execution_count": 12,
     "metadata": {},
     "output_type": "execute_result"
    }
   ],
   "source": [
    "clean_data.groupby('exp_id').agg({'user_id': ['count', 'nunique']})"
   ]
  },
  {
   "cell_type": "markdown",
   "metadata": {},
   "source": [
    "После сокращения временного интервала для анализа мы потеряли допустимое количество данных. Экспериментальные группы сохранны, во всех трех содержится оптимальное количество пользователей для проведения анализа."
   ]
  },
  {
   "cell_type": "markdown",
   "metadata": {},
   "source": [
    "### <a id='toc1_3_2_'></a>[Выводы](#toc0_)\n",
    "Ознакомились с предоставленными данными и провели предобработку: привели названия колонок к нижнему регистру, избавились от дублированных строк, уточнили временной диапазон для анализа данных А/А/В-эксперимента и убедились, что данных достаточно для анализа."
   ]
  },
  {
   "cell_type": "markdown",
   "metadata": {},
   "source": [
    "## <a id='toc1_4_'></a>[Изучаем воронку событий](#toc0_)"
   ]
  },
  {
   "cell_type": "code",
   "execution_count": 13,
   "metadata": {},
   "outputs": [
    {
     "data": {
      "text/plain": [
       "event_name\n",
       "MainScreenAppear           117431\n",
       "OffersScreenAppear          46350\n",
       "CartScreenAppear            42365\n",
       "PaymentScreenSuccessful     34113\n",
       "Tutorial                     1039\n",
       "Name: user_id, dtype: int64"
      ]
     },
     "metadata": {},
     "output_type": "display_data"
    }
   ],
   "source": [
    "display(clean_data.groupby('event_name')['user_id'].count().sort_values(ascending = False))"
   ]
  },
  {
   "cell_type": "markdown",
   "metadata": {},
   "source": [
    "В предоставленных данных всего пять типов событий:\n",
    "* MainScreenAppear — главный экран,\n",
    "* OffersScreenAppear — экран предложения,\n",
    "* CartScreenAppear — корзина,\n",
    "* PaymentScreenSuccessful — страница успешной оплаты,\n",
    "* Tutorial — руководство."
   ]
  },
  {
   "cell_type": "code",
   "execution_count": 14,
   "metadata": {},
   "outputs": [
    {
     "data": {
      "text/html": [
       "<div>\n",
       "<style scoped>\n",
       "    .dataframe tbody tr th:only-of-type {\n",
       "        vertical-align: middle;\n",
       "    }\n",
       "\n",
       "    .dataframe tbody tr th {\n",
       "        vertical-align: top;\n",
       "    }\n",
       "\n",
       "    .dataframe thead th {\n",
       "        text-align: right;\n",
       "    }\n",
       "</style>\n",
       "<table border=\"1\" class=\"dataframe\">\n",
       "  <thead>\n",
       "    <tr style=\"text-align: right;\">\n",
       "      <th></th>\n",
       "      <th>index</th>\n",
       "      <th>event</th>\n",
       "      <th>events_count</th>\n",
       "      <th>users_unique</th>\n",
       "      <th>users_per</th>\n",
       "    </tr>\n",
       "  </thead>\n",
       "  <tbody>\n",
       "    <tr>\n",
       "      <th>0</th>\n",
       "      <td>1</td>\n",
       "      <td>MainScreenAppear</td>\n",
       "      <td>117431</td>\n",
       "      <td>7419</td>\n",
       "      <td>98.47</td>\n",
       "    </tr>\n",
       "    <tr>\n",
       "      <th>1</th>\n",
       "      <td>2</td>\n",
       "      <td>OffersScreenAppear</td>\n",
       "      <td>46350</td>\n",
       "      <td>4593</td>\n",
       "      <td>60.96</td>\n",
       "    </tr>\n",
       "    <tr>\n",
       "      <th>2</th>\n",
       "      <td>0</td>\n",
       "      <td>CartScreenAppear</td>\n",
       "      <td>42365</td>\n",
       "      <td>3734</td>\n",
       "      <td>49.56</td>\n",
       "    </tr>\n",
       "    <tr>\n",
       "      <th>3</th>\n",
       "      <td>3</td>\n",
       "      <td>PaymentScreenSuccessful</td>\n",
       "      <td>34113</td>\n",
       "      <td>3539</td>\n",
       "      <td>46.97</td>\n",
       "    </tr>\n",
       "    <tr>\n",
       "      <th>4</th>\n",
       "      <td>4</td>\n",
       "      <td>Tutorial</td>\n",
       "      <td>1039</td>\n",
       "      <td>840</td>\n",
       "      <td>11.15</td>\n",
       "    </tr>\n",
       "  </tbody>\n",
       "</table>\n",
       "</div>"
      ],
      "text/plain": [
       "   index                    event  events_count  users_unique  users_per\n",
       "0      1         MainScreenAppear        117431          7419      98.47\n",
       "1      2       OffersScreenAppear         46350          4593      60.96\n",
       "2      0         CartScreenAppear         42365          3734      49.56\n",
       "3      3  PaymentScreenSuccessful         34113          3539      46.97\n",
       "4      4                 Tutorial          1039           840      11.15"
      ]
     },
     "execution_count": 14,
     "metadata": {},
     "output_type": "execute_result"
    }
   ],
   "source": [
    "event_users = clean_data.pivot_table(index=['event_name'], values='user_id', aggfunc={'nunique','count'}).reset_index() #создаем сводную таблицу: события и пользователи\n",
    "event_users.columns = ['event', 'events_count', 'users_unique'] \n",
    "event_users['users_per'] = round(event_users['users_unique'] / clean_data['user_id'].nunique() * 100, 2) \n",
    "event_users = event_users.sort_values(by = 'users_per', ascending = False).reset_index() \n",
    "event_users"
   ]
  },
  {
   "cell_type": "markdown",
   "metadata": {},
   "source": [
    "Видим, как складывается цепочка действий: пользователи обращаются к главной странице, переходят на страницу предложения, затем в корзину и оплачивают заказ.\\\n",
    "К руководству обращается всего 11% пользователей; очевидно, процесс покупки для большинства пользователей понятен и без руководства. Можем исключить это событие из воронки."
   ]
  },
  {
   "cell_type": "code",
   "execution_count": 15,
   "metadata": {},
   "outputs": [],
   "source": [
    "event_users = event_users[event_users['event'] != 'Tutorial']"
   ]
  },
  {
   "cell_type": "code",
   "execution_count": 16,
   "metadata": {},
   "outputs": [
    {
     "data": {
      "text/html": [
       "<div>\n",
       "<style scoped>\n",
       "    .dataframe tbody tr th:only-of-type {\n",
       "        vertical-align: middle;\n",
       "    }\n",
       "\n",
       "    .dataframe tbody tr th {\n",
       "        vertical-align: top;\n",
       "    }\n",
       "\n",
       "    .dataframe thead th {\n",
       "        text-align: right;\n",
       "    }\n",
       "</style>\n",
       "<table border=\"1\" class=\"dataframe\">\n",
       "  <thead>\n",
       "    <tr style=\"text-align: right;\">\n",
       "      <th></th>\n",
       "      <th>index</th>\n",
       "      <th>event</th>\n",
       "      <th>events_count</th>\n",
       "      <th>users_unique</th>\n",
       "      <th>users_per</th>\n",
       "      <th>conv_per</th>\n",
       "    </tr>\n",
       "  </thead>\n",
       "  <tbody>\n",
       "    <tr>\n",
       "      <th>0</th>\n",
       "      <td>1</td>\n",
       "      <td>MainScreenAppear</td>\n",
       "      <td>117431</td>\n",
       "      <td>7419</td>\n",
       "      <td>98.47</td>\n",
       "      <td>100.00</td>\n",
       "    </tr>\n",
       "    <tr>\n",
       "      <th>1</th>\n",
       "      <td>2</td>\n",
       "      <td>OffersScreenAppear</td>\n",
       "      <td>46350</td>\n",
       "      <td>4593</td>\n",
       "      <td>60.96</td>\n",
       "      <td>61.91</td>\n",
       "    </tr>\n",
       "    <tr>\n",
       "      <th>2</th>\n",
       "      <td>0</td>\n",
       "      <td>CartScreenAppear</td>\n",
       "      <td>42365</td>\n",
       "      <td>3734</td>\n",
       "      <td>49.56</td>\n",
       "      <td>81.30</td>\n",
       "    </tr>\n",
       "    <tr>\n",
       "      <th>3</th>\n",
       "      <td>3</td>\n",
       "      <td>PaymentScreenSuccessful</td>\n",
       "      <td>34113</td>\n",
       "      <td>3539</td>\n",
       "      <td>46.97</td>\n",
       "      <td>94.77</td>\n",
       "    </tr>\n",
       "  </tbody>\n",
       "</table>\n",
       "</div>"
      ],
      "text/plain": [
       "   index                    event  events_count  users_unique  users_per  \\\n",
       "0      1         MainScreenAppear        117431          7419      98.47   \n",
       "1      2       OffersScreenAppear         46350          4593      60.96   \n",
       "2      0         CartScreenAppear         42365          3734      49.56   \n",
       "3      3  PaymentScreenSuccessful         34113          3539      46.97   \n",
       "\n",
       "   conv_per  \n",
       "0    100.00  \n",
       "1     61.91  \n",
       "2     81.30  \n",
       "3     94.77  "
      ]
     },
     "execution_count": 16,
     "metadata": {},
     "output_type": "execute_result"
    }
   ],
   "source": [
    "event_users['conv_per'] = round((event_users['users_per'] / event_users['users_per'].shift(1,fill_value = event_users['users_per'].max())) * 100, 2)\n",
    "event_users"
   ]
  },
  {
   "cell_type": "markdown",
   "metadata": {},
   "source": [
    "В столбце `conv_per` — конверсия в шаг.\\\n",
    "На главном экране были все пользователи. Из них почти 62% перешли на страницу предложения. Из перешедших 81% перешли в корзину. Из тех, кто перешел в корзину, почти 95% совершили оплату."
   ]
  },
  {
   "cell_type": "code",
   "execution_count": 17,
   "metadata": {},
   "outputs": [
    {
     "data": {
      "application/vnd.plotly.v1+json": {
       "config": {
        "plotlyServerURL": "https://plot.ly"
       },
       "data": [
        {
         "opacity": 0.6,
         "textinfo": "value+percent previous",
         "textposition": "inside",
         "type": "funnel",
         "x": [
          7419,
          4593,
          3734,
          3539
         ],
         "y": [
          "MainScreenAppear",
          "OffersScreenAppear",
          "CartScreenAppear",
          "PaymentScreenSuccessful"
         ]
        }
       ],
       "layout": {
        "autosize": false,
        "height": 600,
        "template": {
         "data": {
          "bar": [
           {
            "error_x": {
             "color": "#2a3f5f"
            },
            "error_y": {
             "color": "#2a3f5f"
            },
            "marker": {
             "line": {
              "color": "#E5ECF6",
              "width": 0.5
             },
             "pattern": {
              "fillmode": "overlay",
              "size": 10,
              "solidity": 0.2
             }
            },
            "type": "bar"
           }
          ],
          "barpolar": [
           {
            "marker": {
             "line": {
              "color": "#E5ECF6",
              "width": 0.5
             },
             "pattern": {
              "fillmode": "overlay",
              "size": 10,
              "solidity": 0.2
             }
            },
            "type": "barpolar"
           }
          ],
          "carpet": [
           {
            "aaxis": {
             "endlinecolor": "#2a3f5f",
             "gridcolor": "white",
             "linecolor": "white",
             "minorgridcolor": "white",
             "startlinecolor": "#2a3f5f"
            },
            "baxis": {
             "endlinecolor": "#2a3f5f",
             "gridcolor": "white",
             "linecolor": "white",
             "minorgridcolor": "white",
             "startlinecolor": "#2a3f5f"
            },
            "type": "carpet"
           }
          ],
          "choropleth": [
           {
            "colorbar": {
             "outlinewidth": 0,
             "ticks": ""
            },
            "type": "choropleth"
           }
          ],
          "contour": [
           {
            "colorbar": {
             "outlinewidth": 0,
             "ticks": ""
            },
            "colorscale": [
             [
              0,
              "#0d0887"
             ],
             [
              0.1111111111111111,
              "#46039f"
             ],
             [
              0.2222222222222222,
              "#7201a8"
             ],
             [
              0.3333333333333333,
              "#9c179e"
             ],
             [
              0.4444444444444444,
              "#bd3786"
             ],
             [
              0.5555555555555556,
              "#d8576b"
             ],
             [
              0.6666666666666666,
              "#ed7953"
             ],
             [
              0.7777777777777778,
              "#fb9f3a"
             ],
             [
              0.8888888888888888,
              "#fdca26"
             ],
             [
              1,
              "#f0f921"
             ]
            ],
            "type": "contour"
           }
          ],
          "contourcarpet": [
           {
            "colorbar": {
             "outlinewidth": 0,
             "ticks": ""
            },
            "type": "contourcarpet"
           }
          ],
          "heatmap": [
           {
            "colorbar": {
             "outlinewidth": 0,
             "ticks": ""
            },
            "colorscale": [
             [
              0,
              "#0d0887"
             ],
             [
              0.1111111111111111,
              "#46039f"
             ],
             [
              0.2222222222222222,
              "#7201a8"
             ],
             [
              0.3333333333333333,
              "#9c179e"
             ],
             [
              0.4444444444444444,
              "#bd3786"
             ],
             [
              0.5555555555555556,
              "#d8576b"
             ],
             [
              0.6666666666666666,
              "#ed7953"
             ],
             [
              0.7777777777777778,
              "#fb9f3a"
             ],
             [
              0.8888888888888888,
              "#fdca26"
             ],
             [
              1,
              "#f0f921"
             ]
            ],
            "type": "heatmap"
           }
          ],
          "heatmapgl": [
           {
            "colorbar": {
             "outlinewidth": 0,
             "ticks": ""
            },
            "colorscale": [
             [
              0,
              "#0d0887"
             ],
             [
              0.1111111111111111,
              "#46039f"
             ],
             [
              0.2222222222222222,
              "#7201a8"
             ],
             [
              0.3333333333333333,
              "#9c179e"
             ],
             [
              0.4444444444444444,
              "#bd3786"
             ],
             [
              0.5555555555555556,
              "#d8576b"
             ],
             [
              0.6666666666666666,
              "#ed7953"
             ],
             [
              0.7777777777777778,
              "#fb9f3a"
             ],
             [
              0.8888888888888888,
              "#fdca26"
             ],
             [
              1,
              "#f0f921"
             ]
            ],
            "type": "heatmapgl"
           }
          ],
          "histogram": [
           {
            "marker": {
             "pattern": {
              "fillmode": "overlay",
              "size": 10,
              "solidity": 0.2
             }
            },
            "type": "histogram"
           }
          ],
          "histogram2d": [
           {
            "colorbar": {
             "outlinewidth": 0,
             "ticks": ""
            },
            "colorscale": [
             [
              0,
              "#0d0887"
             ],
             [
              0.1111111111111111,
              "#46039f"
             ],
             [
              0.2222222222222222,
              "#7201a8"
             ],
             [
              0.3333333333333333,
              "#9c179e"
             ],
             [
              0.4444444444444444,
              "#bd3786"
             ],
             [
              0.5555555555555556,
              "#d8576b"
             ],
             [
              0.6666666666666666,
              "#ed7953"
             ],
             [
              0.7777777777777778,
              "#fb9f3a"
             ],
             [
              0.8888888888888888,
              "#fdca26"
             ],
             [
              1,
              "#f0f921"
             ]
            ],
            "type": "histogram2d"
           }
          ],
          "histogram2dcontour": [
           {
            "colorbar": {
             "outlinewidth": 0,
             "ticks": ""
            },
            "colorscale": [
             [
              0,
              "#0d0887"
             ],
             [
              0.1111111111111111,
              "#46039f"
             ],
             [
              0.2222222222222222,
              "#7201a8"
             ],
             [
              0.3333333333333333,
              "#9c179e"
             ],
             [
              0.4444444444444444,
              "#bd3786"
             ],
             [
              0.5555555555555556,
              "#d8576b"
             ],
             [
              0.6666666666666666,
              "#ed7953"
             ],
             [
              0.7777777777777778,
              "#fb9f3a"
             ],
             [
              0.8888888888888888,
              "#fdca26"
             ],
             [
              1,
              "#f0f921"
             ]
            ],
            "type": "histogram2dcontour"
           }
          ],
          "mesh3d": [
           {
            "colorbar": {
             "outlinewidth": 0,
             "ticks": ""
            },
            "type": "mesh3d"
           }
          ],
          "parcoords": [
           {
            "line": {
             "colorbar": {
              "outlinewidth": 0,
              "ticks": ""
             }
            },
            "type": "parcoords"
           }
          ],
          "pie": [
           {
            "automargin": true,
            "type": "pie"
           }
          ],
          "scatter": [
           {
            "marker": {
             "colorbar": {
              "outlinewidth": 0,
              "ticks": ""
             }
            },
            "type": "scatter"
           }
          ],
          "scatter3d": [
           {
            "line": {
             "colorbar": {
              "outlinewidth": 0,
              "ticks": ""
             }
            },
            "marker": {
             "colorbar": {
              "outlinewidth": 0,
              "ticks": ""
             }
            },
            "type": "scatter3d"
           }
          ],
          "scattercarpet": [
           {
            "marker": {
             "colorbar": {
              "outlinewidth": 0,
              "ticks": ""
             }
            },
            "type": "scattercarpet"
           }
          ],
          "scattergeo": [
           {
            "marker": {
             "colorbar": {
              "outlinewidth": 0,
              "ticks": ""
             }
            },
            "type": "scattergeo"
           }
          ],
          "scattergl": [
           {
            "marker": {
             "colorbar": {
              "outlinewidth": 0,
              "ticks": ""
             }
            },
            "type": "scattergl"
           }
          ],
          "scattermapbox": [
           {
            "marker": {
             "colorbar": {
              "outlinewidth": 0,
              "ticks": ""
             }
            },
            "type": "scattermapbox"
           }
          ],
          "scatterpolar": [
           {
            "marker": {
             "colorbar": {
              "outlinewidth": 0,
              "ticks": ""
             }
            },
            "type": "scatterpolar"
           }
          ],
          "scatterpolargl": [
           {
            "marker": {
             "colorbar": {
              "outlinewidth": 0,
              "ticks": ""
             }
            },
            "type": "scatterpolargl"
           }
          ],
          "scatterternary": [
           {
            "marker": {
             "colorbar": {
              "outlinewidth": 0,
              "ticks": ""
             }
            },
            "type": "scatterternary"
           }
          ],
          "surface": [
           {
            "colorbar": {
             "outlinewidth": 0,
             "ticks": ""
            },
            "colorscale": [
             [
              0,
              "#0d0887"
             ],
             [
              0.1111111111111111,
              "#46039f"
             ],
             [
              0.2222222222222222,
              "#7201a8"
             ],
             [
              0.3333333333333333,
              "#9c179e"
             ],
             [
              0.4444444444444444,
              "#bd3786"
             ],
             [
              0.5555555555555556,
              "#d8576b"
             ],
             [
              0.6666666666666666,
              "#ed7953"
             ],
             [
              0.7777777777777778,
              "#fb9f3a"
             ],
             [
              0.8888888888888888,
              "#fdca26"
             ],
             [
              1,
              "#f0f921"
             ]
            ],
            "type": "surface"
           }
          ],
          "table": [
           {
            "cells": {
             "fill": {
              "color": "#EBF0F8"
             },
             "line": {
              "color": "white"
             }
            },
            "header": {
             "fill": {
              "color": "#C8D4E3"
             },
             "line": {
              "color": "white"
             }
            },
            "type": "table"
           }
          ]
         },
         "layout": {
          "annotationdefaults": {
           "arrowcolor": "#2a3f5f",
           "arrowhead": 0,
           "arrowwidth": 1
          },
          "autotypenumbers": "strict",
          "coloraxis": {
           "colorbar": {
            "outlinewidth": 0,
            "ticks": ""
           }
          },
          "colorscale": {
           "diverging": [
            [
             0,
             "#8e0152"
            ],
            [
             0.1,
             "#c51b7d"
            ],
            [
             0.2,
             "#de77ae"
            ],
            [
             0.3,
             "#f1b6da"
            ],
            [
             0.4,
             "#fde0ef"
            ],
            [
             0.5,
             "#f7f7f7"
            ],
            [
             0.6,
             "#e6f5d0"
            ],
            [
             0.7,
             "#b8e186"
            ],
            [
             0.8,
             "#7fbc41"
            ],
            [
             0.9,
             "#4d9221"
            ],
            [
             1,
             "#276419"
            ]
           ],
           "sequential": [
            [
             0,
             "#0d0887"
            ],
            [
             0.1111111111111111,
             "#46039f"
            ],
            [
             0.2222222222222222,
             "#7201a8"
            ],
            [
             0.3333333333333333,
             "#9c179e"
            ],
            [
             0.4444444444444444,
             "#bd3786"
            ],
            [
             0.5555555555555556,
             "#d8576b"
            ],
            [
             0.6666666666666666,
             "#ed7953"
            ],
            [
             0.7777777777777778,
             "#fb9f3a"
            ],
            [
             0.8888888888888888,
             "#fdca26"
            ],
            [
             1,
             "#f0f921"
            ]
           ],
           "sequentialminus": [
            [
             0,
             "#0d0887"
            ],
            [
             0.1111111111111111,
             "#46039f"
            ],
            [
             0.2222222222222222,
             "#7201a8"
            ],
            [
             0.3333333333333333,
             "#9c179e"
            ],
            [
             0.4444444444444444,
             "#bd3786"
            ],
            [
             0.5555555555555556,
             "#d8576b"
            ],
            [
             0.6666666666666666,
             "#ed7953"
            ],
            [
             0.7777777777777778,
             "#fb9f3a"
            ],
            [
             0.8888888888888888,
             "#fdca26"
            ],
            [
             1,
             "#f0f921"
            ]
           ]
          },
          "colorway": [
           "#636efa",
           "#EF553B",
           "#00cc96",
           "#ab63fa",
           "#FFA15A",
           "#19d3f3",
           "#FF6692",
           "#B6E880",
           "#FF97FF",
           "#FECB52"
          ],
          "font": {
           "color": "#2a3f5f"
          },
          "geo": {
           "bgcolor": "white",
           "lakecolor": "white",
           "landcolor": "#E5ECF6",
           "showlakes": true,
           "showland": true,
           "subunitcolor": "white"
          },
          "hoverlabel": {
           "align": "left"
          },
          "hovermode": "closest",
          "mapbox": {
           "style": "light"
          },
          "paper_bgcolor": "white",
          "plot_bgcolor": "#E5ECF6",
          "polar": {
           "angularaxis": {
            "gridcolor": "white",
            "linecolor": "white",
            "ticks": ""
           },
           "bgcolor": "#E5ECF6",
           "radialaxis": {
            "gridcolor": "white",
            "linecolor": "white",
            "ticks": ""
           }
          },
          "scene": {
           "xaxis": {
            "backgroundcolor": "#E5ECF6",
            "gridcolor": "white",
            "gridwidth": 2,
            "linecolor": "white",
            "showbackground": true,
            "ticks": "",
            "zerolinecolor": "white"
           },
           "yaxis": {
            "backgroundcolor": "#E5ECF6",
            "gridcolor": "white",
            "gridwidth": 2,
            "linecolor": "white",
            "showbackground": true,
            "ticks": "",
            "zerolinecolor": "white"
           },
           "zaxis": {
            "backgroundcolor": "#E5ECF6",
            "gridcolor": "white",
            "gridwidth": 2,
            "linecolor": "white",
            "showbackground": true,
            "ticks": "",
            "zerolinecolor": "white"
           }
          },
          "shapedefaults": {
           "line": {
            "color": "#2a3f5f"
           }
          },
          "ternary": {
           "aaxis": {
            "gridcolor": "white",
            "linecolor": "white",
            "ticks": ""
           },
           "baxis": {
            "gridcolor": "white",
            "linecolor": "white",
            "ticks": ""
           },
           "bgcolor": "#E5ECF6",
           "caxis": {
            "gridcolor": "white",
            "linecolor": "white",
            "ticks": ""
           }
          },
          "title": {
           "x": 0.05
          },
          "xaxis": {
           "automargin": true,
           "gridcolor": "white",
           "linecolor": "white",
           "ticks": "",
           "title": {
            "standoff": 15
           },
           "zerolinecolor": "white",
           "zerolinewidth": 2
          },
          "yaxis": {
           "automargin": true,
           "gridcolor": "white",
           "linecolor": "white",
           "ticks": "",
           "title": {
            "standoff": 15
           },
           "zerolinecolor": "white",
           "zerolinewidth": 2
          }
         }
        },
        "title": {
         "text": "Воронка событий"
        },
        "width": 800
       }
      }
     },
     "metadata": {},
     "output_type": "display_data"
    }
   ],
   "source": [
    "fig = go.Figure(go.Funnel(y = event_users['event'],\n",
    "                          x = event_users['users_unique'],\n",
    "                          opacity = 0.6,\n",
    "                          textposition = 'inside',\n",
    "                          textinfo = 'value + percent previous'))\n",
    "fig.update_layout(title_text='Воронка событий', autosize=False, width=800, height=600)\n",
    "fig.show()"
   ]
  },
  {
   "cell_type": "code",
   "execution_count": 18,
   "metadata": {},
   "outputs": [
    {
     "data": {
      "text/html": [
       "<div>\n",
       "<style scoped>\n",
       "    .dataframe tbody tr th:only-of-type {\n",
       "        vertical-align: middle;\n",
       "    }\n",
       "\n",
       "    .dataframe tbody tr th {\n",
       "        vertical-align: top;\n",
       "    }\n",
       "\n",
       "    .dataframe thead th {\n",
       "        text-align: right;\n",
       "    }\n",
       "</style>\n",
       "<table border=\"1\" class=\"dataframe\">\n",
       "  <thead>\n",
       "    <tr style=\"text-align: right;\">\n",
       "      <th></th>\n",
       "      <th>index</th>\n",
       "      <th>event</th>\n",
       "      <th>events_count</th>\n",
       "      <th>users_unique</th>\n",
       "      <th>users_per</th>\n",
       "      <th>conv_per</th>\n",
       "      <th>loss</th>\n",
       "    </tr>\n",
       "  </thead>\n",
       "  <tbody>\n",
       "    <tr>\n",
       "      <th>0</th>\n",
       "      <td>1</td>\n",
       "      <td>MainScreenAppear</td>\n",
       "      <td>117431</td>\n",
       "      <td>7419</td>\n",
       "      <td>98.47</td>\n",
       "      <td>100.00</td>\n",
       "      <td>NaN</td>\n",
       "    </tr>\n",
       "    <tr>\n",
       "      <th>1</th>\n",
       "      <td>2</td>\n",
       "      <td>OffersScreenAppear</td>\n",
       "      <td>46350</td>\n",
       "      <td>4593</td>\n",
       "      <td>60.96</td>\n",
       "      <td>61.91</td>\n",
       "      <td>-38.09</td>\n",
       "    </tr>\n",
       "    <tr>\n",
       "      <th>2</th>\n",
       "      <td>0</td>\n",
       "      <td>CartScreenAppear</td>\n",
       "      <td>42365</td>\n",
       "      <td>3734</td>\n",
       "      <td>49.56</td>\n",
       "      <td>81.30</td>\n",
       "      <td>19.39</td>\n",
       "    </tr>\n",
       "    <tr>\n",
       "      <th>3</th>\n",
       "      <td>3</td>\n",
       "      <td>PaymentScreenSuccessful</td>\n",
       "      <td>34113</td>\n",
       "      <td>3539</td>\n",
       "      <td>46.97</td>\n",
       "      <td>94.77</td>\n",
       "      <td>13.47</td>\n",
       "    </tr>\n",
       "  </tbody>\n",
       "</table>\n",
       "</div>"
      ],
      "text/plain": [
       "   index                    event  events_count  users_unique  users_per  \\\n",
       "0      1         MainScreenAppear        117431          7419      98.47   \n",
       "1      2       OffersScreenAppear         46350          4593      60.96   \n",
       "2      0         CartScreenAppear         42365          3734      49.56   \n",
       "3      3  PaymentScreenSuccessful         34113          3539      46.97   \n",
       "\n",
       "   conv_per   loss  \n",
       "0    100.00    NaN  \n",
       "1     61.91 -38.09  \n",
       "2     81.30  19.39  \n",
       "3     94.77  13.47  "
      ]
     },
     "execution_count": 18,
     "metadata": {},
     "output_type": "execute_result"
    }
   ],
   "source": [
    "event_users['loss'] = (event_users['conv_per'] - event_users['conv_per'].shift(1))\n",
    "event_users"
   ]
  },
  {
   "cell_type": "markdown",
   "metadata": {},
   "source": [
    "В столбце `loss` — потеря между шагами.\\\n",
    "Больше всего пользователей (38%) теряем на этапе появления предложения. "
   ]
  },
  {
   "cell_type": "code",
   "execution_count": 19,
   "metadata": {},
   "outputs": [
    {
     "name": "stdout",
     "output_type": "stream",
     "text": [
      "От первого события до оплаты доходит 47.7 %\n"
     ]
    }
   ],
   "source": [
    "print('От первого события до оплаты доходит', \\\n",
    "      round(event_users[event_users['event'] == 'PaymentScreenSuccessful']['users_unique'][3] / \\\n",
    "            event_users[event_users['event'] == 'MainScreenAppear']['users_unique'][0] * 100, 2),'%')"
   ]
  },
  {
   "cell_type": "markdown",
   "metadata": {},
   "source": [
    "### <a id='toc1_4_1_'></a>[Выводы](#toc0_)\n",
    "Построили и визуализировали воронку событий, изучили движение пользователей по воронке. Оказалось, что всего 11% пользователей заглядывают в руководство — поэтому это событие исключили из воронки.\\\n",
    "Больше всего пользователей теряем на этапе появления предложения — 38%.\\\n",
    "От первого события до оплаты доходит почти 48% пользователей."
   ]
  },
  {
   "cell_type": "markdown",
   "metadata": {},
   "source": [
    "## <a id='toc1_5_'></a>[Изучаем результаты эксперимента](#toc0_)"
   ]
  },
  {
   "cell_type": "markdown",
   "metadata": {},
   "source": [
    "Перед тем как начать A/B-тест, убедимся, что:\n",
    "* на результаты не влияют аномалии и выбросы в генеральной совокупности;\n",
    "* инструмент «деления» трафика работает безошибочно;\n",
    "* данные отправляются в системы аналитики корректно.\n",
    "Для этого проведем A/A-тест.\n",
    "\n",
    "Критерии успешного A/A-теста: \n",
    "* Количество пользователей в различных группах различается не более, чем на 1%;\n",
    "* Для всех групп фиксируют и отправляют в системы аналитики данные об одном и том же;\n",
    "* Различие ключевых метрик по группам не превышает 1% и не имеет статистической значимости;\n",
    "* Попавший в одну из групп посетитель остаётся в этой группе до конца теста. Если пользователь видит разные версии исследуемой страницы в ходе одного исследования, неизвестно, какая именно повлияла на его решения. Значит, и результаты такого теста нельзя интерпретировать однозначно."
   ]
  },
  {
   "cell_type": "code",
   "execution_count": 20,
   "metadata": {},
   "outputs": [
    {
     "name": "stdout",
     "output_type": "stream",
     "text": [
      "   group_id  unique_users_amount\n",
      "0       246                 2484\n",
      "1       247                 2513\n",
      "2       248                 2537\n",
      "Пользователей, входящих более чем в одну группу теста: 0\n"
     ]
    }
   ],
   "source": [
    "users_by_groups = clean_data.pivot_table(index=['exp_id'], values='user_id', aggfunc={'nunique'}).reset_index()\n",
    "users_by_groups.columns = ['group_id', 'unique_users_amount']\n",
    "print(users_by_groups)\n",
    "\n",
    "uniq_user_group = clean_data.groupby('user_id').agg({'exp_id':'nunique'})\n",
    "print('Пользователей, входящих более чем в одну группу теста:',\\\n",
    "      uniq_user_group[uniq_user_group['exp_id'] > 1]['exp_id'].count())"
   ]
  },
  {
   "cell_type": "code",
   "execution_count": 21,
   "metadata": {},
   "outputs": [
    {
     "data": {
      "text/html": [
       "<div>\n",
       "<style scoped>\n",
       "    .dataframe tbody tr th:only-of-type {\n",
       "        vertical-align: middle;\n",
       "    }\n",
       "\n",
       "    .dataframe tbody tr th {\n",
       "        vertical-align: top;\n",
       "    }\n",
       "\n",
       "    .dataframe thead th {\n",
       "        text-align: right;\n",
       "    }\n",
       "</style>\n",
       "<table border=\"1\" class=\"dataframe\">\n",
       "  <thead>\n",
       "    <tr style=\"text-align: right;\">\n",
       "      <th></th>\n",
       "      <th>index</th>\n",
       "      <th>event_name</th>\n",
       "      <th>246</th>\n",
       "      <th>247</th>\n",
       "      <th>248</th>\n",
       "    </tr>\n",
       "  </thead>\n",
       "  <tbody>\n",
       "    <tr>\n",
       "      <th>0</th>\n",
       "      <td>1</td>\n",
       "      <td>MainScreenAppear</td>\n",
       "      <td>2450</td>\n",
       "      <td>2476</td>\n",
       "      <td>2493</td>\n",
       "    </tr>\n",
       "    <tr>\n",
       "      <th>1</th>\n",
       "      <td>2</td>\n",
       "      <td>OffersScreenAppear</td>\n",
       "      <td>1542</td>\n",
       "      <td>1520</td>\n",
       "      <td>1531</td>\n",
       "    </tr>\n",
       "    <tr>\n",
       "      <th>2</th>\n",
       "      <td>0</td>\n",
       "      <td>CartScreenAppear</td>\n",
       "      <td>1266</td>\n",
       "      <td>1238</td>\n",
       "      <td>1230</td>\n",
       "    </tr>\n",
       "    <tr>\n",
       "      <th>3</th>\n",
       "      <td>3</td>\n",
       "      <td>PaymentScreenSuccessful</td>\n",
       "      <td>1200</td>\n",
       "      <td>1158</td>\n",
       "      <td>1181</td>\n",
       "    </tr>\n",
       "  </tbody>\n",
       "</table>\n",
       "</div>"
      ],
      "text/plain": [
       "   index               event_name   246   247   248\n",
       "0      1         MainScreenAppear  2450  2476  2493\n",
       "1      2       OffersScreenAppear  1542  1520  1531\n",
       "2      0         CartScreenAppear  1266  1238  1230\n",
       "3      3  PaymentScreenSuccessful  1200  1158  1181"
      ]
     },
     "execution_count": 21,
     "metadata": {},
     "output_type": "execute_result"
    }
   ],
   "source": [
    "# посчитаем число пользователей, совершивших событие в каждой из контрольных групп\n",
    "events_groups = clean_data.pivot_table(index=['event_name'], values='user_id', columns='exp_id', aggfunc={'nunique'}).reset_index()\n",
    "# переименуем столбцы\n",
    "events_groups.columns = ['event_name', '246', '247', '248']\n",
    "events_groups = events_groups.sort_values(by='248', ascending=False).reset_index()\n",
    "events_groups = events_groups[events_groups['event_name'] != 'Tutorial']\n",
    "events_groups"
   ]
  },
  {
   "cell_type": "markdown",
   "metadata": {},
   "source": [
    "Проведем А/А-тест: сравним две контрольные группы между собой по событиям. Для этого используем z-критерий Фишера так как сравниваем две независимые выборки большого размера. Критический уровень статистической значимости примем равным 5%.\\\n",
    "Будем сравнивать группы по каждому событию: всего у нас четыре события. Чтобы не допустить ошибку первого рода при множественном сравнении и не отвергнуть нулевую гипотезу, используем поправку Бонферрони."
   ]
  },
  {
   "cell_type": "code",
   "execution_count": 22,
   "metadata": {},
   "outputs": [],
   "source": [
    "#Функция принимает на вход данные о двух группах и событии, по которому сравниваем группы,\n",
    "#критический уровень статистической значимости, поправку Бонферрони для крит. уровня стат. значимости.\n",
    "\n",
    "def z_test(group1, group2, event, alpha, n):\n",
    "  bonferroni_alpha = alpha / n # критический уровень статистической значимости c поправкой Бонферрони\n",
    "  \n",
    "  n_users = np.array([group1['user_id'].nunique(), \n",
    "                        group2['user_id'].nunique()]) # количество пользователей в группах\n",
    "  \n",
    "  success = np.array([group1[group1['event_name'] == event]['user_id'].nunique(), \n",
    "                        group2[group2['event_name'] == event]['user_id'].nunique()]) # количество пользователей, совершивших действие\n",
    "    \n",
    "  p1 = success[0]/n_users[0]\n",
    "  p2 = success[1]/n_users[1] # пропорции успехов в группах\n",
    "    \n",
    "  p_combined = (success[0] + success[1]) / (n_users[0] + n_users[1])\n",
    "\n",
    "  difference = p1 - p2\n",
    "\n",
    "  z_value = difference / np.sqrt(p_combined * (1 - p_combined) * (1/n_users[0] + 1/n_users[1]))\n",
    "\n",
    "  distr = st.norm(0, 1) # задаем стандартное нормальное распределение (среднее 0, ст.отклонение 1)  \n",
    "\n",
    "  p_value = (1 - distr.cdf(abs(z_value))) * 2   #тест двусторонний, удваиваем результат\n",
    "    \n",
    "  print('Событие:', event)\n",
    "  print('p-значение: ', round(p_value, 3))\n",
    "\n",
    "  if p_value < bonferroni_alpha:\n",
    "      print('Отвергаем нулевую гипотезу: есть статистически значимое различие между группами')\n",
    "  else:\n",
    "      print('Не получилось отвергнуть нулевую гипотезу: нет статистически значимого различия между группами') "
   ]
  },
  {
   "cell_type": "markdown",
   "metadata": {},
   "source": [
    "Сравним 246 и 247 группы между собой по четырем событиям.\\\n",
    "Гипотезы:\\\n",
    "H0: статистической значимости между группами нет.\\\n",
    "H1: есть статистическая значимость между группами.\n",
    "\n",
    "В А/А тесте мы ожидаем увидеть полное отсутствие различий: пользователи обеих контрольных групп видели приложение с одним и тем же шрифтом.\\\n",
    "Так как всего нам предстоит 16 проверок гипотез (А/А, А/В с двумя контрольными и А/А/В по четырем событиям), в качестве поправки Бонферрони используем 16."
   ]
  },
  {
   "cell_type": "code",
   "execution_count": 23,
   "metadata": {},
   "outputs": [
    {
     "name": "stdout",
     "output_type": "stream",
     "text": [
      "Событие:"
     ]
    },
    {
     "name": "stdout",
     "output_type": "stream",
     "text": [
      " MainScreenAppear\n",
      "p-значение:  0.757\n",
      "Не получилось отвергнуть нулевую гипотезу: нет статистически значимого различия между группами\n",
      "\n",
      "Событие: OffersScreenAppear\n",
      "p-значение:  0.248\n",
      "Не получилось отвергнуть нулевую гипотезу: нет статистически значимого различия между группами\n",
      "\n",
      "Событие: CartScreenAppear\n",
      "p-значение:  0.229\n",
      "Не получилось отвергнуть нулевую гипотезу: нет статистически значимого различия между группами\n",
      "\n",
      "Событие: PaymentScreenSuccessful\n",
      "p-значение:  0.115\n",
      "Не получилось отвергнуть нулевую гипотезу: нет статистически значимого различия между группами\n",
      "\n"
     ]
    }
   ],
   "source": [
    "for event in events_groups['event_name'].unique():\n",
    "    z_test(clean_data[clean_data['exp_id'] == 246], clean_data[clean_data['exp_id'] == 247], event,.05, 16)\n",
    "    print()"
   ]
  },
  {
   "cell_type": "markdown",
   "metadata": {},
   "source": [
    "В результате А/А-теста видим, что по всем четырем событиям контрольные группы 246 и 247 не имеют статистически значимых различий. Можем проводить А/В-тест.\n",
    "\n",
    "В А/В-тесте будем сравнивать попарно каждую контрольную группу с тестовой группой, а также объединенную контрольную группу с тестовой; всего 12 сравнений. Поправка Бонферрони остается прежняя: 16."
   ]
  },
  {
   "cell_type": "code",
   "execution_count": 24,
   "metadata": {},
   "outputs": [
    {
     "name": "stdout",
     "output_type": "stream",
     "text": [
      "Событие: MainScreenAppear\n",
      "p-значение:  0.295\n",
      "Не получилось отвергнуть нулевую гипотезу: нет статистически значимого различия между группами\n",
      "\n",
      "Событие: OffersScreenAppear\n",
      "p-значение:  0.208\n",
      "Не получилось отвергнуть нулевую гипотезу: нет статистически значимого различия между группами\n",
      "\n",
      "Событие: CartScreenAppear\n",
      "p-значение:  0.078\n",
      "Не получилось отвергнуть нулевую гипотезу: нет статистически значимого различия между группами\n",
      "\n",
      "Событие: PaymentScreenSuccessful\n",
      "p-значение:  0.212\n",
      "Не получилось отвергнуть нулевую гипотезу: нет статистически значимого различия между группами\n",
      "\n"
     ]
    }
   ],
   "source": [
    "for event in events_groups['event_name'].unique():\n",
    "    z_test(clean_data[clean_data['exp_id'] == 246], clean_data[clean_data['exp_id'] == 248], event,.05, 16)\n",
    "    print()"
   ]
  },
  {
   "cell_type": "markdown",
   "metadata": {},
   "source": [
    "При заданном уровне значимости контрольная группа 246 и тестовая группа 248 не имеют статистически значимых различий при сравнении по событиям."
   ]
  },
  {
   "cell_type": "code",
   "execution_count": 25,
   "metadata": {},
   "outputs": [
    {
     "name": "stdout",
     "output_type": "stream",
     "text": [
      "Событие: MainScreenAppear\n",
      "p-значение:  0.459\n",
      "Не получилось отвергнуть нулевую гипотезу: нет статистически значимого различия между группами\n",
      "\n",
      "Событие: OffersScreenAppear\n",
      "p-значение:  0.92\n",
      "Не получилось отвергнуть нулевую гипотезу: нет статистически значимого различия между группами\n",
      "\n",
      "Событие: CartScreenAppear\n",
      "p-значение:  0.579\n",
      "Не получилось отвергнуть нулевую гипотезу: нет статистически значимого различия между группами\n",
      "\n",
      "Событие: PaymentScreenSuccessful\n",
      "p-значение:  0.737\n",
      "Не получилось отвергнуть нулевую гипотезу: нет статистически значимого различия между группами\n",
      "\n"
     ]
    }
   ],
   "source": [
    "for event in events_groups['event_name'].unique():\n",
    "    z_test(clean_data[clean_data['exp_id'] == 247], clean_data[clean_data['exp_id'] == 248], event,.05, 16)\n",
    "    print()"
   ]
  },
  {
   "cell_type": "markdown",
   "metadata": {},
   "source": [
    "При заданном уровне значимости контрольная группа 247 и тестовая группа 248 не имеют статистически значимых различий при сравнении по событиям."
   ]
  },
  {
   "cell_type": "code",
   "execution_count": 26,
   "metadata": {},
   "outputs": [
    {
     "name": "stdout",
     "output_type": "stream",
     "text": [
      "Событие: MainScreenAppear\n",
      "p-значение:  0.294\n",
      "Не получилось отвергнуть нулевую гипотезу: нет статистически значимого различия между группами\n",
      "\n",
      "Событие: OffersScreenAppear\n",
      "p-значение:  0.434\n",
      "Не получилось отвергнуть нулевую гипотезу: нет статистически значимого различия между группами\n",
      "\n",
      "Событие: CartScreenAppear\n",
      "p-значение:  0.182\n",
      "Не получилось отвергнуть нулевую гипотезу: нет статистически значимого различия между группами\n",
      "\n",
      "Событие: PaymentScreenSuccessful\n",
      "p-значение:  0.6\n",
      "Не получилось отвергнуть нулевую гипотезу: нет статистически значимого различия между группами\n",
      "\n"
     ]
    }
   ],
   "source": [
    "for event in events_groups['event_name'].unique():\n",
    "    z_test(clean_data[clean_data['exp_id'] != 248], clean_data[clean_data['exp_id'] == 248], event,.05, 16)\n",
    "    print()"
   ]
  },
  {
   "cell_type": "markdown",
   "metadata": {},
   "source": [
    "При заданном уровне значимости объединенная контрольная и тестовая группа 248 не имеют статистически значимых различий при сравнении по событиям."
   ]
  },
  {
   "cell_type": "markdown",
   "metadata": {},
   "source": [
    "### <a id='toc1_5_1_'></a>[Вывод](#toc0_)\n",
    "По результатам А/А/В-теста, проведенного в период с 1 по 7 августа, статистически значимых различий в действиях пользователей из двух контрольных и одной тестовой группы нет, изменение шрифта не повлияло на поведение пользователей."
   ]
  },
  {
   "cell_type": "markdown",
   "metadata": {},
   "source": [
    "## <a id='toc1_6_'></a>[Общие выводы по проекту](#toc0_)\n",
    "Мы изучили данные о работе приложения сервиса продажи продуктов питания. Нас интересовало, влияет ли смена шрифта в приложении на поведение пользователей.\n",
    "* Для анализа были выведены три группы пользователей: две контрольные и одна экспериментальная, всего 7551 пользователь.\n",
    "* Временной интервал для анализа: одна неделя, с 1 по 7 августа 2019 года.\n",
    "* Событийная воронка выглядит так: пользователи обращаются к главной странице, переходят на страницу предложения, затем в корзину и оплачивают заказ. Мы исключили событие Tutorial (Руководство) из воронки, так как оно происходило всего у 11% пользователей.\n",
    "* Больше всего пользователей — 38% — теряем на этапе появления на экране предложения.\n",
    "* От первого события до оплаты доходит 47,7% пользователей.\n",
    "* Провели А/А-тест: сравнили между собой контрольные группы по событиям, тем самым убедились в достоверности предоставленных данных.\n",
    "* Провели А/А/В-тест с применением z-критерия Фишера для двух независимых выборок большого размера. Также применили поправку Бонферрони чтобы не допустить ошибку первого рода при множественных сравнениях.\n",
    "* Всего провели 16 статистических проверок между двумя контрольными и одной экспериментальной группой для того, чтобы выявить статистически значимое различие в поведении пользователей.\n",
    "\n",
    "**По результатам А/А/В-теста, проведенного в период с 1 по 7 августа, статистически значимых различий в действиях пользователей из двух контрольных и одной тестовой группы нет, изменение шрифта не повлияло на поведение пользователей.**\n",
    "\n",
    "\n"
   ]
  }
 ],
 "metadata": {
  "ExecuteTimeLog": [
   {
    "duration": 51,
    "start_time": "2024-03-19T09:39:21.257Z"
   },
   {
    "duration": 1889,
    "start_time": "2024-03-19T09:39:32.917Z"
   },
   {
    "duration": 72,
    "start_time": "2024-03-19T09:39:48.375Z"
   },
   {
    "duration": 50,
    "start_time": "2024-03-19T09:40:00.702Z"
   },
   {
    "duration": 1128,
    "start_time": "2024-03-19T09:40:14.468Z"
   },
   {
    "duration": 763,
    "start_time": "2024-03-19T09:40:15.599Z"
   },
   {
    "duration": 9,
    "start_time": "2024-03-19T09:40:16.364Z"
   },
   {
    "duration": 147,
    "start_time": "2024-03-19T09:40:16.375Z"
   },
   {
    "duration": 44,
    "start_time": "2024-03-19T09:40:16.524Z"
   },
   {
    "duration": 71,
    "start_time": "2024-03-19T09:40:16.570Z"
   },
   {
    "duration": 7,
    "start_time": "2024-03-19T09:40:16.642Z"
   },
   {
    "duration": 45,
    "start_time": "2024-03-19T09:40:16.651Z"
   },
   {
    "duration": 10,
    "start_time": "2024-03-19T09:40:16.703Z"
   },
   {
    "duration": 349,
    "start_time": "2024-03-19T09:40:16.715Z"
   },
   {
    "duration": 129,
    "start_time": "2024-03-19T09:40:17.065Z"
   },
   {
    "duration": 59,
    "start_time": "2024-03-19T09:40:17.195Z"
   },
   {
    "duration": 23,
    "start_time": "2024-03-19T09:40:17.256Z"
   },
   {
    "duration": 107,
    "start_time": "2024-03-19T09:40:17.281Z"
   },
   {
    "duration": 3,
    "start_time": "2024-03-19T09:40:17.390Z"
   },
   {
    "duration": 12,
    "start_time": "2024-03-19T09:40:17.414Z"
   },
   {
    "duration": 209,
    "start_time": "2024-03-19T09:40:17.427Z"
   },
   {
    "duration": 12,
    "start_time": "2024-03-19T09:40:17.638Z"
   },
   {
    "duration": 8,
    "start_time": "2024-03-19T09:40:17.651Z"
   },
   {
    "duration": 170,
    "start_time": "2024-03-19T09:40:17.661Z"
   },
   {
    "duration": 88,
    "start_time": "2024-03-19T09:40:17.833Z"
   },
   {
    "duration": 6,
    "start_time": "2024-03-19T09:40:17.922Z"
   },
   {
    "duration": 130,
    "start_time": "2024-03-19T09:40:17.930Z"
   },
   {
    "duration": 121,
    "start_time": "2024-03-19T09:40:18.063Z"
   },
   {
    "duration": 119,
    "start_time": "2024-03-19T09:40:18.185Z"
   },
   {
    "duration": 158,
    "start_time": "2024-03-19T09:40:18.306Z"
   },
   {
    "duration": 16,
    "start_time": "2024-03-19T09:42:41.136Z"
   },
   {
    "duration": 102,
    "start_time": "2024-03-19T09:45:16.137Z"
   },
   {
    "duration": 122,
    "start_time": "2024-03-19T09:45:40.300Z"
   },
   {
    "duration": 118,
    "start_time": "2024-03-19T09:45:46.829Z"
   },
   {
    "duration": 146,
    "start_time": "2024-03-19T09:45:54.879Z"
   },
   {
    "duration": 1189,
    "start_time": "2024-03-19T09:47:33.399Z"
   },
   {
    "duration": 486,
    "start_time": "2024-03-19T09:47:34.590Z"
   },
   {
    "duration": 10,
    "start_time": "2024-03-19T09:47:35.078Z"
   },
   {
    "duration": 136,
    "start_time": "2024-03-19T09:47:35.090Z"
   },
   {
    "duration": 43,
    "start_time": "2024-03-19T09:47:35.228Z"
   },
   {
    "duration": 72,
    "start_time": "2024-03-19T09:47:35.272Z"
   },
   {
    "duration": 7,
    "start_time": "2024-03-19T09:47:35.346Z"
   },
   {
    "duration": 8,
    "start_time": "2024-03-19T09:47:35.354Z"
   },
   {
    "duration": 8,
    "start_time": "2024-03-19T09:47:35.363Z"
   },
   {
    "duration": 345,
    "start_time": "2024-03-19T09:47:35.373Z"
   },
   {
    "duration": 145,
    "start_time": "2024-03-19T09:47:35.720Z"
   },
   {
    "duration": 60,
    "start_time": "2024-03-19T09:47:35.867Z"
   },
   {
    "duration": 23,
    "start_time": "2024-03-19T09:47:35.929Z"
   },
   {
    "duration": 99,
    "start_time": "2024-03-19T09:47:35.955Z"
   },
   {
    "duration": 4,
    "start_time": "2024-03-19T09:47:36.055Z"
   },
   {
    "duration": 14,
    "start_time": "2024-03-19T09:47:36.061Z"
   },
   {
    "duration": 170,
    "start_time": "2024-03-19T09:47:36.076Z"
   },
   {
    "duration": 12,
    "start_time": "2024-03-19T09:47:36.248Z"
   },
   {
    "duration": 14,
    "start_time": "2024-03-19T09:47:36.262Z"
   },
   {
    "duration": 43,
    "start_time": "2024-03-19T09:47:36.279Z"
   },
   {
    "duration": 133,
    "start_time": "2024-03-19T09:47:36.324Z"
   },
   {
    "duration": 97,
    "start_time": "2024-03-19T09:47:36.459Z"
   },
   {
    "duration": 6,
    "start_time": "2024-03-19T09:47:36.558Z"
   },
   {
    "duration": 117,
    "start_time": "2024-03-19T09:47:36.565Z"
   },
   {
    "duration": 114,
    "start_time": "2024-03-19T09:47:36.684Z"
   },
   {
    "duration": 122,
    "start_time": "2024-03-19T09:47:36.800Z"
   },
   {
    "duration": 150,
    "start_time": "2024-03-19T09:47:36.923Z"
   },
   {
    "duration": 108,
    "start_time": "2024-03-19T09:49:43.985Z"
   }
  ],
  "kernelspec": {
   "display_name": "Python 3 (ipykernel)",
   "language": "python",
   "name": "python3"
  },
  "language_info": {
   "codemirror_mode": {
    "name": "ipython",
    "version": 3
   },
   "file_extension": ".py",
   "mimetype": "text/x-python",
   "name": "python",
   "nbconvert_exporter": "python",
   "pygments_lexer": "ipython3",
   "version": "3.9.5"
  },
  "toc": {
   "base_numbering": 1,
   "nav_menu": {},
   "number_sections": true,
   "sideBar": true,
   "skip_h1_title": true,
   "title_cell": "Table of Contents",
   "title_sidebar": "Contents",
   "toc_cell": false,
   "toc_position": {},
   "toc_section_display": true,
   "toc_window_display": false
  }
 },
 "nbformat": 4,
 "nbformat_minor": 2
}
