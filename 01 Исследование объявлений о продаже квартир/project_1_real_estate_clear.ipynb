{
 "cells": [
  {
   "cell_type": "markdown",
   "id": "761f4cdf-a005-4dfd-bca4-7347936b14c4",
   "metadata": {},
   "source": [
    "# Проект: Исследовательский анализ данных\n",
    "## Исследование объявлений о продаже квартир\n",
    "\n",
    "В вашем распоряжении данные сервиса Яндекс Недвижимость — архив объявлений о продаже квартир в Санкт-Петербурге и соседних населённых пунктах за несколько лет. Нужно научиться определять рыночную стоимость объектов недвижимости. Ваша задача — провести исследовательский анализ данных, который поможет установить параметры, влияющие на цену объектов. Это позволит построить автоматизированную систему: она отследит аномалии и мошенническую деятельность.\\\n",
    "По каждой квартире на продажу доступны два вида данных. Первые вписаны пользователем, вторые — получены автоматически на основе картографических данных. Например, расстояние до центра, аэропорта и других объектов — эти данные автоматически получены из геосервисов. Количество парков и водоёмов также заполняется без участия пользователя.\n",
    "\n",
    "## Описание данных\n",
    "\n",
    "`total_images` — число фотографий квартиры в объявлении \\\n",
    "`last_price` — цена на момент снятия с публикации \\\n",
    "`total_area` — общая площадь квартиры в квадратных метрах (м²) \\\n",
    "`first_day_exposition` — дата публикации \\\n",
    "`rooms` — число комнат \\\n",
    "`ceiling_height` — высота потолков (м) \\\n",
    "`floors_total` — всего этажей в доме (float64) \\\n",
    "`living_area` — жилая площадь в квадратных метрах (м²) \\\n",
    "`floor` — этаж \\\n",
    "`is_apartment` — апартаменты \\\n",
    "`studio` — квартира-студия \\\n",
    "`open_plan` — свободная планировка \\\n",
    "`kitchen_area` — площадь кухни в квадратных метрах (м²) \\\n",
    "`balcony` — число балконов \\\n",
    "`locality_name` — название населённого пункта \\\n",
    "`airports_nearest` — расстояние до ближайшего аэропорта в метрах (м) \\\n",
    "`cityCenters_nearest` — расстояние до центра города (м) \\\n",
    "`parks_around3000` — число парков в радиусе 3 км \\\n",
    "`parks_nearest` — расстояние до ближайшего парка (м) \\\n",
    "`ponds_around3000` — число водоёмов в радиусе 3 км \\\n",
    "`ponds_nearest` — расстояние до ближайшего водоёма (м) \\\n",
    "`days_exposition` — сколько дней было размещено объявление (от публикации до снятия)\n",
    "\n",
    "Прежде чем приступать к анализу, мы рассмотрим датасет в целом и по столбцам, приведём данные к оптимальноым для анализа типам, очистим данные от аномальных значений и выбросов, чтобы получить актуальные и достоверные результаты.\n",
    "Далее, после предобработки, мы займемся исследованием данных и детальным изучением рынка жилой недвижимости Санкт-Петербурга."
   ]
  },
  {
   "cell_type": "code",
   "execution_count": 1,
   "id": "9983abcb-ca8f-421b-b020-dca33e0b9bd0",
   "metadata": {},
   "outputs": [],
   "source": [
    "import pandas as pd\n",
    "pd.set_option('display.max_columns', 50)\n",
    "import matplotlib.pyplot as plt\n",
    "import matplotlib"
   ]
  },
  {
   "cell_type": "code",
   "execution_count": 2,
   "id": "f12af85b",
   "metadata": {},
   "outputs": [
    {
     "name": "stdout",
     "output_type": "stream",
     "text": [
      "<class 'pandas.core.frame.DataFrame'>\n",
      "RangeIndex: 23699 entries, 0 to 23698\n",
      "Data columns (total 22 columns):\n",
      " #   Column                Non-Null Count  Dtype  \n",
      "---  ------                --------------  -----  \n",
      " 0   total_images          23699 non-null  int64  \n",
      " 1   last_price            23699 non-null  float64\n",
      " 2   total_area            23699 non-null  float64\n",
      " 3   first_day_exposition  23699 non-null  object \n",
      " 4   rooms                 23699 non-null  int64  \n",
      " 5   ceiling_height        14504 non-null  float64\n",
      " 6   floors_total          23613 non-null  float64\n",
      " 7   living_area           21796 non-null  float64\n",
      " 8   floor                 23699 non-null  int64  \n",
      " 9   is_apartment          2775 non-null   object \n",
      " 10  studio                23699 non-null  bool   \n",
      " 11  open_plan             23699 non-null  bool   \n",
      " 12  kitchen_area          21421 non-null  float64\n",
      " 13  balcony               12180 non-null  float64\n",
      " 14  locality_name         23650 non-null  object \n",
      " 15  airports_nearest      18157 non-null  float64\n",
      " 16  cityCenters_nearest   18180 non-null  float64\n",
      " 17  parks_around3000      18181 non-null  float64\n",
      " 18  parks_nearest         8079 non-null   float64\n",
      " 19  ponds_around3000      18181 non-null  float64\n",
      " 20  ponds_nearest         9110 non-null   float64\n",
      " 21  days_exposition       20518 non-null  float64\n",
      "dtypes: bool(2), float64(14), int64(3), object(3)\n",
      "memory usage: 3.7+ MB\n"
     ]
    }
   ],
   "source": [
    "try:\n",
    "    data = pd.read_csv('real_estate_data.csv', sep='\\t')\n",
    "except:\n",
    "    data = pd.read_csv('https://code.s3.yandex.net/datasets/real_estate_data.csv', sep='\\t')\n",
    "data.info()"
   ]
  },
  {
   "cell_type": "markdown",
   "id": "501321a7-4e68-4ce8-9b45-3772840c6f00",
   "metadata": {},
   "source": [
    "# Шаг 1. Описание данных\n",
    "total_images — число фотографий квартиры в объявлении (int64)\\\n",
    "last_price — цена на момент снятия с публикации (float64)\\\n",
    "total_area — общая площадь квартиры в квадратных метрах (м²) (float64)\\\n",
    "<span style=\"color:red\"> first_day_exposition — дата публикации (object) — нужно сменить на datetime </span>\\\n",
    "rooms — число комнат (int64)\\\n",
    "<span style=\"color:orange\">ceiling_height — высота потолков (м) (float64) — есть пропуски </span>\\\n",
    "<span style=\"color:red\"> floors_total — всего этажей в доме (float64) — нужно привести к int64, обработать пропуски</span>\\\n",
    "<span style=\"color:orange\">living_area — жилая площадь в квадратных метрах (м²) (float64) — есть пропуски </span>\\\n",
    "floor — этаж (int64)\\\n",
    "<span style=\"color:red\"> is_apartment — апартаменты (object) — привести к bool, обработать пропуски </span>\\\n",
    "studio — квартира-студия (bool)\\\n",
    "open_plan — свободная планировка (bool)\\\n",
    "<span style=\"color:orange\"> kitchen_area — площадь кухни в квадратных метрах (м²) (float64) — есть пропуски </span>\\\n",
    "<span style=\"color:red\"> balcony — число балконов (float64) — нужно привести к int64, обработать пропуски</span>\\\n",
    "<span style=\"color:orange\"> locality_name — название населённого пункта (object) — есть пропуски </span>\\\n",
    "<span style=\"color:orange\"> airports_nearest — расстояние до ближайшего аэропорта в метрах (м) (float64) — есть пропуски </span>\\\n",
    "<span style=\"color:orange\"> cityCenters_nearest — расстояние до центра города (м) (float64) — есть пропуски </span>\\\n",
    "<span style=\"color:red\"> parks_around3000 — число парков в радиусе 3 км (float64) — нужно привести к int64, обработать пропуски</span>\\\n",
    "<span style=\"color:orange\"> parks_nearest — расстояние до ближайшего парка (м) (float64) — есть пропуски </span>\\\n",
    "<span style=\"color:red\"> ponds_around3000 — число водоёмов в радиусе 3 км (float64) — нужно привести к int64, есть пропуски</span>\\\n",
    "<span style=\"color:orange\"> ponds_nearest — расстояние до ближайшего водоёма (м) — есть пропуски(float64)\\\n",
    "<span style=\"color:red\"> days_exposition — сколько дней было размещено объявление (от публикации до снятия) (float64) — нужно привести к int64, есть пропуски</span>"
   ]
  },
  {
   "cell_type": "code",
   "execution_count": 3,
   "id": "515c6410-c398-4419-8d62-238abec08bd3",
   "metadata": {},
   "outputs": [
    {
     "data": {
      "text/html": [
       "<div>\n",
       "<style scoped>\n",
       "    .dataframe tbody tr th:only-of-type {\n",
       "        vertical-align: middle;\n",
       "    }\n",
       "\n",
       "    .dataframe tbody tr th {\n",
       "        vertical-align: top;\n",
       "    }\n",
       "\n",
       "    .dataframe thead th {\n",
       "        text-align: right;\n",
       "    }\n",
       "</style>\n",
       "<table border=\"1\" class=\"dataframe\">\n",
       "  <thead>\n",
       "    <tr style=\"text-align: right;\">\n",
       "      <th></th>\n",
       "      <th>total_images</th>\n",
       "      <th>last_price</th>\n",
       "      <th>total_area</th>\n",
       "      <th>first_day_exposition</th>\n",
       "      <th>rooms</th>\n",
       "      <th>ceiling_height</th>\n",
       "      <th>floors_total</th>\n",
       "      <th>living_area</th>\n",
       "      <th>floor</th>\n",
       "      <th>is_apartment</th>\n",
       "      <th>studio</th>\n",
       "      <th>open_plan</th>\n",
       "      <th>kitchen_area</th>\n",
       "      <th>balcony</th>\n",
       "      <th>locality_name</th>\n",
       "      <th>airports_nearest</th>\n",
       "      <th>cityCenters_nearest</th>\n",
       "      <th>parks_around3000</th>\n",
       "      <th>parks_nearest</th>\n",
       "      <th>ponds_around3000</th>\n",
       "      <th>ponds_nearest</th>\n",
       "      <th>days_exposition</th>\n",
       "    </tr>\n",
       "  </thead>\n",
       "  <tbody>\n",
       "    <tr>\n",
       "      <th>0</th>\n",
       "      <td>20</td>\n",
       "      <td>13000000.0</td>\n",
       "      <td>108.00</td>\n",
       "      <td>2019-03-07T00:00:00</td>\n",
       "      <td>3</td>\n",
       "      <td>2.70</td>\n",
       "      <td>16.0</td>\n",
       "      <td>51.00</td>\n",
       "      <td>8</td>\n",
       "      <td>NaN</td>\n",
       "      <td>False</td>\n",
       "      <td>False</td>\n",
       "      <td>25.00</td>\n",
       "      <td>NaN</td>\n",
       "      <td>Санкт-Петербург</td>\n",
       "      <td>18863.0</td>\n",
       "      <td>16028.0</td>\n",
       "      <td>1.0</td>\n",
       "      <td>482.0</td>\n",
       "      <td>2.0</td>\n",
       "      <td>755.0</td>\n",
       "      <td>NaN</td>\n",
       "    </tr>\n",
       "    <tr>\n",
       "      <th>1</th>\n",
       "      <td>7</td>\n",
       "      <td>3350000.0</td>\n",
       "      <td>40.40</td>\n",
       "      <td>2018-12-04T00:00:00</td>\n",
       "      <td>1</td>\n",
       "      <td>NaN</td>\n",
       "      <td>11.0</td>\n",
       "      <td>18.60</td>\n",
       "      <td>1</td>\n",
       "      <td>NaN</td>\n",
       "      <td>False</td>\n",
       "      <td>False</td>\n",
       "      <td>11.00</td>\n",
       "      <td>2.0</td>\n",
       "      <td>посёлок Шушары</td>\n",
       "      <td>12817.0</td>\n",
       "      <td>18603.0</td>\n",
       "      <td>0.0</td>\n",
       "      <td>NaN</td>\n",
       "      <td>0.0</td>\n",
       "      <td>NaN</td>\n",
       "      <td>81.0</td>\n",
       "    </tr>\n",
       "    <tr>\n",
       "      <th>2</th>\n",
       "      <td>10</td>\n",
       "      <td>5196000.0</td>\n",
       "      <td>56.00</td>\n",
       "      <td>2015-08-20T00:00:00</td>\n",
       "      <td>2</td>\n",
       "      <td>NaN</td>\n",
       "      <td>5.0</td>\n",
       "      <td>34.30</td>\n",
       "      <td>4</td>\n",
       "      <td>NaN</td>\n",
       "      <td>False</td>\n",
       "      <td>False</td>\n",
       "      <td>8.30</td>\n",
       "      <td>0.0</td>\n",
       "      <td>Санкт-Петербург</td>\n",
       "      <td>21741.0</td>\n",
       "      <td>13933.0</td>\n",
       "      <td>1.0</td>\n",
       "      <td>90.0</td>\n",
       "      <td>2.0</td>\n",
       "      <td>574.0</td>\n",
       "      <td>558.0</td>\n",
       "    </tr>\n",
       "    <tr>\n",
       "      <th>3</th>\n",
       "      <td>0</td>\n",
       "      <td>64900000.0</td>\n",
       "      <td>159.00</td>\n",
       "      <td>2015-07-24T00:00:00</td>\n",
       "      <td>3</td>\n",
       "      <td>NaN</td>\n",
       "      <td>14.0</td>\n",
       "      <td>NaN</td>\n",
       "      <td>9</td>\n",
       "      <td>NaN</td>\n",
       "      <td>False</td>\n",
       "      <td>False</td>\n",
       "      <td>NaN</td>\n",
       "      <td>0.0</td>\n",
       "      <td>Санкт-Петербург</td>\n",
       "      <td>28098.0</td>\n",
       "      <td>6800.0</td>\n",
       "      <td>2.0</td>\n",
       "      <td>84.0</td>\n",
       "      <td>3.0</td>\n",
       "      <td>234.0</td>\n",
       "      <td>424.0</td>\n",
       "    </tr>\n",
       "    <tr>\n",
       "      <th>4</th>\n",
       "      <td>2</td>\n",
       "      <td>10000000.0</td>\n",
       "      <td>100.00</td>\n",
       "      <td>2018-06-19T00:00:00</td>\n",
       "      <td>2</td>\n",
       "      <td>3.03</td>\n",
       "      <td>14.0</td>\n",
       "      <td>32.00</td>\n",
       "      <td>13</td>\n",
       "      <td>NaN</td>\n",
       "      <td>False</td>\n",
       "      <td>False</td>\n",
       "      <td>41.00</td>\n",
       "      <td>NaN</td>\n",
       "      <td>Санкт-Петербург</td>\n",
       "      <td>31856.0</td>\n",
       "      <td>8098.0</td>\n",
       "      <td>2.0</td>\n",
       "      <td>112.0</td>\n",
       "      <td>1.0</td>\n",
       "      <td>48.0</td>\n",
       "      <td>121.0</td>\n",
       "    </tr>\n",
       "    <tr>\n",
       "      <th>5</th>\n",
       "      <td>10</td>\n",
       "      <td>2890000.0</td>\n",
       "      <td>30.40</td>\n",
       "      <td>2018-09-10T00:00:00</td>\n",
       "      <td>1</td>\n",
       "      <td>NaN</td>\n",
       "      <td>12.0</td>\n",
       "      <td>14.40</td>\n",
       "      <td>5</td>\n",
       "      <td>NaN</td>\n",
       "      <td>False</td>\n",
       "      <td>False</td>\n",
       "      <td>9.10</td>\n",
       "      <td>NaN</td>\n",
       "      <td>городской посёлок Янино-1</td>\n",
       "      <td>NaN</td>\n",
       "      <td>NaN</td>\n",
       "      <td>NaN</td>\n",
       "      <td>NaN</td>\n",
       "      <td>NaN</td>\n",
       "      <td>NaN</td>\n",
       "      <td>55.0</td>\n",
       "    </tr>\n",
       "    <tr>\n",
       "      <th>6</th>\n",
       "      <td>6</td>\n",
       "      <td>3700000.0</td>\n",
       "      <td>37.30</td>\n",
       "      <td>2017-11-02T00:00:00</td>\n",
       "      <td>1</td>\n",
       "      <td>NaN</td>\n",
       "      <td>26.0</td>\n",
       "      <td>10.60</td>\n",
       "      <td>6</td>\n",
       "      <td>NaN</td>\n",
       "      <td>False</td>\n",
       "      <td>False</td>\n",
       "      <td>14.40</td>\n",
       "      <td>1.0</td>\n",
       "      <td>посёлок Парголово</td>\n",
       "      <td>52996.0</td>\n",
       "      <td>19143.0</td>\n",
       "      <td>0.0</td>\n",
       "      <td>NaN</td>\n",
       "      <td>0.0</td>\n",
       "      <td>NaN</td>\n",
       "      <td>155.0</td>\n",
       "    </tr>\n",
       "    <tr>\n",
       "      <th>7</th>\n",
       "      <td>5</td>\n",
       "      <td>7915000.0</td>\n",
       "      <td>71.60</td>\n",
       "      <td>2019-04-18T00:00:00</td>\n",
       "      <td>2</td>\n",
       "      <td>NaN</td>\n",
       "      <td>24.0</td>\n",
       "      <td>NaN</td>\n",
       "      <td>22</td>\n",
       "      <td>NaN</td>\n",
       "      <td>False</td>\n",
       "      <td>False</td>\n",
       "      <td>18.90</td>\n",
       "      <td>2.0</td>\n",
       "      <td>Санкт-Петербург</td>\n",
       "      <td>23982.0</td>\n",
       "      <td>11634.0</td>\n",
       "      <td>0.0</td>\n",
       "      <td>NaN</td>\n",
       "      <td>0.0</td>\n",
       "      <td>NaN</td>\n",
       "      <td>NaN</td>\n",
       "    </tr>\n",
       "    <tr>\n",
       "      <th>8</th>\n",
       "      <td>20</td>\n",
       "      <td>2900000.0</td>\n",
       "      <td>33.16</td>\n",
       "      <td>2018-05-23T00:00:00</td>\n",
       "      <td>1</td>\n",
       "      <td>NaN</td>\n",
       "      <td>27.0</td>\n",
       "      <td>15.43</td>\n",
       "      <td>26</td>\n",
       "      <td>NaN</td>\n",
       "      <td>False</td>\n",
       "      <td>False</td>\n",
       "      <td>8.81</td>\n",
       "      <td>NaN</td>\n",
       "      <td>посёлок Мурино</td>\n",
       "      <td>NaN</td>\n",
       "      <td>NaN</td>\n",
       "      <td>NaN</td>\n",
       "      <td>NaN</td>\n",
       "      <td>NaN</td>\n",
       "      <td>NaN</td>\n",
       "      <td>189.0</td>\n",
       "    </tr>\n",
       "    <tr>\n",
       "      <th>9</th>\n",
       "      <td>18</td>\n",
       "      <td>5400000.0</td>\n",
       "      <td>61.00</td>\n",
       "      <td>2017-02-26T00:00:00</td>\n",
       "      <td>3</td>\n",
       "      <td>2.50</td>\n",
       "      <td>9.0</td>\n",
       "      <td>43.60</td>\n",
       "      <td>7</td>\n",
       "      <td>NaN</td>\n",
       "      <td>False</td>\n",
       "      <td>False</td>\n",
       "      <td>6.50</td>\n",
       "      <td>2.0</td>\n",
       "      <td>Санкт-Петербург</td>\n",
       "      <td>50898.0</td>\n",
       "      <td>15008.0</td>\n",
       "      <td>0.0</td>\n",
       "      <td>NaN</td>\n",
       "      <td>0.0</td>\n",
       "      <td>NaN</td>\n",
       "      <td>289.0</td>\n",
       "    </tr>\n",
       "  </tbody>\n",
       "</table>\n",
       "</div>"
      ],
      "text/plain": [
       "   total_images  last_price  total_area first_day_exposition  rooms  \\\n",
       "0            20  13000000.0      108.00  2019-03-07T00:00:00      3   \n",
       "1             7   3350000.0       40.40  2018-12-04T00:00:00      1   \n",
       "2            10   5196000.0       56.00  2015-08-20T00:00:00      2   \n",
       "3             0  64900000.0      159.00  2015-07-24T00:00:00      3   \n",
       "4             2  10000000.0      100.00  2018-06-19T00:00:00      2   \n",
       "5            10   2890000.0       30.40  2018-09-10T00:00:00      1   \n",
       "6             6   3700000.0       37.30  2017-11-02T00:00:00      1   \n",
       "7             5   7915000.0       71.60  2019-04-18T00:00:00      2   \n",
       "8            20   2900000.0       33.16  2018-05-23T00:00:00      1   \n",
       "9            18   5400000.0       61.00  2017-02-26T00:00:00      3   \n",
       "\n",
       "   ceiling_height  floors_total  living_area  floor is_apartment  studio  \\\n",
       "0            2.70          16.0        51.00      8          NaN   False   \n",
       "1             NaN          11.0        18.60      1          NaN   False   \n",
       "2             NaN           5.0        34.30      4          NaN   False   \n",
       "3             NaN          14.0          NaN      9          NaN   False   \n",
       "4            3.03          14.0        32.00     13          NaN   False   \n",
       "5             NaN          12.0        14.40      5          NaN   False   \n",
       "6             NaN          26.0        10.60      6          NaN   False   \n",
       "7             NaN          24.0          NaN     22          NaN   False   \n",
       "8             NaN          27.0        15.43     26          NaN   False   \n",
       "9            2.50           9.0        43.60      7          NaN   False   \n",
       "\n",
       "   open_plan  kitchen_area  balcony              locality_name  \\\n",
       "0      False         25.00      NaN            Санкт-Петербург   \n",
       "1      False         11.00      2.0             посёлок Шушары   \n",
       "2      False          8.30      0.0            Санкт-Петербург   \n",
       "3      False           NaN      0.0            Санкт-Петербург   \n",
       "4      False         41.00      NaN            Санкт-Петербург   \n",
       "5      False          9.10      NaN  городской посёлок Янино-1   \n",
       "6      False         14.40      1.0          посёлок Парголово   \n",
       "7      False         18.90      2.0            Санкт-Петербург   \n",
       "8      False          8.81      NaN             посёлок Мурино   \n",
       "9      False          6.50      2.0            Санкт-Петербург   \n",
       "\n",
       "   airports_nearest  cityCenters_nearest  parks_around3000  parks_nearest  \\\n",
       "0           18863.0              16028.0               1.0          482.0   \n",
       "1           12817.0              18603.0               0.0            NaN   \n",
       "2           21741.0              13933.0               1.0           90.0   \n",
       "3           28098.0               6800.0               2.0           84.0   \n",
       "4           31856.0               8098.0               2.0          112.0   \n",
       "5               NaN                  NaN               NaN            NaN   \n",
       "6           52996.0              19143.0               0.0            NaN   \n",
       "7           23982.0              11634.0               0.0            NaN   \n",
       "8               NaN                  NaN               NaN            NaN   \n",
       "9           50898.0              15008.0               0.0            NaN   \n",
       "\n",
       "   ponds_around3000  ponds_nearest  days_exposition  \n",
       "0               2.0          755.0              NaN  \n",
       "1               0.0            NaN             81.0  \n",
       "2               2.0          574.0            558.0  \n",
       "3               3.0          234.0            424.0  \n",
       "4               1.0           48.0            121.0  \n",
       "5               NaN            NaN             55.0  \n",
       "6               0.0            NaN            155.0  \n",
       "7               0.0            NaN              NaN  \n",
       "8               NaN            NaN            189.0  \n",
       "9               0.0            NaN            289.0  "
      ]
     },
     "execution_count": 3,
     "metadata": {},
     "output_type": "execute_result"
    }
   ],
   "source": [
    "data.head(10)"
   ]
  },
  {
   "cell_type": "code",
   "execution_count": 4,
   "id": "3f4ea6a6-5e76-44a1-853c-55ec2016c853",
   "metadata": {},
   "outputs": [
    {
     "data": {
      "image/png": "[encoded data removed]",
      "text/plain": [
       "<Figure size 1080x1440 with 20 Axes>"
      ]
     },
     "metadata": {
      "needs_background": "light"
     },
     "output_type": "display_data"
    }
   ],
   "source": [
    "data.hist(figsize=(15, 20))\n",
    "None"
   ]
  },
  {
   "cell_type": "code",
   "execution_count": 5,
   "id": "f54aec83",
   "metadata": {},
   "outputs": [
    {
     "data": {
      "image/png": "[encoded data removed]",
      "text/plain": [
       "<Figure size 1080x1440 with 20 Axes>"
      ]
     },
     "metadata": {
      "needs_background": "light"
     },
     "output_type": "display_data"
    }
   ],
   "source": [
    "# Код ревьюера\n",
    "\n",
    "data.hist(figsize=(15, 20))\n",
    "None"
   ]
  },
  {
   "cell_type": "markdown",
   "id": "0ed9ab8b-1d90-46ac-a27f-35aef5b2c3e2",
   "metadata": {},
   "source": [
    "# Шаг 2. Предобработка данных"
   ]
  },
  {
   "cell_type": "code",
   "execution_count": 6,
   "id": "4eda1025-b917-4376-88d6-8842ea9b1dd8",
   "metadata": {},
   "outputs": [
    {
     "data": {
      "text/plain": [
       "0"
      ]
     },
     "execution_count": 6,
     "metadata": {},
     "output_type": "execute_result"
    }
   ],
   "source": [
    "data.duplicated().sum() #проверим датафрейм на наличие дублированных строк"
   ]
  },
  {
   "cell_type": "markdown",
   "id": "1ca9b67c-7fff-4534-abfd-4d35fd832335",
   "metadata": {},
   "source": [
    "Явных дубликатов на данный момент нет."
   ]
  },
  {
   "cell_type": "code",
   "execution_count": 7,
   "id": "a7c9ce3f-f48b-4dfc-8230-af46d3cefdc0",
   "metadata": {},
   "outputs": [
    {
     "data": {
      "text/plain": [
       "total_images                0\n",
       "last_price                  0\n",
       "total_area                  0\n",
       "first_day_exposition        0\n",
       "rooms                       0\n",
       "ceiling_height           9195\n",
       "floors_total               86\n",
       "living_area              1903\n",
       "floor                       0\n",
       "is_apartment            20924\n",
       "studio                      0\n",
       "open_plan                   0\n",
       "kitchen_area             2278\n",
       "balcony                 11519\n",
       "locality_name              49\n",
       "airports_nearest         5542\n",
       "cityCenters_nearest      5519\n",
       "parks_around3000         5518\n",
       "parks_nearest           15620\n",
       "ponds_around3000         5518\n",
       "ponds_nearest           14589\n",
       "days_exposition          3181\n",
       "dtype: int64"
      ]
     },
     "execution_count": 7,
     "metadata": {},
     "output_type": "execute_result"
    }
   ],
   "source": [
    "data.isna().sum() #изучим пропуски"
   ]
  },
  {
   "cell_type": "code",
   "execution_count": 8,
   "id": "582467d3",
   "metadata": {},
   "outputs": [
    {
     "data": {
      "text/plain": [
       "total_images             0.00\n",
       "last_price               0.00\n",
       "total_area               0.00\n",
       "first_day_exposition     0.00\n",
       "rooms                    0.00\n",
       "ceiling_height          38.80\n",
       "floors_total             0.36\n",
       "living_area              8.03\n",
       "floor                    0.00\n",
       "is_apartment            88.29\n",
       "studio                   0.00\n",
       "open_plan                0.00\n",
       "kitchen_area             9.61\n",
       "balcony                 48.61\n",
       "locality_name            0.21\n",
       "airports_nearest        23.38\n",
       "cityCenters_nearest     23.29\n",
       "parks_around3000        23.28\n",
       "parks_nearest           65.91\n",
       "ponds_around3000        23.28\n",
       "ponds_nearest           61.56\n",
       "days_exposition         13.42\n",
       "dtype: float64"
      ]
     },
     "execution_count": 8,
     "metadata": {},
     "output_type": "execute_result"
    }
   ],
   "source": [
    "(data.isna().sum() / len(data)).round(4) * 100 #для наглядности подсчитаем процент пропусков"
   ]
  },
  {
   "cell_type": "code",
   "execution_count": 9,
   "id": "b4180a95-158e-4585-93d0-8d5276f1bf06",
   "metadata": {},
   "outputs": [],
   "source": [
    "data['last_price'] = data['last_price'].astype('int64') #при продаже квартир редко оперируют копейками, приведем к целочисленному типу."
   ]
  },
  {
   "cell_type": "code",
   "execution_count": 10,
   "id": "9dad7b6b-b906-46cc-9cdb-54acfaf5d034",
   "metadata": {},
   "outputs": [],
   "source": [
    "data['first_day_exposition'] = pd.to_datetime(data['first_day_exposition'], format='%Y-%m-%dT%H:%M:%S') "
   ]
  },
  {
   "cell_type": "markdown",
   "id": "6157866f-8da7-4db5-90f3-c2e33bc1197d",
   "metadata": {},
   "source": [
    "Пойдем по списку, проверяя каждый столбец на аномальные значения и обрабатывая пропуски, если это возможно"
   ]
  },
  {
   "cell_type": "code",
   "execution_count": 11,
   "id": "12290c8d-1bf3-479a-a746-32b4ee8c5d94",
   "metadata": {},
   "outputs": [
    {
     "data": {
      "text/plain": [
       "array([  1.  ,   1.2 ,   1.75,   2.  ,   2.2 ,   2.25,   2.3 ,   2.34,\n",
       "         2.4 ,   2.45,   2.46,   2.47,   2.48,   2.49,   2.5 ,   2.51,\n",
       "         2.52,   2.53,   2.54,   2.55,   2.56,   2.57,   2.58,   2.59,\n",
       "         2.6 ,   2.61,   2.62,   2.63,   2.64,   2.65,   2.66,   2.67,\n",
       "         2.68,   2.69,   2.7 ,   2.71,   2.72,   2.73,   2.74,   2.75,\n",
       "         2.76,   2.77,   2.78,   2.79,   2.8 ,   2.81,   2.82,   2.83,\n",
       "         2.84,   2.85,   2.86,   2.87,   2.88,   2.89,   2.9 ,   2.91,\n",
       "         2.92,   2.93,   2.94,   2.95,   2.96,   2.97,   2.98,   2.99,\n",
       "         3.  ,   3.01,   3.02,   3.03,   3.04,   3.05,   3.06,   3.07,\n",
       "         3.08,   3.09,   3.1 ,   3.11,   3.12,   3.13,   3.14,   3.15,\n",
       "         3.16,   3.17,   3.18,   3.2 ,   3.21,   3.22,   3.23,   3.24,\n",
       "         3.25,   3.26,   3.27,   3.28,   3.29,   3.3 ,   3.31,   3.32,\n",
       "         3.33,   3.34,   3.35,   3.36,   3.37,   3.38,   3.39,   3.4 ,\n",
       "         3.42,   3.43,   3.44,   3.45,   3.46,   3.47,   3.48,   3.49,\n",
       "         3.5 ,   3.51,   3.52,   3.53,   3.54,   3.55,   3.56,   3.57,\n",
       "         3.58,   3.59,   3.6 ,   3.62,   3.63,   3.65,   3.66,   3.67,\n",
       "         3.68,   3.69,   3.7 ,   3.75,   3.76,   3.78,   3.8 ,   3.82,\n",
       "         3.83,   3.84,   3.85,   3.86,   3.87,   3.88,   3.9 ,   3.93,\n",
       "         3.95,   3.98,   4.  ,   4.06,   4.1 ,   4.14,   4.15,   4.19,\n",
       "         4.2 ,   4.25,   4.3 ,   4.37,   4.4 ,   4.45,   4.5 ,   4.65,\n",
       "         4.7 ,   4.8 ,   4.9 ,   5.  ,   5.2 ,   5.3 ,   5.5 ,   5.6 ,\n",
       "         5.8 ,   6.  ,   8.  ,   8.3 ,  10.3 ,  14.  ,  20.  ,  22.6 ,\n",
       "        24.  ,  25.  ,  26.  ,  27.  ,  27.5 ,  32.  , 100.  ,    nan])"
      ]
     },
     "execution_count": 11,
     "metadata": {},
     "output_type": "execute_result"
    }
   ],
   "source": [
    "data['ceiling_height'].sort_values().unique() #посмотрим, какие варианты высоты потолков есть в датафрейме, отсортировав по возрастанию для удобства"
   ]
  },
  {
   "cell_type": "markdown",
   "id": "9bf4b7d6-0a0e-4cf5-985d-c76e44f89963",
   "metadata": {},
   "source": [
    "Согласно СНиП, высота потолков в жилых помещениях должна быть не менее 2,5 м. Оставим значения до 2,4 м на случай разных вариантов отделки, которые могут уменьшить высоту потолка (вариации подвесных/натяжных потолков и напольных покрытий).\n",
    "Поскольку датафрейм содержит информацию о квартирах в Санкт-Петербурге и близлежащих районах, где есть так называемый \"старый фонд\", высокие потолки начинают смущать только когда значение высоты превышает 4,5 м.\\\n",
    "При этом у нас есть пул значений в диапазоне 20-32, которые появились, возможно, из-за пропущенной точки при вводе данных пользователями."
   ]
  },
  {
   "cell_type": "code",
   "execution_count": 12,
   "id": "1e5eeb87-7d8c-49a5-bf61-fec6c0e393cf",
   "metadata": {},
   "outputs": [
    {
     "data": {
      "text/plain": [
       "<AxesSubplot:ylabel='Frequency'>"
      ]
     },
     "execution_count": 12,
     "metadata": {},
     "output_type": "execute_result"
    },
    {
     "data": {
      "image/png": "[encoded data removed]",
      "text/plain": [
       "<Figure size 432x288 with 1 Axes>"
      ]
     },
     "metadata": {
      "needs_background": "light"
     },
     "output_type": "display_data"
    }
   ],
   "source": [
    "data['ceiling_height'].sort_values().plot(x = 'ceiling_height', kind = 'hist', bins = 100, range=(1,100)) #посмотрим на гистограмму со всеми значениями\n",
    "data['ceiling_height'].sort_values().plot(x = 'ceiling_height', kind = 'hist', bins = 100, range=(1,5)) #посмотрим на более реалистичный диапазон значений"
   ]
  },
  {
   "cell_type": "markdown",
   "id": "4f0e1579-bcef-48e6-a383-8effe91d472e",
   "metadata": {},
   "source": [
    "С таким масштабом трудно что-либо оценить, кроме того, что экстремальные значения практически не встречаются, а основная масса значений сконцентрирована в адекватном диапазоне значений.\\\n",
    "Посмотрим ближе."
   ]
  },
  {
   "cell_type": "code",
   "execution_count": 13,
   "id": "89065f8b-8d18-4a78-97f9-51b73116734c",
   "metadata": {},
   "outputs": [
    {
     "data": {
      "text/plain": [
       "<AxesSubplot:ylabel='Frequency'>"
      ]
     },
     "execution_count": 13,
     "metadata": {},
     "output_type": "execute_result"
    },
    {
     "data": {
      "image/png": "[encoded data removed]",
      "text/plain": [
       "<Figure size 432x288 with 1 Axes>"
      ]
     },
     "metadata": {
      "needs_background": "light"
     },
     "output_type": "display_data"
    }
   ],
   "source": [
    "data['ceiling_height'].sort_values().plot(x = 'ceiling_height', kind = 'hist', bins = 100, range=(2, 4.5)) "
   ]
  },
  {
   "cell_type": "markdown",
   "id": "fb764085-83df-49f5-b531-a4edd3333f41",
   "metadata": {},
   "source": [
    "И правда, видим, что основная масса значений расположена в диапазоне от 2,5 до 3,5 м."
   ]
  },
  {
   "cell_type": "code",
   "execution_count": 14,
   "id": "95cf93e1-a089-4018-9de0-77b8b64611a0",
   "metadata": {},
   "outputs": [],
   "source": [
    "data.loc[data['ceiling_height'] >= 20, 'ceiling_height'] /= 10 #приведем в порядок значения с возможными опечатками"
   ]
  },
  {
   "cell_type": "code",
   "execution_count": 15,
   "id": "db6a71b1-ceaa-4ea4-8962-f4351a666ad2",
   "metadata": {},
   "outputs": [
    {
     "data": {
      "text/plain": [
       "array([ 1.  ,  1.2 ,  1.75,  2.  ,  2.2 ,  2.25,  2.26,  2.3 ,  2.34,\n",
       "        2.4 ,  2.45,  2.46,  2.47,  2.48,  2.49,  2.5 ,  2.51,  2.52,\n",
       "        2.53,  2.54,  2.55,  2.56,  2.57,  2.58,  2.59,  2.6 ,  2.61,\n",
       "        2.62,  2.63,  2.64,  2.65,  2.66,  2.67,  2.68,  2.69,  2.7 ,\n",
       "        2.71,  2.72,  2.73,  2.74,  2.75,  2.76,  2.77,  2.78,  2.79,\n",
       "        2.8 ,  2.81,  2.82,  2.83,  2.84,  2.85,  2.86,  2.87,  2.88,\n",
       "        2.89,  2.9 ,  2.91,  2.92,  2.93,  2.94,  2.95,  2.96,  2.97,\n",
       "        2.98,  2.99,  3.  ,  3.01,  3.02,  3.03,  3.04,  3.05,  3.06,\n",
       "        3.07,  3.08,  3.09,  3.1 ,  3.11,  3.12,  3.13,  3.14,  3.15,\n",
       "        3.16,  3.17,  3.18,  3.2 ,  3.21,  3.22,  3.23,  3.24,  3.25,\n",
       "        3.26,  3.27,  3.28,  3.29,  3.3 ,  3.31,  3.32,  3.33,  3.34,\n",
       "        3.35,  3.36,  3.37,  3.38,  3.39,  3.4 ,  3.42,  3.43,  3.44,\n",
       "        3.45,  3.46,  3.47,  3.48,  3.49,  3.5 ,  3.51,  3.52,  3.53,\n",
       "        3.54,  3.55,  3.56,  3.57,  3.58,  3.59,  3.6 ,  3.62,  3.63,\n",
       "        3.65,  3.66,  3.67,  3.68,  3.69,  3.7 ,  3.75,  3.76,  3.78,\n",
       "        3.8 ,  3.82,  3.83,  3.84,  3.85,  3.86,  3.87,  3.88,  3.9 ,\n",
       "        3.93,  3.95,  3.98,  4.  ,  4.06,  4.1 ,  4.14,  4.15,  4.19,\n",
       "        4.2 ,  4.25,  4.3 ,  4.37,  4.4 ,  4.45,  4.5 ,  4.65,  4.7 ,\n",
       "        4.8 ,  4.9 ,  5.  ,  5.2 ,  5.3 ,  5.5 ,  5.6 ,  5.8 ,  6.  ,\n",
       "        8.  ,  8.3 , 10.  , 10.3 , 14.  ,   nan])"
      ]
     },
     "execution_count": 15,
     "metadata": {},
     "output_type": "execute_result"
    }
   ],
   "source": [
    "data['ceiling_height'].sort_values().unique() #стало лучше, но еще нужно обработать экстремальные значения"
   ]
  },
  {
   "cell_type": "code",
   "execution_count": 16,
   "id": "e243b81c-2769-47fe-9999-0ce779b48a6d",
   "metadata": {},
   "outputs": [],
   "source": [
    "# data = data.loc[(data['ceiling_height'] >= 2.4) & (data['ceiling_height'] <= 4.5)] #вариант радикальной очистки датасета\n",
    "data['ceiling_height'] = data['ceiling_height'].fillna(0) #сменили NaN на 0\n",
    "data.loc[data['ceiling_height'] > 4.5, 'ceiling_height'] = 4.5 #привели все высокие потолки к одному реалистичному значению\n",
    "data['ceiling_height'] = round(data['ceiling_height'], 1) "
   ]
  },
  {
   "cell_type": "markdown",
   "id": "c2f4e178",
   "metadata": {},
   "source": [
    "В столбце с высотой потолков у нас было 38,8% пропусков значений — это весомая доля. На данном этапе восстановить эти данные мы не имеем возможности, удалить эти строки мы тоже не можем — другая информация в них может иметь значение для исследования, поэтому заменим NaN на 0.\\\n",
    "Также мы обработаем аномальные значения с нереалистично высокими потолками, сведя их к 4,5м.\\\n",
    "Также округлим значения столбца до одного знака после запятой, б*о*льшая точность не играет никакой роли в вопросе высоты потолков."
   ]
  },
  {
   "cell_type": "markdown",
   "id": "b9a0a565",
   "metadata": {},
   "source": [
    "Посмотрим, сколько значений мы отсекли."
   ]
  },
  {
   "cell_type": "code",
   "execution_count": 18,
   "id": "a4716fd3",
   "metadata": {},
   "outputs": [
    {
     "name": "stdout",
     "output_type": "stream",
     "text": [
      "Нижняя граница ceiling_height 0.0\n",
      "Верхняя граница ceiling_height 3.6\n",
      "Процент отброшенных значений =  0.82 %\n"
     ]
    }
   ],
   "source": [
    "low_percentele = 0.01\n",
    "high_percentele = 0.99\n",
    "\n",
    "ceiling_height_low = data['ceiling_height'].quantile(low_percentele)\n",
    "ceiling_height_high = data['ceiling_height'].quantile(high_percentele)\n",
    "\n",
    "print(f'Нижняя граница ceiling_height {ceiling_height_low}')\n",
    "print(f'Верхняя граница ceiling_height {ceiling_height_high}')\n",
    "\n",
    "print(\n",
    "    'Процент отброшенных значений = ',\n",
    "    round(\n",
    "        100 - len(data.query('@ceiling_height_low <= ceiling_height <= @ceiling_height_high'))\n",
    "        / len(data['ceiling_height']) * 100,\n",
    "        2\n",
    "    ),\n",
    "    '%'\n",
    ")"
   ]
  },
  {
   "cell_type": "code",
   "execution_count": 19,
   "id": "b4484462-0c43-4d67-b857-f6b457bb3573",
   "metadata": {},
   "outputs": [
    {
     "data": {
      "text/plain": [
       "count    23699.000000\n",
       "mean         1.671273\n",
       "std          1.348297\n",
       "min          0.000000\n",
       "25%          0.000000\n",
       "50%          2.500000\n",
       "75%          2.700000\n",
       "max          4.500000\n",
       "Name: ceiling_height, dtype: float64"
      ]
     },
     "execution_count": 19,
     "metadata": {},
     "output_type": "execute_result"
    },
    {
     "data": {
      "image/png": "[encoded data removed]",
      "text/plain": [
       "<Figure size 432x288 with 1 Axes>"
      ]
     },
     "metadata": {
      "needs_background": "light"
     },
     "output_type": "display_data"
    }
   ],
   "source": [
    "data['ceiling_height'].plot(kind='hist', range=(2.4,4.5))\n",
    "data['ceiling_height'].describe()"
   ]
  },
  {
   "cell_type": "markdown",
   "id": "57335efc-16dc-4ae2-809e-35ff89922c9f",
   "metadata": {},
   "source": [
    "Визуализируем, ограничив диапазон значений до реалистичных (выше мы указали, что реалистичная минимальная высота потолков это 2,4 м, а максимальная — 4,5м). Гистограмма выглядит как распределение Пуассона.\\\n",
    "Медиана составляет 2,5 м."
   ]
  },
  {
   "cell_type": "code",
   "execution_count": 20,
   "id": "2cb2f2ec-6b73-4009-a9da-341e61e436cc",
   "metadata": {},
   "outputs": [
    {
     "data": {
      "text/plain": [
       "array([ 1.,  2.,  3.,  4.,  5.,  6.,  7.,  8.,  9., 10., 11., 12., 13.,\n",
       "       14., 15., 16., 17., 18., 19., 20., 21., 22., 23., 24., 25., 26.,\n",
       "       27., 28., 29., 33., 34., 35., 36., 37., 52., 60., nan])"
      ]
     },
     "execution_count": 20,
     "metadata": {},
     "output_type": "execute_result"
    }
   ],
   "source": [
    "data['floors_total'].sort_values().unique() # по аналогии, посмотрим, какие есть значения этажей"
   ]
  },
  {
   "cell_type": "markdown",
   "id": "89d8417a-6b8f-4306-9dbe-8e053351809d",
   "metadata": {},
   "source": [
    "Возвращаемся к тому, что это данные о Санкт-Петербурге, где самое высокое жилое здание имеет 37 этажей.\\\n",
    "Также, как и при обработке высоты потолков, мы не можем заменить пропуски какими-либо значениями.\\\n",
    "В отличие от высоты потолков, этажи — целочисленные значения, поэтому делением на десять мы мало что получим."
   ]
  },
  {
   "cell_type": "code",
   "execution_count": 21,
   "id": "7aa23e6b-e072-4e89-adce-593ba82cc92d",
   "metadata": {},
   "outputs": [
    {
     "data": {
      "text/plain": [
       "<AxesSubplot:ylabel='Frequency'>"
      ]
     },
     "execution_count": 21,
     "metadata": {},
     "output_type": "execute_result"
    },
    {
     "data": {
      "image/png": "[encoded data removed]",
      "text/plain": [
       "<Figure size 432x288 with 1 Axes>"
      ]
     },
     "metadata": {
      "needs_background": "light"
     },
     "output_type": "display_data"
    }
   ],
   "source": [
    "data['floors_total'].sort_values().plot(x = 'floors_total', kind = 'hist', bins = 30, range=(0, 60)) "
   ]
  },
  {
   "cell_type": "markdown",
   "id": "16a71b3c-59f3-4fcf-be89-abab7c55c673",
   "metadata": {},
   "source": [
    "Видим, что в основном этажи распределены между 1 и 30. Но мы помним про самое высокое жилое здание в 37 этажей."
   ]
  },
  {
   "cell_type": "code",
   "execution_count": 22,
   "id": "f35513b6-4fed-4b5c-bfe8-08f0f6526fd8",
   "metadata": {},
   "outputs": [],
   "source": [
    "data = data.loc[(data['floors_total'] >= 1) & (data['floors_total'] <= 36)] #убрали строки с экстремальными значениями и пропусками\n",
    "data['floors_total'] = data['floors_total'].astype('int64') #привели к целочисленному виду"
   ]
  },
  {
   "cell_type": "code",
   "execution_count": 23,
   "id": "77bebc57-6e1d-45f6-b5a2-2383172890ff",
   "metadata": {},
   "outputs": [
    {
     "data": {
      "text/plain": [
       "1870"
      ]
     },
     "execution_count": 23,
     "metadata": {},
     "output_type": "execute_result"
    }
   ],
   "source": [
    "data['living_area'].isna().sum()"
   ]
  },
  {
   "cell_type": "code",
   "execution_count": 24,
   "id": "d2965ab1-18c0-4a70-9d11-ffde9bc90b61",
   "metadata": {},
   "outputs": [
    {
     "data": {
      "text/plain": [
       "count    21740.000000\n",
       "mean        34.464993\n",
       "std         22.037998\n",
       "min          2.000000\n",
       "25%         18.600000\n",
       "50%         30.000000\n",
       "75%         42.300000\n",
       "max        409.700000\n",
       "Name: living_area, dtype: float64"
      ]
     },
     "execution_count": 24,
     "metadata": {},
     "output_type": "execute_result"
    }
   ],
   "source": [
    "data['living_area'].value_counts() \n",
    "data['living_area'].describe()"
   ]
  },
  {
   "cell_type": "markdown",
   "id": "e33503f5-fe45-46ba-bdb9-608a2c43843c",
   "metadata": {},
   "source": [
    "В столбце с жилой площадью кроме пропусков видим нереалистичные значения. По аналогии с высотой потолков действовать не получится, так как мы не можем знать, на сколько умножать, допустим, 2 кв.м.: могут быть как квартиры с 20 кв.м., так и с 200 кв.м. жилой площади.\\\n",
    "Заполнять пропуски медианой/средним — неподходящая тактика для таких данных."
   ]
  },
  {
   "cell_type": "code",
   "execution_count": 25,
   "id": "ea18d731-7a7e-4aad-9ac9-991b5ac0582f",
   "metadata": {},
   "outputs": [
    {
     "data": {
      "text/plain": [
       "<AxesSubplot:>"
      ]
     },
     "execution_count": 25,
     "metadata": {},
     "output_type": "execute_result"
    },
    {
     "data": {
      "image/png": "[encoded data removed]",
      "text/plain": [
       "<Figure size 432x288 with 1 Axes>"
      ]
     },
     "metadata": {
      "needs_background": "light"
     },
     "output_type": "display_data"
    }
   ],
   "source": [
    "data.boxplot(column=['living_area'])"
   ]
  },
  {
   "cell_type": "markdown",
   "id": "f0cf39ff-7411-48e3-9f99-b74a76ee7027",
   "metadata": {},
   "source": [
    "Основная масса значений сконцентрирована в диапазоне 18,6-42,3 кв.м., при этом у нас есть много выбросов выше 42,3. Однако мы имеем дело с квартирами, и варианты квартир с большой площадью могут иметь место: если вернуться к гистограммам по исходным данным, мы увидим, что есть квартиры с большим количеством комнат (5 и более), и для таких квартир большая жилая площадь это\n",
    "абсолютно нормально.\\\n",
    "Минимальная жилая площадь, согласно СНиП, не менее 8 кв.м. на человека. Но есть нюанс: квартиры могут продаваться и с нарушениями СНиП.\\\n",
    "Квартира с жилой площадью 2 кв.м. — очевидная ошибка, но её проще убрать, чем догадываться, что подразумевалось: 20 кв.м., 200 кв.м.\\\n",
    "или вообще другое значение.\\\n",
    "Квартира с площадью 409,7 кв.м. — технически может существовать, оставим её пока что."
   ]
  },
  {
   "cell_type": "code",
   "execution_count": 26,
   "id": "5ec45afd-8599-47b7-92d2-dc7a6ec27182",
   "metadata": {},
   "outputs": [],
   "source": [
    "data = data.loc[data['living_area'] >= 8]"
   ]
  },
  {
   "cell_type": "code",
   "execution_count": 27,
   "id": "14f03f39-ff30-4087-a171-2b0b3dd33d99",
   "metadata": {},
   "outputs": [],
   "source": [
    "data['is_apartment'] = data['is_apartment'].fillna(False).astype('bool') #приводим в порядок информацию об апартаментах"
   ]
  },
  {
   "cell_type": "markdown",
   "id": "3caaa094-adad-435f-a5b0-070220f3eb3d",
   "metadata": {},
   "source": [
    "В столбце с апартаментами было большое количество пропусков, что может быть связано с тем, что:\n",
    "* данные об этом свойстве изначально не вводились\n",
    "* апартаментов в принципе меньше, чем квартир "
   ]
  },
  {
   "cell_type": "code",
   "execution_count": 28,
   "id": "581d33d0-626d-4871-982b-af05afb2f92f",
   "metadata": {},
   "outputs": [
    {
     "data": {
      "text/plain": [
       "total_images                0\n",
       "last_price                  0\n",
       "total_area                  0\n",
       "first_day_exposition        0\n",
       "rooms                       0\n",
       "ceiling_height              0\n",
       "floors_total                0\n",
       "living_area                 0\n",
       "floor                       0\n",
       "is_apartment                0\n",
       "studio                      0\n",
       "open_plan                   0\n",
       "kitchen_area              798\n",
       "balcony                 10081\n",
       "locality_name              43\n",
       "airports_nearest         4912\n",
       "cityCenters_nearest      4891\n",
       "parks_around3000         4890\n",
       "parks_nearest           14258\n",
       "ponds_around3000         4890\n",
       "ponds_nearest           13354\n",
       "days_exposition          2977\n",
       "dtype: int64"
      ]
     },
     "execution_count": 28,
     "metadata": {},
     "output_type": "execute_result"
    }
   ],
   "source": [
    "data.isna().sum() #движемся по порядку"
   ]
  },
  {
   "cell_type": "code",
   "execution_count": 29,
   "id": "f5a4fe8c-cbda-4958-9262-2c0eb2ee6c46",
   "metadata": {},
   "outputs": [],
   "source": [
    "data['kitchen_area'] = data['kitchen_area'].fillna(0) #заменим NaN на 0\n",
    "data = data.drop(data.query(\"studio == False and kitchen_area == 0\").index)\n",
    "#если квартира не студия, кухня у нее должна быть — фильтруем по этой логике"
   ]
  },
  {
   "cell_type": "code",
   "execution_count": 30,
   "id": "a6cb7856-d7b4-4471-8737-d810d282dbe5",
   "metadata": {},
   "outputs": [
    {
     "data": {
      "text/plain": [
       "1.0    3990\n",
       "2.0    3407\n",
       "0.0    3359\n",
       "5.0     278\n",
       "4.0     173\n",
       "3.0      74\n",
       "Name: balcony, dtype: int64"
      ]
     },
     "execution_count": 30,
     "metadata": {},
     "output_type": "execute_result"
    }
   ],
   "source": [
    "data['balcony'].value_counts()"
   ]
  },
  {
   "cell_type": "markdown",
   "id": "aa40d54a-9965-4fa6-9acd-06880ce29498",
   "metadata": {},
   "source": [
    "Интересные количества, но в данных были квартиры с большим количеством количеством комнат, так что большое количество балконов теоретически возможно."
   ]
  },
  {
   "cell_type": "code",
   "execution_count": 31,
   "id": "eeb03a4d-21b7-4b80-bea3-6907287b492c",
   "metadata": {},
   "outputs": [],
   "source": [
    "data['balcony'].value_counts()\n",
    "data['balcony'] = data['balcony'].fillna(0)\n",
    "data['balcony'] = data['balcony'].astype('int') #будем считать, что пропуски — это отсутствие балкона; заодно приведем в целочисленный вид."
   ]
  },
  {
   "cell_type": "code",
   "execution_count": 32,
   "id": "380e69dc-d0c1-415c-aa1d-7258ce95104f",
   "metadata": {},
   "outputs": [],
   "source": [
    "data = data.dropna(subset=['locality_name']) #пропусков в названии населенного пункта мало, как-либо заполнить их мы не можем."
   ]
  },
  {
   "cell_type": "code",
   "execution_count": 33,
   "id": "c6e13eb6-4c59-471c-99f8-fbf25a73b672",
   "metadata": {},
   "outputs": [
    {
     "data": {
      "text/plain": [
       "total_images                0\n",
       "last_price                  0\n",
       "total_area                  0\n",
       "first_day_exposition        0\n",
       "rooms                       0\n",
       "ceiling_height              0\n",
       "floors_total                0\n",
       "living_area                 0\n",
       "floor                       0\n",
       "is_apartment                0\n",
       "studio                      0\n",
       "open_plan                   0\n",
       "kitchen_area                0\n",
       "balcony                     0\n",
       "locality_name               0\n",
       "airports_nearest         4716\n",
       "cityCenters_nearest      4695\n",
       "parks_around3000         4694\n",
       "parks_nearest           13780\n",
       "ponds_around3000         4694\n",
       "ponds_nearest           12933\n",
       "days_exposition          2897\n",
       "dtype: int64"
      ]
     },
     "execution_count": 33,
     "metadata": {},
     "output_type": "execute_result"
    }
   ],
   "source": [
    "data.isna().sum() "
   ]
  },
  {
   "cell_type": "markdown",
   "id": "664d747d-4f1d-4aac-9ce4-d88cdeb7af69",
   "metadata": {},
   "source": [
    "Airports_nearest — расстояние до ближайшего аэропорта в метрах. Пропуски могут быть связаны с некорректным вводом данных пользователем (неточный адрес, опечатки) или с технической ошибкой (нам известно, что такие данные получены автоматически из геосервисов, следовательно, возможны проблемы на этапе получения данных).\\\n",
    "Это применимо и к другим столбцам с подобной информацией, заполняющейся автоматически: cityCenters_nearest (расстояние до центра города в метрах), parks_around3000 (число парков в радиусе 3 км), parks_nearest (расстояние до ближайшего парка в метрах), ponds_around3000 (число водоемов в радиусе 3 км), ponds_nearest (расстояние до ближайшего парка в метрах).\\\n",
    "Выбрасывать строки с пропусками в этих столбцах не будем, только приведем данные к нужному типу."
   ]
  },
  {
   "cell_type": "code",
   "execution_count": 34,
   "id": "99e6e22b-d930-452d-8271-7fba5509ed05",
   "metadata": {},
   "outputs": [],
   "source": [
    "data['parks_around3000'] = data['parks_around3000'].fillna(0).astype('int64') \n",
    "data['ponds_around3000'] = data['ponds_around3000'].fillna(0).astype('int64')\n",
    "# количество парков и прудов должно быть целым числом, пропуски будем считать за 0."
   ]
  },
  {
   "cell_type": "code",
   "execution_count": 35,
   "id": "b31bdc9b-59b4-4429-82d5-ebd381eec8d7",
   "metadata": {},
   "outputs": [],
   "source": [
    "data['days_exposition'] = data['days_exposition'].fillna(0).astype('int64')"
   ]
  },
  {
   "cell_type": "code",
   "execution_count": 36,
   "id": "fc64696f-a783-4a46-80b6-472260384d35",
   "metadata": {},
   "outputs": [
    {
     "name": "stdout",
     "output_type": "stream",
     "text": [
      "<class 'pandas.core.frame.DataFrame'>\n",
      "Int64Index: 21033 entries, 0 to 23698\n",
      "Data columns (total 22 columns):\n",
      " #   Column                Non-Null Count  Dtype         \n",
      "---  ------                --------------  -----         \n",
      " 0   total_images          21033 non-null  int64         \n",
      " 1   last_price            21033 non-null  int64         \n",
      " 2   total_area            21033 non-null  float64       \n",
      " 3   first_day_exposition  21033 non-null  datetime64[ns]\n",
      " 4   rooms                 21033 non-null  int64         \n",
      " 5   ceiling_height        21033 non-null  float64       \n",
      " 6   floors_total          21033 non-null  int64         \n",
      " 7   living_area           21033 non-null  float64       \n",
      " 8   floor                 21033 non-null  int64         \n",
      " 9   is_apartment          21033 non-null  bool          \n",
      " 10  studio                21033 non-null  bool          \n",
      " 11  open_plan             21033 non-null  bool          \n",
      " 12  kitchen_area          21033 non-null  float64       \n",
      " 13  balcony               21033 non-null  int64         \n",
      " 14  locality_name         21033 non-null  object        \n",
      " 15  airports_nearest      16317 non-null  float64       \n",
      " 16  cityCenters_nearest   16338 non-null  float64       \n",
      " 17  parks_around3000      21033 non-null  int64         \n",
      " 18  parks_nearest         7253 non-null   float64       \n",
      " 19  ponds_around3000      21033 non-null  int64         \n",
      " 20  ponds_nearest         8100 non-null   float64       \n",
      " 21  days_exposition       21033 non-null  int64         \n",
      "dtypes: bool(3), datetime64[ns](1), float64(8), int64(9), object(1)\n",
      "memory usage: 3.3+ MB\n"
     ]
    }
   ],
   "source": [
    "data.info()"
   ]
  },
  {
   "cell_type": "code",
   "execution_count": 37,
   "id": "148b1b2b-4b7c-4813-86d0-243d9d915a03",
   "metadata": {},
   "outputs": [],
   "source": [
    "data = data.reset_index(drop=True)"
   ]
  },
  {
   "cell_type": "markdown",
   "id": "5ce34bfc-a5aa-4b2f-89bb-f4b6277cddce",
   "metadata": {},
   "source": [
    "Поищем неявные дубликаты. В нашем случае, они могут быть в столбце с названием населенного пункта."
   ]
  },
  {
   "cell_type": "code",
   "execution_count": 38,
   "id": "b50ff68f-2830-4516-af88-db85ca95c9dc",
   "metadata": {},
   "outputs": [
    {
     "data": {
      "text/plain": [
       "Санкт-Петербург            14110\n",
       "посёлок Мурино               420\n",
       "посёлок Шушары               395\n",
       "Всеволожск                   362\n",
       "Пушкин                       337\n",
       "                           ...  \n",
       "деревня Каськово               1\n",
       "поселок Жилпосёлок             1\n",
       "поселок Тёсово-4               1\n",
       "деревня Суоранда               1\n",
       "деревня Старые Бегуницы        1\n",
       "Name: locality_name, Length: 345, dtype: int64"
      ]
     },
     "execution_count": 38,
     "metadata": {},
     "output_type": "execute_result"
    }
   ],
   "source": [
    "data['locality_name'].value_counts()"
   ]
  },
  {
   "cell_type": "code",
   "execution_count": 39,
   "id": "33cb0741-1f86-47d4-9a49-12810b3eea92",
   "metadata": {},
   "outputs": [
    {
     "data": {
      "text/plain": [
       "array(['Санкт-Петербург', 'посёлок Шушары', 'городской посёлок Янино-1',\n",
       "       'посёлок Парголово', 'посёлок Мурино', 'Ломоносов', 'Сертолово',\n",
       "       'Петергоф', 'Пушкин', 'деревня Кудрово', 'Колпино', 'Гатчина',\n",
       "       'поселок Мурино', 'деревня Фёдоровское', 'Выборг', 'Кронштадт',\n",
       "       'Кировск', 'деревня Новое Девяткино', 'посёлок Металлострой',\n",
       "       'посёлок городского типа Лебяжье',\n",
       "       'посёлок городского типа Сиверский', 'поселок Молодцово',\n",
       "       'поселок городского типа Кузьмоловский',\n",
       "       'садовое товарищество Новая Ропша', 'Павловск',\n",
       "       'деревня Пикколово', 'Всеволожск', 'Волхов', 'Кингисепп',\n",
       "       'Приозерск', 'Сестрорецк', 'деревня Куттузи', 'посёлок Аннино',\n",
       "       'деревня Заклинье', 'поселок Торковичи', 'поселок Первомайское',\n",
       "       'Красное Село', 'посёлок Понтонный', 'деревня Старая',\n",
       "       'деревня Лесколово', 'село Путилово', 'Ивангород', 'Мурино',\n",
       "       'Сланцы', 'Шлиссельбург', 'Сясьстрой', 'Никольское', 'Зеленогорск',\n",
       "       'Сосновый Бор', 'поселок Новый Свет', 'деревня Оржицы',\n",
       "       'деревня Кальтино', 'Кудрово', 'поселок Романовка',\n",
       "       'посёлок Бугры', 'поселок Бугры', 'поселок городского типа Рощино',\n",
       "       'Кириши', 'Луга', 'Волосово', 'Отрадное', 'село Павлово',\n",
       "       'поселок Оредеж', 'посёлок городского типа Красный Бор',\n",
       "       'Коммунар', 'посёлок Молодёжное', 'деревня Нурма',\n",
       "       'поселок городского типа Синявино', 'Тосно', 'посёлок Новый Свет',\n",
       "       'посёлок городского типа Кузьмоловский', 'посёлок Стрельна',\n",
       "       'Бокситогорск', 'посёлок Александровская', 'деревня Лопухинка',\n",
       "       'поселок Терволово', 'поселок городского типа Советский',\n",
       "       'Подпорожье', 'посёлок Петровское',\n",
       "       'посёлок городского типа Токсово', 'поселок Сельцо',\n",
       "       'посёлок городского типа Вырица', 'деревня Келози',\n",
       "       'деревня Вартемяги', 'посёлок Тельмана',\n",
       "       'городской поселок Большая Ижора', 'Тихвин', 'деревня Агалатово',\n",
       "       'посёлок Новогорелово', 'городской посёлок Лесогорский',\n",
       "       'деревня Лаголово', 'поселок Цвелодубово',\n",
       "       'поселок городского типа Рахья', 'поселок городского типа Вырица',\n",
       "       'деревня Белогорка', 'поселок Заводской',\n",
       "       'городской посёлок Новоселье', 'деревня Большие Колпаны',\n",
       "       'деревня Горбунки', 'деревня Заневка', 'Приморск',\n",
       "       'городской посёлок Фёдоровское', 'деревня Мистолово',\n",
       "       'Новая Ладога', 'поселок Зимитицы', 'поселок Барышево',\n",
       "       'деревня Разметелево', 'поселок городского типа имени Свердлова',\n",
       "       'деревня Пеники', 'поселок Рябово', 'деревня Пудомяги',\n",
       "       'деревня Бегуницы', 'посёлок Поляны', 'городской посёлок Мга',\n",
       "       'поселок Елизаветино', 'посёлок городского типа Кузнечное',\n",
       "       'деревня Колтуши', 'поселок Запорожское',\n",
       "       'посёлок городского типа Рощино', 'деревня Гостилицы',\n",
       "       'деревня Малое Карлино', 'посёлок Мичуринское',\n",
       "       'посёлок городского типа имени Морозова', 'посёлок Песочный',\n",
       "       'посёлок Сосново', 'деревня Аро', 'поселок Ильичёво',\n",
       "       'посёлок городского типа Тайцы', 'деревня Малое Верево',\n",
       "       'поселок станции Вещево', 'деревня Калитино',\n",
       "       'посёлок городского типа Ульяновка', 'деревня Чудской Бор',\n",
       "       'поселок городского типа Дубровка', 'деревня Мины',\n",
       "       'поселок Войсковицы', 'посёлок городского типа имени Свердлова',\n",
       "       'деревня Коркино', 'посёлок Ропша',\n",
       "       'поселок городского типа Приладожский', 'посёлок Щеглово',\n",
       "       'посёлок Гаврилово', 'Лодейное Поле', 'Пикалёво',\n",
       "       'деревня Рабитицы', 'деревня Кузьмолово', 'деревня Малые Колпаны',\n",
       "       'поселок Тельмана', 'городской посёлок Назия', 'посёлок Репино',\n",
       "       'городской посёлок Павлово', 'посёлок Ильичёво', 'поселок Углово',\n",
       "       'деревня Низино', 'поселок Старая Малукса',\n",
       "       'садовое товарищество Рахья', 'поселок Аннино', 'поселок Победа',\n",
       "       'деревня Меньково', 'деревня Старые Бегуницы', 'посёлок Сапёрный',\n",
       "       'поселок Семрино', 'поселок Гаврилово', 'поселок Глажево',\n",
       "       'поселок Кобринское', 'деревня Гарболово', 'деревня Юкки',\n",
       "       'поселок станции Приветнинское', 'деревня Мануйлово',\n",
       "       'поселок Поляны', 'поселок Цвылёво', 'поселок Мельниково',\n",
       "       'посёлок Плодовое', 'посёлок Пудость', 'посёлок Усть-Луга',\n",
       "       'Светогорск', 'посёлок Победа', 'Любань', 'поселок Селезнёво',\n",
       "       'поселок городского типа Рябово', 'Каменногорск', 'деревня Кривко',\n",
       "       'деревня Парицы', 'поселок Жилпосёлок',\n",
       "       'посёлок городского типа Мга', 'городской поселок Янино-1',\n",
       "       'посёлок Войскорово', 'село Никольское', 'посёлок Терволово',\n",
       "       'поселок Стеклянный', 'посёлок Мыза-Ивановка',\n",
       "       'село Русско-Высоцкое', 'поселок городского типа Лебяжье',\n",
       "       'поселок городского типа Форносово', 'поселок Житково',\n",
       "       'поселок городского типа Красный Бор', 'городской посёлок Виллози',\n",
       "       'деревня Шпаньково', 'деревня Кипень', 'посёлок Сумино',\n",
       "       'посёлок Возрождение', 'деревня Старосиверская',\n",
       "       'посёлок Кикерино', 'поселок Возрождение',\n",
       "       'деревня Старое Хинколово', 'посёлок Пригородный',\n",
       "       'посёлок Торфяное', 'городской посёлок Будогощь',\n",
       "       'поселок Суходолье', 'поселок Красная Долина', 'деревня Хапо-Ое',\n",
       "       'поселок городского типа Дружная Горка', 'деревня Извара',\n",
       "       'поселок Лисий Нос', 'деревня Яльгелево', 'посёлок Стеклянный',\n",
       "       'село Рождествено', 'деревня Сяськелево', 'деревня Камышовка',\n",
       "       'садоводческое некоммерческое товарищество Лесная Поляна',\n",
       "       'поселок Жилгородок', 'посёлок городского типа Павлово',\n",
       "       'деревня Ялгино', 'деревня Батово', 'поселок Новый Учхоз',\n",
       "       'поселок Гончарово', 'поселок Почап', 'посёлок Сапёрное',\n",
       "       'посёлок Платформа 69-й километр', 'поселок Каложицы',\n",
       "       'деревня Фалилеево', 'деревня Пельгора',\n",
       "       'поселок городского типа Лесогорский', 'деревня Торошковичи',\n",
       "       'посёлок Белоостров', 'посёлок Алексеевка',\n",
       "       'посёлок городского типа Важины', 'поселок Глебычево',\n",
       "       'поселок Лукаши', 'поселок Петровское', 'деревня Щеглово',\n",
       "       'городской посёлок Рощино', 'поселок городского типа Никольский',\n",
       "       'поселок Кингисеппский',\n",
       "       'посёлок при железнодорожной станции Вещево', 'поселок Ушаки',\n",
       "       'деревня Старополье', 'деревня Котлы', 'деревня Сижно',\n",
       "       'деревня Лампово', 'деревня Торосово',\n",
       "       'посёлок Форт Красная Горка', 'деревня Новолисино',\n",
       "       'посёлок станции Громово', 'поселок городского типа Ефимовский',\n",
       "       'деревня Глинка', 'посёлок Мельниково',\n",
       "       'поселок городского типа Назия', 'деревня Старая Пустошь',\n",
       "       'поселок Коммунары', 'поселок Починок', 'деревня Разбегаево',\n",
       "       'посёлок городского типа Рябово', 'поселок Гладкое',\n",
       "       'посёлок при железнодорожной станции Приветнинское',\n",
       "       'поселок Тёсово-4', 'посёлок Жилгородок', 'деревня Бор',\n",
       "       'посёлок Коробицыно', 'деревня Большая Вруда', 'деревня Курковицы',\n",
       "       'посёлок Лисий Нос', 'поселок Серебрянский',\n",
       "       'городской посёлок Советский', 'посёлок Кобралово',\n",
       "       'поселок Кобралово', 'поселок городского типа Кондратьево',\n",
       "       'село Копорье', 'поселок Любань', 'деревня Реброво',\n",
       "       'деревня Зимитицы', 'деревня Тойворово', 'поселок Семиозерье',\n",
       "       'поселок Лесное', 'поселок Совхозный', 'поселок Усть-Луга',\n",
       "       'посёлок Суйда', 'посёлок городского типа Форносово',\n",
       "       'деревня Нижние Осельки', 'поселок Мичуринское', 'поселок Перово',\n",
       "       'Высоцк', 'поселок Гарболово', 'село Шум', 'поселок Котельский',\n",
       "       'посёлок Ленинское', 'деревня Большая Пустомержа', 'деревня Пижма',\n",
       "       'коттеджный поселок Кивеннапа Север', 'поселок Коробицыно',\n",
       "       'поселок Ромашки', 'деревня Каськово', 'деревня Куровицы',\n",
       "       'поселок Сумино', 'поселок городского типа Большая Ижора',\n",
       "       'поселок Кирпичное', 'деревня Ям-Тесово', 'деревня Терпилицы',\n",
       "       'посёлок городского типа Вознесенье',\n",
       "       'поселок городского типа Токсово', 'посёлок Шугозеро',\n",
       "       'деревня Ваганово', 'поселок Пушное', 'садовое товарищество Садко',\n",
       "       'деревня Выскатка', 'поселок Громово', 'посёлок станции Свирь',\n",
       "       'деревня Кисельня', 'село Старая Ладога', 'посёлок Старая Малукса',\n",
       "       'поселок Калитино', 'посёлок Высокоключевой',\n",
       "       'садовое товарищество Приладожский',\n",
       "       'посёлок Пансионат Зелёный Бор', 'посёлок Перово',\n",
       "       'деревня Ненимяки', 'поселок Пансионат Зелёный Бор',\n",
       "       'деревня Снегирёвка', 'деревня Рапполово', 'деревня Пустынка',\n",
       "       'поселок Рабитицы', 'деревня Большой Сабск', 'посёлок Усть-Ижора',\n",
       "       'деревня Лупполово', 'деревня Большое Рейзино',\n",
       "       'деревня Малая Романовка', 'деревня Суоранда',\n",
       "       'поселок Дружноселье', 'село Паша', 'поселок Володарское',\n",
       "       'деревня Нижняя', 'коттеджный посёлок Лесное', 'деревня Тихковицы',\n",
       "       'деревня Борисова Грива', 'посёлок Дзержинского'], dtype=object)"
      ]
     },
     "execution_count": 39,
     "metadata": {},
     "output_type": "execute_result"
    }
   ],
   "source": [
    "data['locality_name'].unique()"
   ]
  },
  {
   "cell_type": "markdown",
   "id": "f10d3722-4057-48cb-ac4f-190e71a5d6aa",
   "metadata": {},
   "source": [
    "При беглом просмотре замечаем одинаковые населенные пункты с разными вариантами написания.\\\n",
    "Некоторые дубликаты проверяем вручную: село Павлово и поселок Павлово — это разные населенные пункты, находящиеся в разных районах Ленинградской области, а поселок Рахья и садовое товарищество Рахья расположены рядом, но, согласно данным Яндекс.Карт, всё же не в одном и том же месте."
   ]
  },
  {
   "cell_type": "code",
   "execution_count": 40,
   "id": "4a92eb34-daef-4b46-9f1d-5992ef76c256",
   "metadata": {},
   "outputs": [],
   "source": [
    "data['locality_name'] = (\n",
    "    data['locality_name']\n",
    "    .str.replace('ё', 'е')\n",
    "    .replace(['поселок городского типа', 'городской поселок'], 'поселок', regex=True)\n",
    ") "
   ]
  },
  {
   "cell_type": "code",
   "execution_count": 41,
   "id": "e82fb338-7c58-4dae-b844-28d517ee93eb",
   "metadata": {},
   "outputs": [
    {
     "data": {
      "text/plain": [
       "Санкт-Петербург                               14110\n",
       "поселок Мурино                                  449\n",
       "поселок Шушары                                  395\n",
       "Всеволожск                                      362\n",
       "Пушкин                                          337\n",
       "                                              ...  \n",
       "поселок Жилпоселок                                1\n",
       "поселок при железнодорожной станции Вещево        1\n",
       "деревня Пустынка                                  1\n",
       "деревня Котлы                                     1\n",
       "поселок Ленинское                                 1\n",
       "Name: locality_name, Length: 303, dtype: int64"
      ]
     },
     "execution_count": 41,
     "metadata": {},
     "output_type": "execute_result"
    }
   ],
   "source": [
    "data['locality_name'].value_counts()"
   ]
  },
  {
   "cell_type": "code",
   "execution_count": 42,
   "id": "e3da8f9f-5f5e-48b1-b846-df688672361f",
   "metadata": {},
   "outputs": [],
   "source": [
    "data['locality_name'] = data['locality_name'].str.replace('деревня Кудрово', 'Кудрово')\n",
    "data['locality_name'] = data['locality_name'].str.replace('поселок Мурино', 'Мурино')\n",
    "data['locality_name'] = data['locality_name'].str.replace('поселок Любань', 'Любань') "
   ]
  },
  {
   "cell_type": "code",
   "execution_count": 43,
   "id": "8dd881c4-3efe-469e-9f44-cbc280725f1b",
   "metadata": {},
   "outputs": [
    {
     "data": {
      "text/plain": [
       "Санкт-Петербург             14110\n",
       "Мурино                        479\n",
       "поселок Шушары                395\n",
       "Кудрово                       387\n",
       "Всеволожск                    362\n",
       "                            ...  \n",
       "поселок Кондратьево             1\n",
       "поселок Совхозный               1\n",
       "деревня Тойворово               1\n",
       "деревня Старое Хинколово        1\n",
       "деревня Пустынка                1\n",
       "Name: locality_name, Length: 300, dtype: int64"
      ]
     },
     "execution_count": 43,
     "metadata": {},
     "output_type": "execute_result"
    }
   ],
   "source": [
    "data['locality_name'].value_counts()"
   ]
  },
  {
   "cell_type": "markdown",
   "id": "2a8b69d5",
   "metadata": {},
   "source": [
    "### Промежуточные выводы\n",
    "На этапе предобработки мы рассмотрели предоставленный датасет детально, обработали пропуски и аномальные значения там, где это возможно, привели данные к корректному типу, пригодному для дальнейших манипуляций.\n",
    "В ряде случаев мы столкнулись с невосполнимыми пропусками в данных: столбцы с информацией о расстоянии до аэропорта, парков, прудов. В случае решения реальной задачи, мы бы обратились к источнику данных за коррекцией датасета или же уточнением, что делать в такой ситуации и насколько это важно для нашего исследования."
   ]
  },
  {
   "cell_type": "markdown",
   "id": "c9a01f8c-94f3-452b-b496-ebba5a8aa1bb",
   "metadata": {},
   "source": [
    "# Шаг 3. Добавьте в таблицу новые столбцы со следующими параметрами:\n",
    "* цена одного квадратного метра (нужно поделить стоимость объекта на его общую площадь, а затем округлить до двух знаков после запятой);\n",
    "* день недели публикации объявления (0 — понедельник, 1 — вторник и так далее);\n",
    "* месяц публикации объявления;\n",
    "* год публикации объявления;\n",
    "* тип этажа квартиры (значения — «‎первый», «последний», «другой»);\n",
    "* расстояние до центра города в километрах (переведите из м в км и округлите до ближайших целых значений)."
   ]
  },
  {
   "cell_type": "code",
   "execution_count": 44,
   "id": "93e6cd51-c04e-4909-9b84-3dab1cd791b6",
   "metadata": {},
   "outputs": [],
   "source": [
    "data['cost_per_sqm'] = data['last_price'] / data['total_area']\n",
    "data['cost_per_sqm'] = round(data['cost_per_sqm'], 2)"
   ]
  },
  {
   "cell_type": "code",
   "execution_count": 45,
   "id": "ef9918da-8b52-4511-aedf-7e4a73238387",
   "metadata": {},
   "outputs": [],
   "source": [
    "data['publication_day'] = data['first_day_exposition'].dt.weekday\n",
    "data['publication_month'] = data['first_day_exposition'].dt.month\n",
    "data['publication_year'] = data['first_day_exposition'].dt.year"
   ]
  },
  {
   "cell_type": "code",
   "execution_count": 46,
   "id": "e7faa46c-fd68-45ed-bc99-3b40d7a9baaf",
   "metadata": {},
   "outputs": [],
   "source": [
    "def floor_type(row):\n",
    "    floors_total = row['floors_total']\n",
    "    floor = row['floor']\n",
    "    if floor == 1:\n",
    "        return 'первый'\n",
    "    elif floor == floors_total:\n",
    "        return 'последний'\n",
    "    elif 1 < floor < floors_total:\n",
    "        return 'другой'\n",
    "\n",
    "data['floor_category'] = data.apply(floor_type, axis = 1)"
   ]
  },
  {
   "cell_type": "code",
   "execution_count": 47,
   "id": "ea2389d8-0611-4b18-9d01-468c9fe35973",
   "metadata": {},
   "outputs": [],
   "source": [
    "data['cityCenters_nearest_km'] = data['cityCenters_nearest'] / 1000 \n",
    "data['cityCenters_nearest_km'] = data['cityCenters_nearest_km'].fillna(0).astype('int64') #помним, что в этом столбце у нас были пропуски,\n",
    "# с которыми мы ничего не можем сделать на данный момент"
   ]
  },
  {
   "cell_type": "code",
   "execution_count": 48,
   "id": "714f6af1-c4d7-483e-905d-72d4ed97c174",
   "metadata": {},
   "outputs": [
    {
     "data": {
      "text/html": [
       "<div>\n",
       "<style scoped>\n",
       "    .dataframe tbody tr th:only-of-type {\n",
       "        vertical-align: middle;\n",
       "    }\n",
       "\n",
       "    .dataframe tbody tr th {\n",
       "        vertical-align: top;\n",
       "    }\n",
       "\n",
       "    .dataframe thead th {\n",
       "        text-align: right;\n",
       "    }\n",
       "</style>\n",
       "<table border=\"1\" class=\"dataframe\">\n",
       "  <thead>\n",
       "    <tr style=\"text-align: right;\">\n",
       "      <th></th>\n",
       "      <th>total_images</th>\n",
       "      <th>last_price</th>\n",
       "      <th>total_area</th>\n",
       "      <th>first_day_exposition</th>\n",
       "      <th>rooms</th>\n",
       "      <th>ceiling_height</th>\n",
       "      <th>floors_total</th>\n",
       "      <th>living_area</th>\n",
       "      <th>floor</th>\n",
       "      <th>is_apartment</th>\n",
       "      <th>studio</th>\n",
       "      <th>open_plan</th>\n",
       "      <th>kitchen_area</th>\n",
       "      <th>balcony</th>\n",
       "      <th>locality_name</th>\n",
       "      <th>airports_nearest</th>\n",
       "      <th>cityCenters_nearest</th>\n",
       "      <th>parks_around3000</th>\n",
       "      <th>parks_nearest</th>\n",
       "      <th>ponds_around3000</th>\n",
       "      <th>ponds_nearest</th>\n",
       "      <th>days_exposition</th>\n",
       "      <th>cost_per_sqm</th>\n",
       "      <th>publication_day</th>\n",
       "      <th>publication_month</th>\n",
       "      <th>publication_year</th>\n",
       "      <th>floor_category</th>\n",
       "      <th>cityCenters_nearest_km</th>\n",
       "    </tr>\n",
       "  </thead>\n",
       "  <tbody>\n",
       "    <tr>\n",
       "      <th>0</th>\n",
       "      <td>20</td>\n",
       "      <td>13000000</td>\n",
       "      <td>108.00</td>\n",
       "      <td>2019-03-07</td>\n",
       "      <td>3</td>\n",
       "      <td>2.7</td>\n",
       "      <td>16</td>\n",
       "      <td>51.00</td>\n",
       "      <td>8</td>\n",
       "      <td>False</td>\n",
       "      <td>False</td>\n",
       "      <td>False</td>\n",
       "      <td>25.00</td>\n",
       "      <td>0</td>\n",
       "      <td>Санкт-Петербург</td>\n",
       "      <td>18863.0</td>\n",
       "      <td>16028.0</td>\n",
       "      <td>1</td>\n",
       "      <td>482.0</td>\n",
       "      <td>2</td>\n",
       "      <td>755.0</td>\n",
       "      <td>0</td>\n",
       "      <td>120370.37</td>\n",
       "      <td>3</td>\n",
       "      <td>3</td>\n",
       "      <td>2019</td>\n",
       "      <td>другой</td>\n",
       "      <td>16</td>\n",
       "    </tr>\n",
       "    <tr>\n",
       "      <th>1</th>\n",
       "      <td>7</td>\n",
       "      <td>3350000</td>\n",
       "      <td>40.40</td>\n",
       "      <td>2018-12-04</td>\n",
       "      <td>1</td>\n",
       "      <td>0.0</td>\n",
       "      <td>11</td>\n",
       "      <td>18.60</td>\n",
       "      <td>1</td>\n",
       "      <td>False</td>\n",
       "      <td>False</td>\n",
       "      <td>False</td>\n",
       "      <td>11.00</td>\n",
       "      <td>2</td>\n",
       "      <td>поселок Шушары</td>\n",
       "      <td>12817.0</td>\n",
       "      <td>18603.0</td>\n",
       "      <td>0</td>\n",
       "      <td>NaN</td>\n",
       "      <td>0</td>\n",
       "      <td>NaN</td>\n",
       "      <td>81</td>\n",
       "      <td>82920.79</td>\n",
       "      <td>1</td>\n",
       "      <td>12</td>\n",
       "      <td>2018</td>\n",
       "      <td>первый</td>\n",
       "      <td>18</td>\n",
       "    </tr>\n",
       "    <tr>\n",
       "      <th>2</th>\n",
       "      <td>10</td>\n",
       "      <td>5196000</td>\n",
       "      <td>56.00</td>\n",
       "      <td>2015-08-20</td>\n",
       "      <td>2</td>\n",
       "      <td>0.0</td>\n",
       "      <td>5</td>\n",
       "      <td>34.30</td>\n",
       "      <td>4</td>\n",
       "      <td>False</td>\n",
       "      <td>False</td>\n",
       "      <td>False</td>\n",
       "      <td>8.30</td>\n",
       "      <td>0</td>\n",
       "      <td>Санкт-Петербург</td>\n",
       "      <td>21741.0</td>\n",
       "      <td>13933.0</td>\n",
       "      <td>1</td>\n",
       "      <td>90.0</td>\n",
       "      <td>2</td>\n",
       "      <td>574.0</td>\n",
       "      <td>558</td>\n",
       "      <td>92785.71</td>\n",
       "      <td>3</td>\n",
       "      <td>8</td>\n",
       "      <td>2015</td>\n",
       "      <td>другой</td>\n",
       "      <td>13</td>\n",
       "    </tr>\n",
       "    <tr>\n",
       "      <th>3</th>\n",
       "      <td>2</td>\n",
       "      <td>10000000</td>\n",
       "      <td>100.00</td>\n",
       "      <td>2018-06-19</td>\n",
       "      <td>2</td>\n",
       "      <td>3.0</td>\n",
       "      <td>14</td>\n",
       "      <td>32.00</td>\n",
       "      <td>13</td>\n",
       "      <td>False</td>\n",
       "      <td>False</td>\n",
       "      <td>False</td>\n",
       "      <td>41.00</td>\n",
       "      <td>0</td>\n",
       "      <td>Санкт-Петербург</td>\n",
       "      <td>31856.0</td>\n",
       "      <td>8098.0</td>\n",
       "      <td>2</td>\n",
       "      <td>112.0</td>\n",
       "      <td>1</td>\n",
       "      <td>48.0</td>\n",
       "      <td>121</td>\n",
       "      <td>100000.00</td>\n",
       "      <td>1</td>\n",
       "      <td>6</td>\n",
       "      <td>2018</td>\n",
       "      <td>другой</td>\n",
       "      <td>8</td>\n",
       "    </tr>\n",
       "    <tr>\n",
       "      <th>4</th>\n",
       "      <td>10</td>\n",
       "      <td>2890000</td>\n",
       "      <td>30.40</td>\n",
       "      <td>2018-09-10</td>\n",
       "      <td>1</td>\n",
       "      <td>0.0</td>\n",
       "      <td>12</td>\n",
       "      <td>14.40</td>\n",
       "      <td>5</td>\n",
       "      <td>False</td>\n",
       "      <td>False</td>\n",
       "      <td>False</td>\n",
       "      <td>9.10</td>\n",
       "      <td>0</td>\n",
       "      <td>поселок Янино-1</td>\n",
       "      <td>NaN</td>\n",
       "      <td>NaN</td>\n",
       "      <td>0</td>\n",
       "      <td>NaN</td>\n",
       "      <td>0</td>\n",
       "      <td>NaN</td>\n",
       "      <td>55</td>\n",
       "      <td>95065.79</td>\n",
       "      <td>0</td>\n",
       "      <td>9</td>\n",
       "      <td>2018</td>\n",
       "      <td>другой</td>\n",
       "      <td>0</td>\n",
       "    </tr>\n",
       "    <tr>\n",
       "      <th>5</th>\n",
       "      <td>6</td>\n",
       "      <td>3700000</td>\n",
       "      <td>37.30</td>\n",
       "      <td>2017-11-02</td>\n",
       "      <td>1</td>\n",
       "      <td>0.0</td>\n",
       "      <td>26</td>\n",
       "      <td>10.60</td>\n",
       "      <td>6</td>\n",
       "      <td>False</td>\n",
       "      <td>False</td>\n",
       "      <td>False</td>\n",
       "      <td>14.40</td>\n",
       "      <td>1</td>\n",
       "      <td>поселок Парголово</td>\n",
       "      <td>52996.0</td>\n",
       "      <td>19143.0</td>\n",
       "      <td>0</td>\n",
       "      <td>NaN</td>\n",
       "      <td>0</td>\n",
       "      <td>NaN</td>\n",
       "      <td>155</td>\n",
       "      <td>99195.71</td>\n",
       "      <td>3</td>\n",
       "      <td>11</td>\n",
       "      <td>2017</td>\n",
       "      <td>другой</td>\n",
       "      <td>19</td>\n",
       "    </tr>\n",
       "    <tr>\n",
       "      <th>6</th>\n",
       "      <td>20</td>\n",
       "      <td>2900000</td>\n",
       "      <td>33.16</td>\n",
       "      <td>2018-05-23</td>\n",
       "      <td>1</td>\n",
       "      <td>0.0</td>\n",
       "      <td>27</td>\n",
       "      <td>15.43</td>\n",
       "      <td>26</td>\n",
       "      <td>False</td>\n",
       "      <td>False</td>\n",
       "      <td>False</td>\n",
       "      <td>8.81</td>\n",
       "      <td>0</td>\n",
       "      <td>Мурино</td>\n",
       "      <td>NaN</td>\n",
       "      <td>NaN</td>\n",
       "      <td>0</td>\n",
       "      <td>NaN</td>\n",
       "      <td>0</td>\n",
       "      <td>NaN</td>\n",
       "      <td>189</td>\n",
       "      <td>87454.76</td>\n",
       "      <td>2</td>\n",
       "      <td>5</td>\n",
       "      <td>2018</td>\n",
       "      <td>другой</td>\n",
       "      <td>0</td>\n",
       "    </tr>\n",
       "    <tr>\n",
       "      <th>7</th>\n",
       "      <td>18</td>\n",
       "      <td>5400000</td>\n",
       "      <td>61.00</td>\n",
       "      <td>2017-02-26</td>\n",
       "      <td>3</td>\n",
       "      <td>2.5</td>\n",
       "      <td>9</td>\n",
       "      <td>43.60</td>\n",
       "      <td>7</td>\n",
       "      <td>False</td>\n",
       "      <td>False</td>\n",
       "      <td>False</td>\n",
       "      <td>6.50</td>\n",
       "      <td>2</td>\n",
       "      <td>Санкт-Петербург</td>\n",
       "      <td>50898.0</td>\n",
       "      <td>15008.0</td>\n",
       "      <td>0</td>\n",
       "      <td>NaN</td>\n",
       "      <td>0</td>\n",
       "      <td>NaN</td>\n",
       "      <td>289</td>\n",
       "      <td>88524.59</td>\n",
       "      <td>6</td>\n",
       "      <td>2</td>\n",
       "      <td>2017</td>\n",
       "      <td>другой</td>\n",
       "      <td>15</td>\n",
       "    </tr>\n",
       "    <tr>\n",
       "      <th>8</th>\n",
       "      <td>5</td>\n",
       "      <td>5050000</td>\n",
       "      <td>39.60</td>\n",
       "      <td>2017-11-16</td>\n",
       "      <td>1</td>\n",
       "      <td>2.7</td>\n",
       "      <td>12</td>\n",
       "      <td>20.30</td>\n",
       "      <td>3</td>\n",
       "      <td>False</td>\n",
       "      <td>False</td>\n",
       "      <td>False</td>\n",
       "      <td>8.50</td>\n",
       "      <td>0</td>\n",
       "      <td>Санкт-Петербург</td>\n",
       "      <td>38357.0</td>\n",
       "      <td>13878.0</td>\n",
       "      <td>1</td>\n",
       "      <td>310.0</td>\n",
       "      <td>2</td>\n",
       "      <td>553.0</td>\n",
       "      <td>137</td>\n",
       "      <td>127525.25</td>\n",
       "      <td>3</td>\n",
       "      <td>11</td>\n",
       "      <td>2017</td>\n",
       "      <td>другой</td>\n",
       "      <td>13</td>\n",
       "    </tr>\n",
       "    <tr>\n",
       "      <th>9</th>\n",
       "      <td>9</td>\n",
       "      <td>3300000</td>\n",
       "      <td>44.00</td>\n",
       "      <td>2018-08-27</td>\n",
       "      <td>2</td>\n",
       "      <td>0.0</td>\n",
       "      <td>5</td>\n",
       "      <td>31.00</td>\n",
       "      <td>4</td>\n",
       "      <td>False</td>\n",
       "      <td>False</td>\n",
       "      <td>False</td>\n",
       "      <td>6.00</td>\n",
       "      <td>1</td>\n",
       "      <td>Ломоносов</td>\n",
       "      <td>48252.0</td>\n",
       "      <td>51677.0</td>\n",
       "      <td>0</td>\n",
       "      <td>NaN</td>\n",
       "      <td>0</td>\n",
       "      <td>NaN</td>\n",
       "      <td>7</td>\n",
       "      <td>75000.00</td>\n",
       "      <td>0</td>\n",
       "      <td>8</td>\n",
       "      <td>2018</td>\n",
       "      <td>другой</td>\n",
       "      <td>51</td>\n",
       "    </tr>\n",
       "  </tbody>\n",
       "</table>\n",
       "</div>"
      ],
      "text/plain": [
       "   total_images  last_price  total_area first_day_exposition  rooms  \\\n",
       "0            20    13000000      108.00           2019-03-07      3   \n",
       "1             7     3350000       40.40           2018-12-04      1   \n",
       "2            10     5196000       56.00           2015-08-20      2   \n",
       "3             2    10000000      100.00           2018-06-19      2   \n",
       "4            10     2890000       30.40           2018-09-10      1   \n",
       "5             6     3700000       37.30           2017-11-02      1   \n",
       "6            20     2900000       33.16           2018-05-23      1   \n",
       "7            18     5400000       61.00           2017-02-26      3   \n",
       "8             5     5050000       39.60           2017-11-16      1   \n",
       "9             9     3300000       44.00           2018-08-27      2   \n",
       "\n",
       "   ceiling_height  floors_total  living_area  floor  is_apartment  studio  \\\n",
       "0             2.7            16        51.00      8         False   False   \n",
       "1             0.0            11        18.60      1         False   False   \n",
       "2             0.0             5        34.30      4         False   False   \n",
       "3             3.0            14        32.00     13         False   False   \n",
       "4             0.0            12        14.40      5         False   False   \n",
       "5             0.0            26        10.60      6         False   False   \n",
       "6             0.0            27        15.43     26         False   False   \n",
       "7             2.5             9        43.60      7         False   False   \n",
       "8             2.7            12        20.30      3         False   False   \n",
       "9             0.0             5        31.00      4         False   False   \n",
       "\n",
       "   open_plan  kitchen_area  balcony      locality_name  airports_nearest  \\\n",
       "0      False         25.00        0    Санкт-Петербург           18863.0   \n",
       "1      False         11.00        2     поселок Шушары           12817.0   \n",
       "2      False          8.30        0    Санкт-Петербург           21741.0   \n",
       "3      False         41.00        0    Санкт-Петербург           31856.0   \n",
       "4      False          9.10        0    поселок Янино-1               NaN   \n",
       "5      False         14.40        1  поселок Парголово           52996.0   \n",
       "6      False          8.81        0             Мурино               NaN   \n",
       "7      False          6.50        2    Санкт-Петербург           50898.0   \n",
       "8      False          8.50        0    Санкт-Петербург           38357.0   \n",
       "9      False          6.00        1          Ломоносов           48252.0   \n",
       "\n",
       "   cityCenters_nearest  parks_around3000  parks_nearest  ponds_around3000  \\\n",
       "0              16028.0                 1          482.0                 2   \n",
       "1              18603.0                 0            NaN                 0   \n",
       "2              13933.0                 1           90.0                 2   \n",
       "3               8098.0                 2          112.0                 1   \n",
       "4                  NaN                 0            NaN                 0   \n",
       "5              19143.0                 0            NaN                 0   \n",
       "6                  NaN                 0            NaN                 0   \n",
       "7              15008.0                 0            NaN                 0   \n",
       "8              13878.0                 1          310.0                 2   \n",
       "9              51677.0                 0            NaN                 0   \n",
       "\n",
       "   ponds_nearest  days_exposition  cost_per_sqm  publication_day  \\\n",
       "0          755.0                0     120370.37                3   \n",
       "1            NaN               81      82920.79                1   \n",
       "2          574.0              558      92785.71                3   \n",
       "3           48.0              121     100000.00                1   \n",
       "4            NaN               55      95065.79                0   \n",
       "5            NaN              155      99195.71                3   \n",
       "6            NaN              189      87454.76                2   \n",
       "7            NaN              289      88524.59                6   \n",
       "8          553.0              137     127525.25                3   \n",
       "9            NaN                7      75000.00                0   \n",
       "\n",
       "   publication_month  publication_year floor_category  cityCenters_nearest_km  \n",
       "0                  3              2019         другой                      16  \n",
       "1                 12              2018         первый                      18  \n",
       "2                  8              2015         другой                      13  \n",
       "3                  6              2018         другой                       8  \n",
       "4                  9              2018         другой                       0  \n",
       "5                 11              2017         другой                      19  \n",
       "6                  5              2018         другой                       0  \n",
       "7                  2              2017         другой                      15  \n",
       "8                 11              2017         другой                      13  \n",
       "9                  8              2018         другой                      51  "
      ]
     },
     "execution_count": 48,
     "metadata": {},
     "output_type": "execute_result"
    }
   ],
   "source": [
    "data.head(10)"
   ]
  },
  {
   "cell_type": "markdown",
   "id": "bcd19039-0368-4d7c-b0ef-de0c89d36368",
   "metadata": {},
   "source": [
    "# Шаг 4. Исследовательский анализ данных."
   ]
  },
  {
   "cell_type": "markdown",
   "id": "cb0e5a24-c292-496b-9913-d0cfecf506f6",
   "metadata": {},
   "source": [
    "## Изучить параметры и построить для каждого гистограмму. Обработать аномальные значения, если таковые имеются.\n",
    "**Список параметров:**\n",
    "* общая площадь;\n",
    "* жилая площадь;\n",
    "* площадь кухни;\n",
    "* цена объекта;\n",
    "* количество комнат;\n",
    "* высота потолков;\n",
    "* тип этажа квартиры («первый», «последний», «другой»);\n",
    "* общее количество этажей в доме;\n",
    "* расстояние до центра города в метрах;\n",
    "* расстояние до ближайшего парка\\\n",
    "Опишите все ваши наблюдения по параметрам в ячейке с типом markdown."
   ]
  },
  {
   "cell_type": "code",
   "execution_count": 49,
   "id": "f97c58e7-74c9-4b3d-8b4f-1b987b41ec82",
   "metadata": {},
   "outputs": [
    {
     "data": {
      "text/plain": [
       "count    21033.000000\n",
       "mean        60.299893\n",
       "std         34.486710\n",
       "min         14.000000\n",
       "25%         40.100000\n",
       "50%         52.000000\n",
       "75%         69.900000\n",
       "max        900.000000\n",
       "Name: total_area, dtype: float64"
      ]
     },
     "execution_count": 49,
     "metadata": {},
     "output_type": "execute_result"
    },
    {
     "data": {
      "image/png": "[encoded data removed]",
      "text/plain": [
       "<Figure size 432x288 with 1 Axes>"
      ]
     },
     "metadata": {
      "needs_background": "light"
     },
     "output_type": "display_data"
    }
   ],
   "source": [
    "data.hist(column = 'total_area', bins=100, grid = True, range=(0,1000))\n",
    "plt.title('Общая площадь')\n",
    "data['total_area'].describe()"
   ]
  },
  {
   "cell_type": "markdown",
   "id": "9f6c417f-1b06-49e9-98ea-740d6a0a5957",
   "metadata": {},
   "source": [
    "Сказать особо нечего: распределение данных нормальное.\\\n",
    "В выборке после предобработки остались квартиры с общей площадью от 14 кв.м. до 900 кв.м., средняя площадь квартир — 60,2 кв.м., медиана — 52 кв.м.\\\n",
    "Значения похожи на реальные, кроме выброса в 900 кв.м."
   ]
  },
  {
   "cell_type": "code",
   "execution_count": 50,
   "id": "b27f9539-d975-4c2a-830f-3e69fd4a8c92",
   "metadata": {},
   "outputs": [
    {
     "data": {
      "text/plain": [
       "count    21033.000000\n",
       "mean        34.544480\n",
       "std         21.900639\n",
       "min          8.000000\n",
       "25%         18.700000\n",
       "50%         30.000000\n",
       "75%         42.400000\n",
       "max        409.700000\n",
       "Name: living_area, dtype: float64"
      ]
     },
     "execution_count": 50,
     "metadata": {},
     "output_type": "execute_result"
    },
    {
     "data": {
      "image/png": "[encoded data removed]",
      "text/plain": [
       "<Figure size 432x288 with 1 Axes>"
      ]
     },
     "metadata": {
      "needs_background": "light"
     },
     "output_type": "display_data"
    }
   ],
   "source": [
    "data.hist(column = 'living_area', bins=100, grid = True, range=(0,500))\n",
    "plt.title('Жилая площадь')\n",
    "data['living_area'].describe()"
   ]
  },
  {
   "cell_type": "markdown",
   "id": "67f98073-52c1-4158-9210-0e474db6e812",
   "metadata": {},
   "source": [
    "Как и в предыдущем пункте, распределение нормальное, отмечаем наличие выброса, но не влияющего на результат.\\\n",
    "Жилая площадь колеблется в диапахоне от 8 кв.м. до 409 кв.м. Средняя жилая площадь квартир — 34,5 кв.м. Медиана — 30 кв.м.\\\n",
    "Значения также вполне реальны, кроме выброса в 409 кв.м.\\\n",
    "Проверим, может быть, оба выброса относятся к одной и той же строке. Если так, мы можем её исправить."
   ]
  },
  {
   "cell_type": "code",
   "execution_count": 51,
   "id": "0bfcce2b-40cb-4f9d-9a37-a0e215a7eb30",
   "metadata": {},
   "outputs": [
    {
     "data": {
      "text/html": [
       "<div>\n",
       "<style scoped>\n",
       "    .dataframe tbody tr th:only-of-type {\n",
       "        vertical-align: middle;\n",
       "    }\n",
       "\n",
       "    .dataframe tbody tr th {\n",
       "        vertical-align: top;\n",
       "    }\n",
       "\n",
       "    .dataframe thead th {\n",
       "        text-align: right;\n",
       "    }\n",
       "</style>\n",
       "<table border=\"1\" class=\"dataframe\">\n",
       "  <thead>\n",
       "    <tr style=\"text-align: right;\">\n",
       "      <th></th>\n",
       "      <th>total_images</th>\n",
       "      <th>last_price</th>\n",
       "      <th>total_area</th>\n",
       "      <th>first_day_exposition</th>\n",
       "      <th>rooms</th>\n",
       "      <th>ceiling_height</th>\n",
       "      <th>floors_total</th>\n",
       "      <th>living_area</th>\n",
       "      <th>floor</th>\n",
       "      <th>is_apartment</th>\n",
       "      <th>studio</th>\n",
       "      <th>open_plan</th>\n",
       "      <th>kitchen_area</th>\n",
       "      <th>balcony</th>\n",
       "      <th>locality_name</th>\n",
       "      <th>airports_nearest</th>\n",
       "      <th>cityCenters_nearest</th>\n",
       "      <th>parks_around3000</th>\n",
       "      <th>parks_nearest</th>\n",
       "      <th>ponds_around3000</th>\n",
       "      <th>ponds_nearest</th>\n",
       "      <th>days_exposition</th>\n",
       "      <th>cost_per_sqm</th>\n",
       "      <th>publication_day</th>\n",
       "      <th>publication_month</th>\n",
       "      <th>publication_year</th>\n",
       "      <th>floor_category</th>\n",
       "      <th>cityCenters_nearest_km</th>\n",
       "    </tr>\n",
       "  </thead>\n",
       "  <tbody>\n",
       "    <tr>\n",
       "      <th>17350</th>\n",
       "      <td>8</td>\n",
       "      <td>420000000</td>\n",
       "      <td>900.0</td>\n",
       "      <td>2017-12-06</td>\n",
       "      <td>12</td>\n",
       "      <td>2.8</td>\n",
       "      <td>25</td>\n",
       "      <td>409.7</td>\n",
       "      <td>25</td>\n",
       "      <td>False</td>\n",
       "      <td>False</td>\n",
       "      <td>False</td>\n",
       "      <td>112.0</td>\n",
       "      <td>0</td>\n",
       "      <td>Санкт-Петербург</td>\n",
       "      <td>30706.0</td>\n",
       "      <td>7877.0</td>\n",
       "      <td>0</td>\n",
       "      <td>NaN</td>\n",
       "      <td>2</td>\n",
       "      <td>318.0</td>\n",
       "      <td>106</td>\n",
       "      <td>466666.67</td>\n",
       "      <td>2</td>\n",
       "      <td>12</td>\n",
       "      <td>2017</td>\n",
       "      <td>последний</td>\n",
       "      <td>7</td>\n",
       "    </tr>\n",
       "  </tbody>\n",
       "</table>\n",
       "</div>"
      ],
      "text/plain": [
       "       total_images  last_price  total_area first_day_exposition  rooms  \\\n",
       "17350             8   420000000       900.0           2017-12-06     12   \n",
       "\n",
       "       ceiling_height  floors_total  living_area  floor  is_apartment  studio  \\\n",
       "17350             2.8            25        409.7     25         False   False   \n",
       "\n",
       "       open_plan  kitchen_area  balcony    locality_name  airports_nearest  \\\n",
       "17350      False         112.0        0  Санкт-Петербург           30706.0   \n",
       "\n",
       "       cityCenters_nearest  parks_around3000  parks_nearest  ponds_around3000  \\\n",
       "17350               7877.0                 0            NaN                 2   \n",
       "\n",
       "       ponds_nearest  days_exposition  cost_per_sqm  publication_day  \\\n",
       "17350          318.0              106     466666.67                2   \n",
       "\n",
       "       publication_month  publication_year floor_category  \\\n",
       "17350                 12              2017      последний   \n",
       "\n",
       "       cityCenters_nearest_km  \n",
       "17350                       7  "
      ]
     },
     "execution_count": 51,
     "metadata": {},
     "output_type": "execute_result"
    }
   ],
   "source": [
    "data.loc[data['total_area'] == 900]"
   ]
  },
  {
   "cell_type": "markdown",
   "id": "33dadb5d-adc0-4463-954a-e7f6bc3207a0",
   "metadata": {},
   "source": [
    "Да, 900 кв.м. общей площади и 409,7 кв.м. жилой площади относятся к одной квартире, но в этой квартире 12 комнат. Почему бы и нет."
   ]
  },
  {
   "cell_type": "code",
   "execution_count": 52,
   "id": "9fbea4f4-8e61-4702-9486-8fd2845aae2e",
   "metadata": {},
   "outputs": [
    {
     "data": {
      "text/plain": [
       "count    21033.000000\n",
       "mean        10.440068\n",
       "std          5.884502\n",
       "min          0.000000\n",
       "25%          7.000000\n",
       "50%          9.000000\n",
       "75%         12.000000\n",
       "max        112.000000\n",
       "Name: kitchen_area, dtype: float64"
      ]
     },
     "execution_count": 52,
     "metadata": {},
     "output_type": "execute_result"
    },
    {
     "data": {
      "image/png": "[encoded data removed]",
      "text/plain": [
       "<Figure size 432x288 with 1 Axes>"
      ]
     },
     "metadata": {
      "needs_background": "light"
     },
     "output_type": "display_data"
    }
   ],
   "source": [
    "data.hist(column = 'kitchen_area', bins=100, grid = True, range=(0,150))\n",
    "plt.title('Площадь кухни')\n",
    "data['kitchen_area'].describe()"
   ]
  },
  {
   "cell_type": "markdown",
   "id": "d84f5ee5-cff0-4b88-8f8b-83b071fe1ad2",
   "metadata": {},
   "source": [
    "Распределение нормальное, есть выброс с площадью кухни 112 кв.м.\\\n",
    "Средний размер кухонь в Санкт-Петербурге составляет 5,8 кв.м., медиана — 9 кв.м."
   ]
  },
  {
   "cell_type": "code",
   "execution_count": 53,
   "id": "64c1a841-a09d-428e-b666-2b4c7233a9ed",
   "metadata": {},
   "outputs": [
    {
     "data": {
      "text/plain": [
       "count    2.103300e+04\n",
       "mean     6.479150e+06\n",
       "std      9.570456e+06\n",
       "min      1.219000e+04\n",
       "25%      3.498000e+06\n",
       "50%      4.680000e+06\n",
       "75%      6.790000e+06\n",
       "max      4.200000e+08\n",
       "Name: last_price, dtype: float64"
      ]
     },
     "execution_count": 53,
     "metadata": {},
     "output_type": "execute_result"
    }
   ],
   "source": [
    "data['last_price'].describe()"
   ]
  },
  {
   "cell_type": "markdown",
   "id": "cb34d22b-aaf7-48d4-84f8-a10ebf2a5983",
   "metadata": {},
   "source": [
    "Неплохо, но экспоненциальный вид затрудняет анализ.\\\n",
    "Будем считать в тысячах."
   ]
  },
  {
   "cell_type": "code",
   "execution_count": 54,
   "id": "377c4bda-3360-4723-9d92-5870c03cdc49",
   "metadata": {},
   "outputs": [],
   "source": [
    "data['last_price'] = data['last_price'] / 1000"
   ]
  },
  {
   "cell_type": "code",
   "execution_count": 55,
   "id": "703982df-6eb5-4efb-9613-c8b9b023fef9",
   "metadata": {},
   "outputs": [
    {
     "data": {
      "text/plain": [
       "count     21033.000000\n",
       "mean       6479.150113\n",
       "std        9570.455736\n",
       "min          12.190000\n",
       "25%        3498.000000\n",
       "50%        4680.000000\n",
       "75%        6790.000000\n",
       "max      420000.000000\n",
       "Name: last_price, dtype: float64"
      ]
     },
     "execution_count": 55,
     "metadata": {},
     "output_type": "execute_result"
    },
    {
     "data": {
      "image/png": "[encoded data removed]",
      "text/plain": [
       "<Figure size 432x288 with 1 Axes>"
      ]
     },
     "metadata": {
      "needs_background": "light"
     },
     "output_type": "display_data"
    }
   ],
   "source": [
    "data.hist(column = 'last_price', bins=300, grid = True, range=(0,20000))\n",
    "plt.title('Стоимость')\n",
    "data['last_price'].describe()"
   ]
  },
  {
   "cell_type": "markdown",
   "id": "c9842499-7abf-40f2-b73c-504533f2c49d",
   "metadata": {},
   "source": [
    "Наблюдаем нормальное распределение. Минимальная стоимость 12.190 (и это неправдоподобно), максимальная стоимость 420.000.000, средняя стоимость составляет 6.479.150 и медиана 4.680.000. "
   ]
  },
  {
   "cell_type": "code",
   "execution_count": 56,
   "id": "d0931381-6059-42d1-ad4f-64bd36217127",
   "metadata": {},
   "outputs": [
    {
     "data": {
      "text/plain": [
       "count    21033.000000\n",
       "mean         2.082299\n",
       "std          1.073837\n",
       "min          0.000000\n",
       "25%          1.000000\n",
       "50%          2.000000\n",
       "75%          3.000000\n",
       "max         19.000000\n",
       "Name: rooms, dtype: float64"
      ]
     },
     "execution_count": 56,
     "metadata": {},
     "output_type": "execute_result"
    },
    {
     "data": {
      "image/png": "[encoded data removed]",
      "text/plain": [
       "<Figure size 432x288 with 1 Axes>"
      ]
     },
     "metadata": {
      "needs_background": "light"
     },
     "output_type": "display_data"
    }
   ],
   "source": [
    "data.hist(column = 'rooms', bins=20, grid = True, range=(0,20))\n",
    "plt.title('Количество комнат')\n",
    "data['rooms'].describe()"
   ]
  },
  {
   "cell_type": "markdown",
   "id": "a38b5048-c6eb-4cde-916c-84760f985763",
   "metadata": {},
   "source": [
    "Количество комнат колеблется от 1 до 19.\\\n",
    "В выборке есть квартиры с 0 комнат — это могут быть как своеобразно внесенные данные о студиях, так и ошибки разного происхождения\\\n",
    "(неправильно внесенные данные, невнесенные данные, ошибки технического характера)."
   ]
  },
  {
   "cell_type": "code",
   "execution_count": 57,
   "id": "8584554c-a3f2-401e-8161-fb5df0b99bbd",
   "metadata": {},
   "outputs": [
    {
     "data": {
      "text/plain": [
       "count    13384.000000\n",
       "mean         2.728579\n",
       "std          0.275240\n",
       "min          1.000000\n",
       "25%          2.500000\n",
       "50%          2.600000\n",
       "75%          2.800000\n",
       "max          4.500000\n",
       "Name: ceiling_height, dtype: float64"
      ]
     },
     "execution_count": 57,
     "metadata": {},
     "output_type": "execute_result"
    },
    {
     "data": {
      "image/png": "[encoded data removed]",
      "text/plain": [
       "<Figure size 432x288 with 1 Axes>"
      ]
     },
     "metadata": {
      "needs_background": "light"
     },
     "output_type": "display_data"
    }
   ],
   "source": [
    "data.hist(column = 'ceiling_height', bins=20, grid = True, range=(2.4,4.5))\n",
    "plt.title('Высота потолков')\n",
    "data[data['ceiling_height']!=0]['ceiling_height'].describe()"
   ]
  },
  {
   "cell_type": "markdown",
   "id": "6127517f-ca47-445b-9a69-105bee7ad5f0",
   "metadata": {},
   "source": [
    "На этапе предобработки мы уже привели в порядок значения в этом столбце. Оцениваем, что получилось.\\\n",
    "Минимальная высота потолков 2,4м, максимальная — 4,5м, медиана составила 2,6м."
   ]
  },
  {
   "cell_type": "code",
   "execution_count": 58,
   "id": "8b956ac4-839d-48e4-a359-c2f83bdee3ef",
   "metadata": {},
   "outputs": [
    {
     "data": {
      "text/plain": [
       "Text(0.5, 1.0, 'Этаж')"
      ]
     },
     "execution_count": 58,
     "metadata": {},
     "output_type": "execute_result"
    },
    {
     "data": {
      "image/png": "[encoded data removed]",
      "text/plain": [
       "<Figure size 432x288 with 1 Axes>"
      ]
     },
     "metadata": {},
     "output_type": "display_data"
    }
   ],
   "source": [
    "data['floor_category'].value_counts().plot(kind='pie')\n",
    "plt.title('Этаж')"
   ]
  },
  {
   "cell_type": "markdown",
   "id": "351c87c7-acd4-4026-921d-25dce46ad6f1",
   "metadata": {},
   "source": [
    "Солидную часть составляют квартиры, расположенные не на первом и не на последнем этаже. Квартир первого этажа меньше, чем остальных."
   ]
  },
  {
   "cell_type": "code",
   "execution_count": 59,
   "id": "a530b7a9-9acb-427f-8de8-4aadf352b7ae",
   "metadata": {},
   "outputs": [
    {
     "data": {
      "text/plain": [
       "count    21033.000000\n",
       "mean         5.850283\n",
       "std          4.822326\n",
       "min          1.000000\n",
       "25%          2.000000\n",
       "50%          4.000000\n",
       "75%          8.000000\n",
       "max         33.000000\n",
       "Name: floor, dtype: float64"
      ]
     },
     "execution_count": 59,
     "metadata": {},
     "output_type": "execute_result"
    },
    {
     "data": {
      "image/png": "[encoded data removed]",
      "text/plain": [
       "<Figure size 432x288 with 1 Axes>"
      ]
     },
     "metadata": {
      "needs_background": "light"
     },
     "output_type": "display_data"
    }
   ],
   "source": [
    "data.hist(column = 'floor', bins=20, grid = True, range=(1,37))\n",
    "data['floor'].describe()"
   ]
  },
  {
   "cell_type": "markdown",
   "id": "b7a8b675-0df5-41f5-b532-758ae480b10a",
   "metadata": {},
   "source": [
    "Основная масса квартир расположена на 1-7 этажах, но есть и варианты выше. Максимальный этаж 30, например."
   ]
  },
  {
   "cell_type": "code",
   "execution_count": 60,
   "id": "f083e41a-ece9-4bd1-82f6-1f2c2ace1708",
   "metadata": {},
   "outputs": [
    {
     "data": {
      "text/plain": [
       "count    16338.000000\n",
       "mean     14241.239197\n",
       "std       8651.780862\n",
       "min        181.000000\n",
       "25%       9356.000000\n",
       "50%      13123.000000\n",
       "75%      16254.000000\n",
       "max      65968.000000\n",
       "Name: cityCenters_nearest, dtype: float64"
      ]
     },
     "execution_count": 60,
     "metadata": {},
     "output_type": "execute_result"
    },
    {
     "data": {
      "image/png": "[encoded data removed]",
      "text/plain": [
       "<Figure size 432x288 with 1 Axes>"
      ]
     },
     "metadata": {
      "needs_background": "light"
     },
     "output_type": "display_data"
    }
   ],
   "source": [
    "data.hist(column = 'cityCenters_nearest', bins=100, grid = True, range=(0,50000))\n",
    "data['cityCenters_nearest'].describe()"
   ]
  },
  {
   "cell_type": "markdown",
   "id": "0d83e679-4b55-481e-bd3a-1bd8ea61bf2d",
   "metadata": {},
   "source": [
    "Если оценивать расстояние до центра в метрах, то у нас есть вариант, расположенный в 181 метре от центра города.\\\n",
    "Однако мы создавали новый столбец с расстоянием до центра в километрах, посмотрим на него."
   ]
  },
  {
   "cell_type": "code",
   "execution_count": 61,
   "id": "1febaf49-13cd-449c-93fc-42f24161a185",
   "metadata": {},
   "outputs": [
    {
     "data": {
      "text/plain": [
       "count    21033.000000\n",
       "mean        10.677174\n",
       "std          9.537254\n",
       "min          0.000000\n",
       "25%          2.000000\n",
       "50%         11.000000\n",
       "75%         15.000000\n",
       "max         65.000000\n",
       "Name: cityCenters_nearest_km, dtype: float64"
      ]
     },
     "execution_count": 61,
     "metadata": {},
     "output_type": "execute_result"
    },
    {
     "data": {
      "image/png": "[encoded data removed]",
      "text/plain": [
       "<Figure size 432x288 with 1 Axes>"
      ]
     },
     "metadata": {
      "needs_background": "light"
     },
     "output_type": "display_data"
    }
   ],
   "source": [
    "data.hist(column = 'cityCenters_nearest_km', bins=50, grid = True, range=(0,70))\n",
    "data['cityCenters_nearest_km'].describe()"
   ]
  },
  {
   "cell_type": "markdown",
   "id": "66d1f38a-fd73-4ac4-8e4a-685a52d90d7e",
   "metadata": {},
   "source": [
    "Минимальное значение лучше видно при рассмотрении данных в метрах, а максимальные удобнее оценивать по километрам.\\\n",
    "Так, у нас есть максимально удаленный вариант — 65 км от центра Санкт-Петербурга. Среднее расстояние составило 9,5 км, а медиана — 11 км."
   ]
  },
  {
   "cell_type": "code",
   "execution_count": 62,
   "id": "16f66f5d-3639-4e0c-94b1-eb1b149dc41d",
   "metadata": {},
   "outputs": [
    {
     "data": {
      "text/plain": [
       "count    7253.000000\n",
       "mean      487.958086\n",
       "std       337.794129\n",
       "min         1.000000\n",
       "25%       287.000000\n",
       "50%       453.000000\n",
       "75%       610.000000\n",
       "max      3190.000000\n",
       "Name: parks_nearest, dtype: float64"
      ]
     },
     "execution_count": 62,
     "metadata": {},
     "output_type": "execute_result"
    },
    {
     "data": {
      "image/png": "[encoded data removed]",
      "text/plain": [
       "<Figure size 432x288 with 1 Axes>"
      ]
     },
     "metadata": {
      "needs_background": "light"
     },
     "output_type": "display_data"
    }
   ],
   "source": [
    "data.hist(column = 'parks_nearest', bins=50, grid = True, range=(0,3000))\n",
    "data['parks_nearest'].describe()"
   ]
  },
  {
   "cell_type": "markdown",
   "id": "e962e240-1263-46e1-9d3e-ebbb97922a0d",
   "metadata": {},
   "source": [
    "Минимальное расстояние до парка составляет 1м, максимальное — 3,19км. Среднее расстояние — 337м, медиана — 453м."
   ]
  },
  {
   "cell_type": "markdown",
   "id": "6c5e2a07-f414-43bf-863a-ec51c0833969",
   "metadata": {},
   "source": [
    "## Изучите, как быстро продавались квартиры\n",
    "* Постройте гистограмму.\n",
    "* Посчитайте среднее и медиану.\n",
    "* В ячейке типа markdown опишите, сколько времени обычно занимает продажа. Какие продажи можно считать быстрыми, а какие — необычно долгими?"
   ]
  },
  {
   "cell_type": "code",
   "execution_count": 63,
   "id": "26d87ea9-034b-4f09-b915-335ad25c7d61",
   "metadata": {},
   "outputs": [
    {
     "data": {
      "text/plain": [
       "count    18136.000000\n",
       "mean       185.122905\n",
       "std        221.862349\n",
       "min          1.000000\n",
       "25%         44.000000\n",
       "50%        102.000000\n",
       "75%        238.000000\n",
       "max       1580.000000\n",
       "Name: days_exposition, dtype: float64"
      ]
     },
     "execution_count": 63,
     "metadata": {},
     "output_type": "execute_result"
    },
    {
     "data": {
      "image/png": "[encoded data removed]",
      "text/plain": [
       "<Figure size 432x288 with 1 Axes>"
      ]
     },
     "metadata": {
      "needs_background": "light"
     },
     "output_type": "display_data"
    }
   ],
   "source": [
    "data.hist(column = 'days_exposition', bins=100, grid = True, range=(1,2000))\n",
    "data[data['days_exposition']!=0]['days_exposition'].describe() #не будем смотреть на нулевые сроки.\n",
    "#случай покупки квартиры и соответственно снятия объявления в день публикации возможен, но маловероятен, и в таком случае всё равно был бы 1 день."
   ]
  },
  {
   "cell_type": "markdown",
   "id": "98cb8aff-9657-46d3-9cf2-7ae700764219",
   "metadata": {},
   "source": [
    "Распределение Пуассона.\\\n",
    "Среднее значение 192 дня, медиана 107 дней, максимальное значение 1580 дней, то есть 4 года.\\\n",
    "Однако продажа квартир — процесс сложный, и не всегда дата снятия объявления и есть дата продажи квартиры. Кроме того, у Яндекс.Недвижимости своя политика относительно срока публикации объявлений.\\\n",
    "Сроки публикации объявлений о продаже квартир:\n",
    "* до 4,5 млн — 45 дней\n",
    "* от 4,5 до 10 млн — 60 дней\n",
    "* от 10 млн — 90 дней"
   ]
  },
  {
   "cell_type": "code",
   "execution_count": 64,
   "id": "8f16d57a-3d45-4b99-ac72-6075c5e2f9c9",
   "metadata": {},
   "outputs": [
    {
     "data": {
      "text/plain": [
       "array([[<AxesSubplot:title={'center':'days_exposition'}>]], dtype=object)"
      ]
     },
     "execution_count": 64,
     "metadata": {},
     "output_type": "execute_result"
    },
    {
     "data": {
      "image/png": "[encoded data removed]",
      "text/plain": [
       "<Figure size 432x288 with 1 Axes>"
      ]
     },
     "metadata": {
      "needs_background": "light"
     },
     "output_type": "display_data"
    }
   ],
   "source": [
    "data.hist(column = 'days_exposition', bins=100, grid = True, range=(1,200))"
   ]
  },
  {
   "cell_type": "code",
   "execution_count": 65,
   "id": "9f305095-cb35-4295-a0dd-32240eb2d806",
   "metadata": {},
   "outputs": [
    {
     "data": {
      "text/plain": [
       "45      523\n",
       "60      344\n",
       "7       205\n",
       "30      202\n",
       "4       161\n",
       "       ... \n",
       "1196      1\n",
       "1164      1\n",
       "1148      1\n",
       "1116      1\n",
       "1391      1\n",
       "Name: days_exposition, Length: 1117, dtype: int64"
      ]
     },
     "execution_count": 65,
     "metadata": {},
     "output_type": "execute_result"
    }
   ],
   "source": [
    "data[data['days_exposition']!=0]['days_exposition'].value_counts()"
   ]
  },
  {
   "cell_type": "markdown",
   "id": "03550c04-6114-4acc-b259-1597dd383455",
   "metadata": {},
   "source": [
    "Видим ожидаемые пики на 45, 60 и 90 днях — это и есть работа фильтров Яндекс.Недвижимости, которые сняли объявления как неактуальные,\\\n",
    "а не по причине совершенной сделки.\\\n",
    "Также популярными являются вариант снятия объявления на 7, 30 и 90 день. 30 день вероятно связан с платными объявлениями, а 7 и 90 объяснению не поддаются.\\\n",
    "Стоит уточнить природу этих всплесков снятия объявлений.\\\n",
    "В среднем объявление висит 204 дня."
   ]
  },
  {
   "cell_type": "code",
   "execution_count": 66,
   "id": "0af643d8-82f6-479e-963a-2e41655e09df",
   "metadata": {},
   "outputs": [
    {
     "data": {
      "text/plain": [
       "count    18136.000000\n",
       "mean       185.122905\n",
       "std        221.862349\n",
       "min          1.000000\n",
       "25%         44.000000\n",
       "50%        102.000000\n",
       "75%        238.000000\n",
       "max       1580.000000\n",
       "Name: days_exposition, dtype: float64"
      ]
     },
     "execution_count": 66,
     "metadata": {},
     "output_type": "execute_result"
    },
    {
     "data": {
      "image/png": "[encoded data removed]",
      "text/plain": [
       "<Figure size 432x288 with 1 Axes>"
      ]
     },
     "metadata": {
      "needs_background": "light"
     },
     "output_type": "display_data"
    }
   ],
   "source": [
    "plt.boxplot(data[data['days_exposition']!=0]['days_exposition'])\n",
    "None\n",
    "data[data['days_exposition']!=0]['days_exposition'].describe()"
   ]
  },
  {
   "cell_type": "markdown",
   "id": "5d24a542-ef6e-45cf-ab06-17e083ffdd99",
   "metadata": {},
   "source": [
    "Межквартильный размах от 42 до 238 дней. Диаграмма размаха дает разброс от 1 до около 500.\\\n",
    "Значения выше 500 будем воспринимать как необоснованно долгие, а от 1 до 500 — как обычный срок продажи квартиры.\\\n",
    "Среднее количество дней публикации составляет 221, медиана 102 дней."
   ]
  },
  {
   "cell_type": "code",
   "execution_count": 67,
   "id": "51d02f50-a6d7-4484-a6e0-77f97eab8864",
   "metadata": {},
   "outputs": [],
   "source": [
    "data = data.query('days_exposition != 0 and days_exposition != 7 and days_exposition != 30 and days_exposition != 45 and days_exposition != 60 and days_exposition != 90')"
   ]
  },
  {
   "cell_type": "code",
   "execution_count": 68,
   "id": "f9ae48c1-c9ea-4ac5-9b86-7e5ad7bcfbe7",
   "metadata": {},
   "outputs": [
    {
     "data": {
      "text/plain": [
       "count    16726.000000\n",
       "mean       196.907748\n",
       "std        227.034496\n",
       "min          1.000000\n",
       "25%         46.000000\n",
       "50%        115.000000\n",
       "75%        260.000000\n",
       "max       1580.000000\n",
       "Name: days_exposition, dtype: float64"
      ]
     },
     "execution_count": 68,
     "metadata": {},
     "output_type": "execute_result"
    },
    {
     "data": {
      "image/png": "[encoded data removed]",
      "text/plain": [
       "<Figure size 432x288 with 1 Axes>"
      ]
     },
     "metadata": {
      "needs_background": "light"
     },
     "output_type": "display_data"
    }
   ],
   "source": [
    "data.plot(y = 'days_exposition', kind = 'hist', bins = 100, grid = True, range = (1,200))\n",
    "data['days_exposition'].describe()"
   ]
  },
  {
   "cell_type": "markdown",
   "id": "dbd24c3a-6cb5-48d4-a548-25f74b3f2a05",
   "metadata": {},
   "source": [
    "Снова строим гистограмму в том же масштабе, снова оцениваем данные.\\\n",
    "Средний срок публикации изменился и стал 227 дня, медиана 115 дней."
   ]
  },
  {
   "cell_type": "markdown",
   "id": "cf101224-1742-49ff-b438-6e7be99b16e9",
   "metadata": {},
   "source": [
    "## Какие факторы больше всего влияют на общую (полную) стоимость объекта?\n",
    "Изучите, зависит ли цена от:\n",
    "* общей площади;\n",
    "* жилой площади;\n",
    "* площади кухни;\n",
    "* количества комнат;\n",
    "* этажа, на котором расположена квартира (первый, последний, другой);\n",
    "* даты размещения (день недели, месяц, год).\\\n",
    "Постройте графики, которые покажут зависимость цены от указанных выше параметров. Для подготовки данных перед визуализацией вы можете использовать сводные таблицы."
   ]
  },
  {
   "cell_type": "code",
   "execution_count": 69,
   "id": "cef83302-cec4-4fd6-9df5-ff7cfe18d9ac",
   "metadata": {},
   "outputs": [
    {
     "data": {
      "text/plain": [
       "0.6913800394723589"
      ]
     },
     "execution_count": 69,
     "metadata": {},
     "output_type": "execute_result"
    },
    {
     "data": {
      "image/png": "[encoded data removed]",
      "text/plain": [
       "<Figure size 432x288 with 1 Axes>"
      ]
     },
     "metadata": {
      "needs_background": "light"
     },
     "output_type": "display_data"
    }
   ],
   "source": [
    "pivot_table_total_area = data.pivot_table(index = 'total_area', values = 'last_price', aggfunc = 'median')\n",
    "pivot_table_total_area.columns = ['median']\n",
    "pivot_table_total_area.plot(y = 'median', style = 'o', alpha=0.05)\n",
    "\n",
    "pivot_table_total_area.sort_values('median', ascending = False)\n",
    "\n",
    "data['total_area'].corr(data['last_price'])"
   ]
  },
  {
   "cell_type": "markdown",
   "id": "be4b7525-7f2d-4c0c-addf-77cb2d44ee1d",
   "metadata": {},
   "source": [
    "Коэффициент корреляции Пирсона 0,71 говорит о наличии сильной положительной связи, то есть общая площадь влияет на цену объекта."
   ]
  },
  {
   "cell_type": "code",
   "execution_count": 70,
   "id": "cd242ca5-bf39-42a3-b76c-a5917fee3e46",
   "metadata": {},
   "outputs": [
    {
     "data": {
      "text/plain": [
       "0.6046813407733087"
      ]
     },
     "execution_count": 70,
     "metadata": {},
     "output_type": "execute_result"
    },
    {
     "data": {
      "image/png": "[encoded data removed]",
      "text/plain": [
       "<Figure size 432x288 with 1 Axes>"
      ]
     },
     "metadata": {
      "needs_background": "light"
     },
     "output_type": "display_data"
    }
   ],
   "source": [
    "pivot_table_living_area = data.pivot_table(index = 'living_area', values = 'last_price', aggfunc = 'median')\n",
    "pivot_table_living_area.columns = ['median']\n",
    "pivot_table_living_area.plot(y = 'median', style = 'o', alpha=0.05)\n",
    "\n",
    "pivot_table_living_area.sort_values('median', ascending = False)\n",
    "\n",
    "data['living_area'].corr(data['last_price'])"
   ]
  },
  {
   "cell_type": "markdown",
   "id": "dbb36667-6b79-4984-b067-33912c14c4d6",
   "metadata": {},
   "source": [
    "Коэффициент корреляции Пирсона 0,61 говорит о наличии сильной положительной связи, то есть жилая площадь влияет на цену объекта."
   ]
  },
  {
   "cell_type": "code",
   "execution_count": 71,
   "id": "20cdd3a6-7937-41cc-872e-ac489b6868f2",
   "metadata": {},
   "outputs": [
    {
     "data": {
      "text/plain": [
       "0.5118645044511675"
      ]
     },
     "execution_count": 71,
     "metadata": {},
     "output_type": "execute_result"
    },
    {
     "data": {
      "image/png": "[encoded data removed]",
      "text/plain": [
       "<Figure size 432x288 with 1 Axes>"
      ]
     },
     "metadata": {
      "needs_background": "light"
     },
     "output_type": "display_data"
    }
   ],
   "source": [
    "pivot_table_kitchen_area = data.pivot_table(index = 'kitchen_area', values = 'last_price', aggfunc = 'median')\n",
    "pivot_table_kitchen_area.columns = ['median']\n",
    "pivot_table_kitchen_area.plot(y = 'median', style = 'o', alpha=0.05)\n",
    "\n",
    "pivot_table_kitchen_area.sort_values('median', ascending = False)\n",
    "\n",
    "data['kitchen_area'].corr(data['last_price'])"
   ]
  },
  {
   "cell_type": "markdown",
   "id": "6ee8ee7b-db63-45e4-8db2-4eb69839cd04",
   "metadata": {},
   "source": [
    "Коэффициент корреляции Пирсона 0,53 говорит о наличии умеренной положительной связи, то есть площадь кухни умеренно влияет на цену объекта.\\\n",
    "Однако площадь кухни входит в общую площадь квартиры. "
   ]
  },
  {
   "cell_type": "code",
   "execution_count": 72,
   "id": "5f7c3d9f-5b3e-403a-9468-de20f88fe1ef",
   "metadata": {},
   "outputs": [
    {
     "data": {
      "text/plain": [
       "0.38604136016834933"
      ]
     },
     "execution_count": 72,
     "metadata": {},
     "output_type": "execute_result"
    },
    {
     "data": {
      "image/png": "[encoded data removed]",
      "text/plain": [
       "<Figure size 432x288 with 1 Axes>"
      ]
     },
     "metadata": {
      "needs_background": "light"
     },
     "output_type": "display_data"
    }
   ],
   "source": [
    "pivot_table_rooms = data.pivot_table(index = 'rooms', values = 'last_price', aggfunc = 'median')\n",
    "pivot_table_rooms.columns = ['median']\n",
    "pivot_table_rooms.plot(y = 'median', style = 'o')\n",
    "\n",
    "pivot_table_rooms.sort_values('median', ascending = False)\n",
    "\n",
    "data['rooms'].corr(data['last_price'])"
   ]
  },
  {
   "cell_type": "markdown",
   "id": "8b3bf07e-c311-4217-87ac-056c027686a3",
   "metadata": {},
   "source": [
    "Коэффициент корреляции Пирсона 0,4 говорит о наличии умеренной положительной связи, то есть количество комнат умеренно влияет на цену объекта."
   ]
  },
  {
   "cell_type": "code",
   "execution_count": 73,
   "id": "72cba847-c7c9-42bc-af7f-ae45f9da91d3",
   "metadata": {},
   "outputs": [
    {
     "data": {
      "text/html": [
       "<div>\n",
       "<style scoped>\n",
       "    .dataframe tbody tr th:only-of-type {\n",
       "        vertical-align: middle;\n",
       "    }\n",
       "\n",
       "    .dataframe tbody tr th {\n",
       "        vertical-align: top;\n",
       "    }\n",
       "\n",
       "    .dataframe thead th {\n",
       "        text-align: right;\n",
       "    }\n",
       "</style>\n",
       "<table border=\"1\" class=\"dataframe\">\n",
       "  <thead>\n",
       "    <tr style=\"text-align: right;\">\n",
       "      <th></th>\n",
       "      <th>median</th>\n",
       "    </tr>\n",
       "    <tr>\n",
       "      <th>floor_category</th>\n",
       "      <th></th>\n",
       "    </tr>\n",
       "  </thead>\n",
       "  <tbody>\n",
       "    <tr>\n",
       "      <th>другой</th>\n",
       "      <td>4750.0</td>\n",
       "    </tr>\n",
       "    <tr>\n",
       "      <th>первый</th>\n",
       "      <td>3894.5</td>\n",
       "    </tr>\n",
       "    <tr>\n",
       "      <th>последний</th>\n",
       "      <td>4300.0</td>\n",
       "    </tr>\n",
       "  </tbody>\n",
       "</table>\n",
       "</div>"
      ],
      "text/plain": [
       "                median\n",
       "floor_category        \n",
       "другой          4750.0\n",
       "первый          3894.5\n",
       "последний       4300.0"
      ]
     },
     "execution_count": 73,
     "metadata": {},
     "output_type": "execute_result"
    },
    {
     "data": {
      "image/png": "[encoded data removed]",
      "text/plain": [
       "<Figure size 432x288 with 1 Axes>"
      ]
     },
     "metadata": {
      "needs_background": "light"
     },
     "output_type": "display_data"
    }
   ],
   "source": [
    "pivot_table_floor_category = data.pivot_table(index = 'floor_category', values = 'last_price', aggfunc = 'median')\n",
    "pivot_table_floor_category.columns = ['median']\n",
    "pivot_table_floor_category.plot(y = 'median')\n",
    "pivot_table_floor_category"
   ]
  },
  {
   "cell_type": "markdown",
   "id": "3545360a-cf33-49ed-89a4-926925bd36b0",
   "metadata": {},
   "source": [
    "График показывает очевидный факт: квартиры не на первом и не на последнем этаже дороже. Дешевле всего квартиры на первом этаже."
   ]
  },
  {
   "cell_type": "code",
   "execution_count": 74,
   "id": "d50d5e1a-b2b2-4a7c-9797-75a41490ef0a",
   "metadata": {},
   "outputs": [
    {
     "data": {
      "text/html": [
       "<div>\n",
       "<style scoped>\n",
       "    .dataframe tbody tr th:only-of-type {\n",
       "        vertical-align: middle;\n",
       "    }\n",
       "\n",
       "    .dataframe tbody tr th {\n",
       "        vertical-align: top;\n",
       "    }\n",
       "\n",
       "    .dataframe thead th {\n",
       "        text-align: right;\n",
       "    }\n",
       "</style>\n",
       "<table border=\"1\" class=\"dataframe\">\n",
       "  <thead>\n",
       "    <tr style=\"text-align: right;\">\n",
       "      <th></th>\n",
       "      <th>median</th>\n",
       "    </tr>\n",
       "    <tr>\n",
       "      <th>publication_day</th>\n",
       "      <th></th>\n",
       "    </tr>\n",
       "  </thead>\n",
       "  <tbody>\n",
       "    <tr>\n",
       "      <th>1</th>\n",
       "      <td>4650.0</td>\n",
       "    </tr>\n",
       "    <tr>\n",
       "      <th>3</th>\n",
       "      <td>4650.0</td>\n",
       "    </tr>\n",
       "    <tr>\n",
       "      <th>2</th>\n",
       "      <td>4605.0</td>\n",
       "    </tr>\n",
       "    <tr>\n",
       "      <th>0</th>\n",
       "      <td>4600.0</td>\n",
       "    </tr>\n",
       "    <tr>\n",
       "      <th>4</th>\n",
       "      <td>4500.0</td>\n",
       "    </tr>\n",
       "    <tr>\n",
       "      <th>5</th>\n",
       "      <td>4500.0</td>\n",
       "    </tr>\n",
       "    <tr>\n",
       "      <th>6</th>\n",
       "      <td>4492.5</td>\n",
       "    </tr>\n",
       "  </tbody>\n",
       "</table>\n",
       "</div>"
      ],
      "text/plain": [
       "                 median\n",
       "publication_day        \n",
       "1                4650.0\n",
       "3                4650.0\n",
       "2                4605.0\n",
       "0                4600.0\n",
       "4                4500.0\n",
       "5                4500.0\n",
       "6                4492.5"
      ]
     },
     "execution_count": 74,
     "metadata": {},
     "output_type": "execute_result"
    },
    {
     "data": {
      "image/png": "[encoded data removed]",
      "text/plain": [
       "<Figure size 432x288 with 1 Axes>"
      ]
     },
     "metadata": {
      "needs_background": "light"
     },
     "output_type": "display_data"
    }
   ],
   "source": [
    "pivot_table_weekday_exposition = data.pivot_table(index = 'publication_day', values = 'last_price', aggfunc = 'median')\n",
    "pivot_table_weekday_exposition.columns = ['median']\n",
    "pivot_table_weekday_exposition.plot(y = 'median')\n",
    "\n",
    "pivot_table_weekday_exposition.sort_values('median', ascending = False)"
   ]
  },
  {
   "cell_type": "markdown",
   "id": "cd0f4f77-a393-43d1-88f2-5a73930722c5",
   "metadata": {},
   "source": [
    "С пятницы по воскресенье выставляют объявления с низкими ценами, а во вторник — с самыми высокими. Разброс невелик, но есть.\\\n",
    "Возможно, он связан с активностью покупателей: в выходные у потенциального покупателя может быть больше времени для выбора,\\\n",
    "вариантов он может просмотреть больше, и варианты с ценой чуть ниже могут быть привлекательными."
   ]
  },
  {
   "cell_type": "code",
   "execution_count": 75,
   "id": "e333d869-6ccd-4db7-bf25-18058fbdeb47",
   "metadata": {},
   "outputs": [
    {
     "data": {
      "text/html": [
       "<div>\n",
       "<style scoped>\n",
       "    .dataframe tbody tr th:only-of-type {\n",
       "        vertical-align: middle;\n",
       "    }\n",
       "\n",
       "    .dataframe tbody tr th {\n",
       "        vertical-align: top;\n",
       "    }\n",
       "\n",
       "    .dataframe thead th {\n",
       "        text-align: right;\n",
       "    }\n",
       "</style>\n",
       "<table border=\"1\" class=\"dataframe\">\n",
       "  <thead>\n",
       "    <tr style=\"text-align: right;\">\n",
       "      <th></th>\n",
       "      <th>median</th>\n",
       "    </tr>\n",
       "    <tr>\n",
       "      <th>publication_month</th>\n",
       "      <th></th>\n",
       "    </tr>\n",
       "  </thead>\n",
       "  <tbody>\n",
       "    <tr>\n",
       "      <th>9</th>\n",
       "      <td>4700.0</td>\n",
       "    </tr>\n",
       "    <tr>\n",
       "      <th>12</th>\n",
       "      <td>4700.0</td>\n",
       "    </tr>\n",
       "    <tr>\n",
       "      <th>2</th>\n",
       "      <td>4600.0</td>\n",
       "    </tr>\n",
       "    <tr>\n",
       "      <th>11</th>\n",
       "      <td>4600.0</td>\n",
       "    </tr>\n",
       "    <tr>\n",
       "      <th>4</th>\n",
       "      <td>4580.0</td>\n",
       "    </tr>\n",
       "    <tr>\n",
       "      <th>5</th>\n",
       "      <td>4580.0</td>\n",
       "    </tr>\n",
       "    <tr>\n",
       "      <th>1</th>\n",
       "      <td>4575.0</td>\n",
       "    </tr>\n",
       "    <tr>\n",
       "      <th>8</th>\n",
       "      <td>4550.0</td>\n",
       "    </tr>\n",
       "    <tr>\n",
       "      <th>10</th>\n",
       "      <td>4535.0</td>\n",
       "    </tr>\n",
       "    <tr>\n",
       "      <th>3</th>\n",
       "      <td>4500.0</td>\n",
       "    </tr>\n",
       "    <tr>\n",
       "      <th>7</th>\n",
       "      <td>4500.0</td>\n",
       "    </tr>\n",
       "    <tr>\n",
       "      <th>6</th>\n",
       "      <td>4469.0</td>\n",
       "    </tr>\n",
       "  </tbody>\n",
       "</table>\n",
       "</div>"
      ],
      "text/plain": [
       "                   median\n",
       "publication_month        \n",
       "9                  4700.0\n",
       "12                 4700.0\n",
       "2                  4600.0\n",
       "11                 4600.0\n",
       "4                  4580.0\n",
       "5                  4580.0\n",
       "1                  4575.0\n",
       "8                  4550.0\n",
       "10                 4535.0\n",
       "3                  4500.0\n",
       "7                  4500.0\n",
       "6                  4469.0"
      ]
     },
     "execution_count": 75,
     "metadata": {},
     "output_type": "execute_result"
    },
    {
     "data": {
      "image/png": "[encoded data removed]",
      "text/plain": [
       "<Figure size 432x288 with 1 Axes>"
      ]
     },
     "metadata": {
      "needs_background": "light"
     },
     "output_type": "display_data"
    }
   ],
   "source": [
    "pivot_table_month_exposition = data.pivot_table(index = 'publication_month', values = 'last_price', aggfunc = 'median')\n",
    "pivot_table_month_exposition.columns = ['median']\n",
    "pivot_table_month_exposition.plot(y = 'median')\n",
    "\n",
    "pivot_table_month_exposition.sort_values('median', ascending = False)"
   ]
  },
  {
   "cell_type": "markdown",
   "id": "ea4da533-3cc6-47f6-b177-ad4b09bb1877",
   "metadata": {},
   "source": [
    "Разброс невелик, но есть. Цены выше в сентябре и январе. Причин для такой игры на повышение может быть много:\n",
    "* в сентябре и январе рождаемость выше, чем в другие месяцы, соответственно люди могут продавать квартиры с целью купить квартиру\\\n",
    "  большей площади в связи с рождением ребенка\n",
    "* в сентябре начинается учебный год у школьников и студентов, и это тоже хороший повод расширить жилплощадь\n",
    "* купить квартиру в сентябре, чтобы встретить Новый год  в новой квартире и уже с ремонтом (пока идет сделка, пока делается косметический ремонт...)\n",
    "* купить квартиру в январе, чтобы начать жизнь с чистого листа\\\n",
    "и т.п. причины\n",
    "\n",
    "Достаточно высокие значения наблюдаем также в мае, и это тоже мы можем связать с рождаемостью и движением детей: ребёнок закончил школу и поступает в университет и большая квартира уже не нужна, но квартира поменьше и/или деньги могут понадобиться.\n",
    "\n",
    "Спад в июне можно объяснить периодом отпусков: у покупателей больше времени на выбор, поэтому можно привлечь их ценой чуть ниже."
   ]
  },
  {
   "cell_type": "code",
   "execution_count": 76,
   "id": "46723664-e56d-459a-8d27-6a5e2f6b9ab9",
   "metadata": {},
   "outputs": [
    {
     "data": {
      "text/html": [
       "<div>\n",
       "<style scoped>\n",
       "    .dataframe tbody tr th:only-of-type {\n",
       "        vertical-align: middle;\n",
       "    }\n",
       "\n",
       "    .dataframe tbody tr th {\n",
       "        vertical-align: top;\n",
       "    }\n",
       "\n",
       "    .dataframe thead th {\n",
       "        text-align: right;\n",
       "    }\n",
       "</style>\n",
       "<table border=\"1\" class=\"dataframe\">\n",
       "  <thead>\n",
       "    <tr style=\"text-align: right;\">\n",
       "      <th></th>\n",
       "      <th>median</th>\n",
       "    </tr>\n",
       "    <tr>\n",
       "      <th>publication_year</th>\n",
       "      <th></th>\n",
       "    </tr>\n",
       "  </thead>\n",
       "  <tbody>\n",
       "    <tr>\n",
       "      <th>2014</th>\n",
       "      <td>6800.0</td>\n",
       "    </tr>\n",
       "    <tr>\n",
       "      <th>2015</th>\n",
       "      <td>5150.0</td>\n",
       "    </tr>\n",
       "    <tr>\n",
       "      <th>2019</th>\n",
       "      <td>4750.0</td>\n",
       "    </tr>\n",
       "    <tr>\n",
       "      <th>2016</th>\n",
       "      <td>4550.0</td>\n",
       "    </tr>\n",
       "    <tr>\n",
       "      <th>2017</th>\n",
       "      <td>4500.0</td>\n",
       "    </tr>\n",
       "    <tr>\n",
       "      <th>2018</th>\n",
       "      <td>4500.0</td>\n",
       "    </tr>\n",
       "  </tbody>\n",
       "</table>\n",
       "</div>"
      ],
      "text/plain": [
       "                  median\n",
       "publication_year        \n",
       "2014              6800.0\n",
       "2015              5150.0\n",
       "2019              4750.0\n",
       "2016              4550.0\n",
       "2017              4500.0\n",
       "2018              4500.0"
      ]
     },
     "execution_count": 76,
     "metadata": {},
     "output_type": "execute_result"
    },
    {
     "data": {
      "image/png": "[encoded data removed]",
      "text/plain": [
       "<Figure size 432x288 with 1 Axes>"
      ]
     },
     "metadata": {
      "needs_background": "light"
     },
     "output_type": "display_data"
    }
   ],
   "source": [
    "pivot_table_year_exposition = data.pivot_table(index = 'publication_year', values = 'last_price', aggfunc = 'median')\n",
    "pivot_table_year_exposition.columns = ['median']\n",
    "pivot_table_year_exposition.plot(y = 'median')\n",
    "\n",
    "pivot_table_year_exposition.sort_values('median', ascending = False)"
   ]
  },
  {
   "cell_type": "markdown",
   "id": "f62a439d-fa9a-498f-98b0-b876f93c69d6",
   "metadata": {},
   "source": [
    "Наблюдаем резкое снижение цены в 2014-2015 с дальнейшим более плавным снижением до 2018 года и последующим плавным ростом в 2019.\\\n",
    "Вероятно, это связано с экономическим кризисом 2014 года: в нестабильной экономической ситуации мало кто хочет рисковать и ввязываться в такие крупные сделки."
   ]
  },
  {
   "cell_type": "code",
   "execution_count": 77,
   "id": "583cb979",
   "metadata": {},
   "outputs": [
    {
     "data": {
      "text/html": [
       "<div>\n",
       "<style scoped>\n",
       "    .dataframe tbody tr th:only-of-type {\n",
       "        vertical-align: middle;\n",
       "    }\n",
       "\n",
       "    .dataframe tbody tr th {\n",
       "        vertical-align: top;\n",
       "    }\n",
       "\n",
       "    .dataframe thead th {\n",
       "        text-align: right;\n",
       "    }\n",
       "</style>\n",
       "<table border=\"1\" class=\"dataframe\">\n",
       "  <thead>\n",
       "    <tr style=\"text-align: right;\">\n",
       "      <th></th>\n",
       "      <th>median</th>\n",
       "    </tr>\n",
       "    <tr>\n",
       "      <th>publication_year</th>\n",
       "      <th></th>\n",
       "    </tr>\n",
       "  </thead>\n",
       "  <tbody>\n",
       "    <tr>\n",
       "      <th>2014</th>\n",
       "      <td>104545.45</td>\n",
       "    </tr>\n",
       "    <tr>\n",
       "      <th>2019</th>\n",
       "      <td>104529.62</td>\n",
       "    </tr>\n",
       "    <tr>\n",
       "      <th>2018</th>\n",
       "      <td>95782.33</td>\n",
       "    </tr>\n",
       "    <tr>\n",
       "      <th>2017</th>\n",
       "      <td>92513.83</td>\n",
       "    </tr>\n",
       "    <tr>\n",
       "      <th>2015</th>\n",
       "      <td>91860.47</td>\n",
       "    </tr>\n",
       "    <tr>\n",
       "      <th>2016</th>\n",
       "      <td>91113.64</td>\n",
       "    </tr>\n",
       "  </tbody>\n",
       "</table>\n",
       "</div>"
      ],
      "text/plain": [
       "                     median\n",
       "publication_year           \n",
       "2014              104545.45\n",
       "2019              104529.62\n",
       "2018               95782.33\n",
       "2017               92513.83\n",
       "2015               91860.47\n",
       "2016               91113.64"
      ]
     },
     "execution_count": 77,
     "metadata": {},
     "output_type": "execute_result"
    },
    {
     "data": {
      "image/png": "[encoded data removed]",
      "text/plain": [
       "<Figure size 432x288 with 1 Axes>"
      ]
     },
     "metadata": {
      "needs_background": "light"
     },
     "output_type": "display_data"
    }
   ],
   "source": [
    "pivot_table_year_exposition = data.pivot_table(index = 'publication_year', values = 'cost_per_sqm', aggfunc = 'median')\n",
    "pivot_table_year_exposition.columns = ['median']\n",
    "pivot_table_year_exposition.plot(y = 'median')\n",
    "\n",
    "pivot_table_year_exposition.sort_values('median', ascending = False)"
   ]
  },
  {
   "cell_type": "markdown",
   "id": "8cce01cc",
   "metadata": {},
   "source": [
    "Рассмотрим динамику цен за кв.м. жилой недвижимости за те же года. На графике мы, как и в случае со стоимостью объектов недвижимости, видим спад цены в период 2014-2016 гг., однако далее цена за кв.м. повышается.\\\n",
    "Однако мы помним, что в целом стоимость жилья с 2015 по 2018 год падала.\\\n",
    "Возможно, такое соотношение цен за объект и за кв.м. связано с нарастающей популярностью квартир малого метража, студий, а также апартаментов: их площадь небольшая, но это новостройки, и квадратный метр в них может стоить солидную сумму."
   ]
  },
  {
   "cell_type": "markdown",
   "id": "4f0bbede-d957-4fa0-9556-acd217888087",
   "metadata": {},
   "source": [
    "## Посчитайте среднюю цену одного квадратного метра в 10 населённых пунктах с наибольшим числом объявлений\n",
    "Постройте сводную таблицу с количеством объявлений и средней ценой квадратного метра для этих населенных пунктов. Выделите населённые пункты с самой высокой и низкой стоимостью квадратного метра."
   ]
  },
  {
   "cell_type": "code",
   "execution_count": 78,
   "id": "a45d3d80-4e72-41ca-9f75-c66942ec9e73",
   "metadata": {},
   "outputs": [
    {
     "data": {
      "text/html": [
       "<div>\n",
       "<style scoped>\n",
       "    .dataframe tbody tr th:only-of-type {\n",
       "        vertical-align: middle;\n",
       "    }\n",
       "\n",
       "    .dataframe tbody tr th {\n",
       "        vertical-align: top;\n",
       "    }\n",
       "\n",
       "    .dataframe thead th {\n",
       "        text-align: right;\n",
       "    }\n",
       "</style>\n",
       "<table border=\"1\" class=\"dataframe\">\n",
       "  <thead>\n",
       "    <tr style=\"text-align: right;\">\n",
       "      <th></th>\n",
       "      <th>count</th>\n",
       "      <th>mean</th>\n",
       "    </tr>\n",
       "    <tr>\n",
       "      <th>locality_name</th>\n",
       "      <th></th>\n",
       "      <th></th>\n",
       "    </tr>\n",
       "  </thead>\n",
       "  <tbody>\n",
       "    <tr>\n",
       "      <th>Санкт-Петербург</th>\n",
       "      <td>11329</td>\n",
       "      <td>111712.512350</td>\n",
       "    </tr>\n",
       "    <tr>\n",
       "      <th>Мурино</th>\n",
       "      <td>414</td>\n",
       "      <td>85779.443599</td>\n",
       "    </tr>\n",
       "    <tr>\n",
       "      <th>поселок Шушары</th>\n",
       "      <td>332</td>\n",
       "      <td>78063.522380</td>\n",
       "    </tr>\n",
       "    <tr>\n",
       "      <th>Кудрово</th>\n",
       "      <td>331</td>\n",
       "      <td>94046.520151</td>\n",
       "    </tr>\n",
       "    <tr>\n",
       "      <th>Всеволожск</th>\n",
       "      <td>289</td>\n",
       "      <td>69011.340311</td>\n",
       "    </tr>\n",
       "    <tr>\n",
       "      <th>Колпино</th>\n",
       "      <td>264</td>\n",
       "      <td>74935.163371</td>\n",
       "    </tr>\n",
       "    <tr>\n",
       "      <th>Пушкин</th>\n",
       "      <td>259</td>\n",
       "      <td>102775.900927</td>\n",
       "    </tr>\n",
       "    <tr>\n",
       "      <th>поселок Парголово</th>\n",
       "      <td>237</td>\n",
       "      <td>90444.623713</td>\n",
       "    </tr>\n",
       "    <tr>\n",
       "      <th>Гатчина</th>\n",
       "      <td>231</td>\n",
       "      <td>67390.084935</td>\n",
       "    </tr>\n",
       "    <tr>\n",
       "      <th>Петергоф</th>\n",
       "      <td>154</td>\n",
       "      <td>83072.003831</td>\n",
       "    </tr>\n",
       "  </tbody>\n",
       "</table>\n",
       "</div>"
      ],
      "text/plain": [
       "                   count           mean\n",
       "locality_name                          \n",
       "Санкт-Петербург    11329  111712.512350\n",
       "Мурино               414   85779.443599\n",
       "поселок Шушары       332   78063.522380\n",
       "Кудрово              331   94046.520151\n",
       "Всеволожск           289   69011.340311\n",
       "Колпино              264   74935.163371\n",
       "Пушкин               259  102775.900927\n",
       "поселок Парголово    237   90444.623713\n",
       "Гатчина              231   67390.084935\n",
       "Петергоф             154   83072.003831"
      ]
     },
     "execution_count": 78,
     "metadata": {},
     "output_type": "execute_result"
    }
   ],
   "source": [
    "locality_pivot_table = data.pivot_table(index = 'locality_name', values = 'cost_per_sqm', aggfunc=['count', 'mean'])\n",
    "locality_pivot_table.columns = ['count', 'mean']\n",
    "locality_pivot_table = locality_pivot_table.sort_values('count', ascending = False).head(10)\n",
    "locality_pivot_table"
   ]
  },
  {
   "cell_type": "code",
   "execution_count": 79,
   "id": "86ce4445",
   "metadata": {},
   "outputs": [
    {
     "data": {
      "image/png": "[encoded data removed]",
      "text/plain": [
       "<Figure size 432x288 with 1 Axes>"
      ]
     },
     "metadata": {
      "needs_background": "light"
     },
     "output_type": "display_data"
    }
   ],
   "source": [
    "locality_pivot_table = locality_pivot_table.sort_values('count', ascending = True)\n",
    "locality_pivot_table.plot(y='mean', kind='barh', grid=True)\n",
    "plt.title('Средняя цена за кв.м. жилой недвижимости (популярность)')\n",
    "None"
   ]
  },
  {
   "cell_type": "markdown",
   "id": "38c09aab",
   "metadata": {},
   "source": [
    "На графике наглядно представлено сравнение средних цен за кв.м. жилой недвижимости в десяти самых популярных локациях региона, сверху вниз по популярности представлены локации."
   ]
  },
  {
   "cell_type": "code",
   "execution_count": 80,
   "id": "29fd86e6",
   "metadata": {},
   "outputs": [
    {
     "data": {
      "image/png": "[encoded data removed]",
      "text/plain": [
       "<Figure size 432x288 with 1 Axes>"
      ]
     },
     "metadata": {
      "needs_background": "light"
     },
     "output_type": "display_data"
    }
   ],
   "source": [
    "locality_pivot_table = locality_pivot_table.sort_values('mean', ascending = True)\n",
    "locality_pivot_table.plot(y='mean', kind='barh', grid=True)\n",
    "plt.title('Средняя цена за кв.м. жилой недвижимости (цена)')\n",
    "None"
   ]
  },
  {
   "cell_type": "markdown",
   "id": "70f57d0e",
   "metadata": {},
   "source": [
    "Отсортировали значения средней цены. Видим, что Санкт-Петербург на первом месте не только по популярности, но и по цене, а самые дешевые квартиры из десятки самых популярных локаций — в Гатчине."
   ]
  },
  {
   "cell_type": "code",
   "execution_count": 81,
   "id": "d0ff8bd9-22e3-435d-ac07-4df72bbdde3a",
   "metadata": {},
   "outputs": [
    {
     "data": {
      "text/html": [
       "<div>\n",
       "<style scoped>\n",
       "    .dataframe tbody tr th:only-of-type {\n",
       "        vertical-align: middle;\n",
       "    }\n",
       "\n",
       "    .dataframe tbody tr th {\n",
       "        vertical-align: top;\n",
       "    }\n",
       "\n",
       "    .dataframe thead th {\n",
       "        text-align: right;\n",
       "    }\n",
       "</style>\n",
       "<table border=\"1\" class=\"dataframe\">\n",
       "  <thead>\n",
       "    <tr style=\"text-align: right;\">\n",
       "      <th></th>\n",
       "      <th>count</th>\n",
       "      <th>mean</th>\n",
       "    </tr>\n",
       "    <tr>\n",
       "      <th>locality_name</th>\n",
       "      <th></th>\n",
       "      <th></th>\n",
       "    </tr>\n",
       "  </thead>\n",
       "  <tbody>\n",
       "    <tr>\n",
       "      <th>Санкт-Петербург</th>\n",
       "      <td>11329</td>\n",
       "      <td>111712.51235</td>\n",
       "    </tr>\n",
       "  </tbody>\n",
       "</table>\n",
       "</div>"
      ],
      "text/plain": [
       "                 count          mean\n",
       "locality_name                       \n",
       "Санкт-Петербург  11329  111712.51235"
      ]
     },
     "execution_count": 81,
     "metadata": {},
     "output_type": "execute_result"
    }
   ],
   "source": [
    "locality_pivot_table[locality_pivot_table['mean']==locality_pivot_table['mean'].max()] "
   ]
  },
  {
   "cell_type": "markdown",
   "id": "c8c6693b-2bbd-4d51-ac6f-146323ee79dd",
   "metadata": {},
   "source": [
    "Самое дорогой квадратный метр в Санкт-Петербурге."
   ]
  },
  {
   "cell_type": "code",
   "execution_count": 82,
   "id": "303d9c39-afd7-43c5-a760-9372b4cb451c",
   "metadata": {},
   "outputs": [
    {
     "data": {
      "text/html": [
       "<div>\n",
       "<style scoped>\n",
       "    .dataframe tbody tr th:only-of-type {\n",
       "        vertical-align: middle;\n",
       "    }\n",
       "\n",
       "    .dataframe tbody tr th {\n",
       "        vertical-align: top;\n",
       "    }\n",
       "\n",
       "    .dataframe thead th {\n",
       "        text-align: right;\n",
       "    }\n",
       "</style>\n",
       "<table border=\"1\" class=\"dataframe\">\n",
       "  <thead>\n",
       "    <tr style=\"text-align: right;\">\n",
       "      <th></th>\n",
       "      <th>count</th>\n",
       "      <th>mean</th>\n",
       "    </tr>\n",
       "    <tr>\n",
       "      <th>locality_name</th>\n",
       "      <th></th>\n",
       "      <th></th>\n",
       "    </tr>\n",
       "  </thead>\n",
       "  <tbody>\n",
       "    <tr>\n",
       "      <th>Гатчина</th>\n",
       "      <td>231</td>\n",
       "      <td>67390.084935</td>\n",
       "    </tr>\n",
       "  </tbody>\n",
       "</table>\n",
       "</div>"
      ],
      "text/plain": [
       "               count          mean\n",
       "locality_name                     \n",
       "Гатчина          231  67390.084935"
      ]
     },
     "execution_count": 82,
     "metadata": {},
     "output_type": "execute_result"
    }
   ],
   "source": [
    "locality_pivot_table[locality_pivot_table['mean']==locality_pivot_table['mean'].min()]"
   ]
  },
  {
   "cell_type": "markdown",
   "id": "09ca1e10-6f37-4193-80d6-c982e00bc908",
   "metadata": {},
   "source": [
    "А самый дешевый из десяти самых популярных населенных пунктов — в Гатчине."
   ]
  },
  {
   "cell_type": "markdown",
   "id": "fd230135-4787-496c-a580-8f75571de1d2",
   "metadata": {},
   "source": [
    "## Выделите квартиры в Санкт-Петербурге с помощью столбца locality_name и вычислите их среднюю стоимость на разном удалении от центра\n",
    "Учитывайте каждый километр расстояния: узнайте среднюю цену квартир в одном километре от центра, в двух и так далее.\\\n",
    "Опишите, как стоимость объектов зависит от расстояния до центра города — постройте график изменения средней цены для каждого\\\n",
    "километра от центра Петербурга."
   ]
  },
  {
   "cell_type": "code",
   "execution_count": 83,
   "id": "9a3918b5-69cf-428d-b940-6ae0ae148c33",
   "metadata": {},
   "outputs": [],
   "source": [
    "data['cityCenters_nearest_km'] = data['cityCenters_nearest_km'].astype('int') #мы уже создавали столбец с расстоянием до центра в километрах"
   ]
  },
  {
   "cell_type": "code",
   "execution_count": 84,
   "id": "d4d72958-f8d2-4d23-a161-0e0f69ff7a6c",
   "metadata": {},
   "outputs": [
    {
     "data": {
      "text/html": [
       "<div>\n",
       "<style scoped>\n",
       "    .dataframe tbody tr th:only-of-type {\n",
       "        vertical-align: middle;\n",
       "    }\n",
       "\n",
       "    .dataframe tbody tr th {\n",
       "        vertical-align: top;\n",
       "    }\n",
       "\n",
       "    .dataframe thead th {\n",
       "        text-align: right;\n",
       "    }\n",
       "</style>\n",
       "<table border=\"1\" class=\"dataframe\">\n",
       "  <thead>\n",
       "    <tr style=\"text-align: right;\">\n",
       "      <th></th>\n",
       "      <th>last_price</th>\n",
       "    </tr>\n",
       "    <tr>\n",
       "      <th>cityCenters_nearest_km</th>\n",
       "      <th></th>\n",
       "    </tr>\n",
       "  </thead>\n",
       "  <tbody>\n",
       "    <tr>\n",
       "      <th>0</th>\n",
       "      <td>3476.818839</td>\n",
       "    </tr>\n",
       "    <tr>\n",
       "      <th>1</th>\n",
       "      <td>17185.312877</td>\n",
       "    </tr>\n",
       "    <tr>\n",
       "      <th>2</th>\n",
       "      <td>16602.638796</td>\n",
       "    </tr>\n",
       "    <tr>\n",
       "      <th>3</th>\n",
       "      <td>11573.265050</td>\n",
       "    </tr>\n",
       "    <tr>\n",
       "      <th>4</th>\n",
       "      <td>12337.076816</td>\n",
       "    </tr>\n",
       "    <tr>\n",
       "      <th>5</th>\n",
       "      <td>14886.295597</td>\n",
       "    </tr>\n",
       "    <tr>\n",
       "      <th>6</th>\n",
       "      <td>11858.651731</td>\n",
       "    </tr>\n",
       "    <tr>\n",
       "      <th>7</th>\n",
       "      <td>13742.275458</td>\n",
       "    </tr>\n",
       "    <tr>\n",
       "      <th>8</th>\n",
       "      <td>7957.373761</td>\n",
       "    </tr>\n",
       "    <tr>\n",
       "      <th>9</th>\n",
       "      <td>6196.077146</td>\n",
       "    </tr>\n",
       "    <tr>\n",
       "      <th>10</th>\n",
       "      <td>6272.202255</td>\n",
       "    </tr>\n",
       "    <tr>\n",
       "      <th>11</th>\n",
       "      <td>5687.364766</td>\n",
       "    </tr>\n",
       "    <tr>\n",
       "      <th>12</th>\n",
       "      <td>5806.409578</td>\n",
       "    </tr>\n",
       "    <tr>\n",
       "      <th>13</th>\n",
       "      <td>5813.503631</td>\n",
       "    </tr>\n",
       "    <tr>\n",
       "      <th>14</th>\n",
       "      <td>5440.762182</td>\n",
       "    </tr>\n",
       "    <tr>\n",
       "      <th>15</th>\n",
       "      <td>5319.968214</td>\n",
       "    </tr>\n",
       "    <tr>\n",
       "      <th>16</th>\n",
       "      <td>5281.581260</td>\n",
       "    </tr>\n",
       "    <tr>\n",
       "      <th>17</th>\n",
       "      <td>4786.823031</td>\n",
       "    </tr>\n",
       "    <tr>\n",
       "      <th>18</th>\n",
       "      <td>4905.007875</td>\n",
       "    </tr>\n",
       "    <tr>\n",
       "      <th>19</th>\n",
       "      <td>4485.959245</td>\n",
       "    </tr>\n",
       "    <tr>\n",
       "      <th>20</th>\n",
       "      <td>5127.758247</td>\n",
       "    </tr>\n",
       "    <tr>\n",
       "      <th>21</th>\n",
       "      <td>4592.201474</td>\n",
       "    </tr>\n",
       "    <tr>\n",
       "      <th>22</th>\n",
       "      <td>4834.011765</td>\n",
       "    </tr>\n",
       "    <tr>\n",
       "      <th>23</th>\n",
       "      <td>4260.696203</td>\n",
       "    </tr>\n",
       "    <tr>\n",
       "      <th>24</th>\n",
       "      <td>4251.689041</td>\n",
       "    </tr>\n",
       "    <tr>\n",
       "      <th>25</th>\n",
       "      <td>5028.403226</td>\n",
       "    </tr>\n",
       "    <tr>\n",
       "      <th>26</th>\n",
       "      <td>5798.205634</td>\n",
       "    </tr>\n",
       "    <tr>\n",
       "      <th>27</th>\n",
       "      <td>5512.246753</td>\n",
       "    </tr>\n",
       "    <tr>\n",
       "      <th>28</th>\n",
       "      <td>3867.086022</td>\n",
       "    </tr>\n",
       "    <tr>\n",
       "      <th>29</th>\n",
       "      <td>4163.373068</td>\n",
       "    </tr>\n",
       "    <tr>\n",
       "      <th>30</th>\n",
       "      <td>5213.126258</td>\n",
       "    </tr>\n",
       "    <tr>\n",
       "      <th>31</th>\n",
       "      <td>4037.292201</td>\n",
       "    </tr>\n",
       "    <tr>\n",
       "      <th>32</th>\n",
       "      <td>4207.710145</td>\n",
       "    </tr>\n",
       "    <tr>\n",
       "      <th>33</th>\n",
       "      <td>5059.430659</td>\n",
       "    </tr>\n",
       "    <tr>\n",
       "      <th>34</th>\n",
       "      <td>5318.636957</td>\n",
       "    </tr>\n",
       "    <tr>\n",
       "      <th>35</th>\n",
       "      <td>5124.807018</td>\n",
       "    </tr>\n",
       "    <tr>\n",
       "      <th>36</th>\n",
       "      <td>4288.935000</td>\n",
       "    </tr>\n",
       "    <tr>\n",
       "      <th>37</th>\n",
       "      <td>3707.500000</td>\n",
       "    </tr>\n",
       "    <tr>\n",
       "      <th>39</th>\n",
       "      <td>3849.833333</td>\n",
       "    </tr>\n",
       "    <tr>\n",
       "      <th>40</th>\n",
       "      <td>4034.166667</td>\n",
       "    </tr>\n",
       "    <tr>\n",
       "      <th>41</th>\n",
       "      <td>2589.800000</td>\n",
       "    </tr>\n",
       "    <tr>\n",
       "      <th>42</th>\n",
       "      <td>7045.000000</td>\n",
       "    </tr>\n",
       "    <tr>\n",
       "      <th>43</th>\n",
       "      <td>4500.000000</td>\n",
       "    </tr>\n",
       "    <tr>\n",
       "      <th>46</th>\n",
       "      <td>3931.450000</td>\n",
       "    </tr>\n",
       "    <tr>\n",
       "      <th>47</th>\n",
       "      <td>4286.250000</td>\n",
       "    </tr>\n",
       "    <tr>\n",
       "      <th>48</th>\n",
       "      <td>4468.090909</td>\n",
       "    </tr>\n",
       "    <tr>\n",
       "      <th>49</th>\n",
       "      <td>3861.814815</td>\n",
       "    </tr>\n",
       "    <tr>\n",
       "      <th>50</th>\n",
       "      <td>3742.941176</td>\n",
       "    </tr>\n",
       "    <tr>\n",
       "      <th>51</th>\n",
       "      <td>3674.895833</td>\n",
       "    </tr>\n",
       "    <tr>\n",
       "      <th>52</th>\n",
       "      <td>4080.294118</td>\n",
       "    </tr>\n",
       "    <tr>\n",
       "      <th>53</th>\n",
       "      <td>3842.760000</td>\n",
       "    </tr>\n",
       "    <tr>\n",
       "      <th>54</th>\n",
       "      <td>6983.333333</td>\n",
       "    </tr>\n",
       "    <tr>\n",
       "      <th>59</th>\n",
       "      <td>3275.000000</td>\n",
       "    </tr>\n",
       "    <tr>\n",
       "      <th>60</th>\n",
       "      <td>1800.000000</td>\n",
       "    </tr>\n",
       "    <tr>\n",
       "      <th>61</th>\n",
       "      <td>3200.000000</td>\n",
       "    </tr>\n",
       "    <tr>\n",
       "      <th>62</th>\n",
       "      <td>3400.000000</td>\n",
       "    </tr>\n",
       "    <tr>\n",
       "      <th>64</th>\n",
       "      <td>3650.000000</td>\n",
       "    </tr>\n",
       "    <tr>\n",
       "      <th>65</th>\n",
       "      <td>3750.000000</td>\n",
       "    </tr>\n",
       "  </tbody>\n",
       "</table>\n",
       "</div>"
      ],
      "text/plain": [
       "                          last_price\n",
       "cityCenters_nearest_km              \n",
       "0                        3476.818839\n",
       "1                       17185.312877\n",
       "2                       16602.638796\n",
       "3                       11573.265050\n",
       "4                       12337.076816\n",
       "5                       14886.295597\n",
       "6                       11858.651731\n",
       "7                       13742.275458\n",
       "8                        7957.373761\n",
       "9                        6196.077146\n",
       "10                       6272.202255\n",
       "11                       5687.364766\n",
       "12                       5806.409578\n",
       "13                       5813.503631\n",
       "14                       5440.762182\n",
       "15                       5319.968214\n",
       "16                       5281.581260\n",
       "17                       4786.823031\n",
       "18                       4905.007875\n",
       "19                       4485.959245\n",
       "20                       5127.758247\n",
       "21                       4592.201474\n",
       "22                       4834.011765\n",
       "23                       4260.696203\n",
       "24                       4251.689041\n",
       "25                       5028.403226\n",
       "26                       5798.205634\n",
       "27                       5512.246753\n",
       "28                       3867.086022\n",
       "29                       4163.373068\n",
       "30                       5213.126258\n",
       "31                       4037.292201\n",
       "32                       4207.710145\n",
       "33                       5059.430659\n",
       "34                       5318.636957\n",
       "35                       5124.807018\n",
       "36                       4288.935000\n",
       "37                       3707.500000\n",
       "39                       3849.833333\n",
       "40                       4034.166667\n",
       "41                       2589.800000\n",
       "42                       7045.000000\n",
       "43                       4500.000000\n",
       "46                       3931.450000\n",
       "47                       4286.250000\n",
       "48                       4468.090909\n",
       "49                       3861.814815\n",
       "50                       3742.941176\n",
       "51                       3674.895833\n",
       "52                       4080.294118\n",
       "53                       3842.760000\n",
       "54                       6983.333333\n",
       "59                       3275.000000\n",
       "60                       1800.000000\n",
       "61                       3200.000000\n",
       "62                       3400.000000\n",
       "64                       3650.000000\n",
       "65                       3750.000000"
      ]
     },
     "execution_count": 84,
     "metadata": {},
     "output_type": "execute_result"
    }
   ],
   "source": [
    "pivot_table_km = data.pivot_table(index = 'cityCenters_nearest_km', values = 'last_price', aggfunc = 'mean')\n",
    "pivot_table_km"
   ]
  },
  {
   "cell_type": "code",
   "execution_count": 85,
   "id": "81200f8f",
   "metadata": {},
   "outputs": [
    {
     "data": {
      "image/png": "[encoded data removed]",
      "text/plain": [
       "<Figure size 432x288 with 1 Axes>"
      ]
     },
     "metadata": {
      "needs_background": "light"
     },
     "output_type": "display_data"
    }
   ],
   "source": [
    "pivot_table_km.plot()\n",
    "plt.title('Зависимость цены объекта от удаленности от центра СПб')\n",
    "None"
   ]
  },
  {
   "cell_type": "markdown",
   "id": "7b7e4fb4-1481-4c0a-a8bf-6cfb4db20dd0",
   "metadata": {},
   "source": [
    "Сложный для анализа график, но всё же мы видим, что он начинается с низкого значения при нулевой близости к центру. Или это выброс, или это какие-нибудь странные апартаменты.\\\n",
    "В целом, чем ближе к центру, тем выше цена, хотя имеются спады, связанные, вероятно, с качеством жилья: старый фонд, квартиры в плохом состоянии, студии и апартаменты, нарезанные из больших коммунальных квартир.\\\n",
    "Наблюдаем резкий спад цены на уровне 8 и 9 км от центра города — это похоже на правду. Центр и районы ближайшие к нему заканчиваются примерно на этом расстоянии, что можно проверить с помощью Яндекс.Карт.\\\n",
    "По мере удаления от центра наблюдаем закономерное снижение цены, при этом имеются пики, которые можем связать с тем, что на удалении от центра расположены другие населенные пункты, которые также могут являться точкой отсчета и популярным местом для жизни, а потому достойным цены выше, чем что-то на отдалении.\n",
    "\n",
    "Отдельно рассмотрим влияние удаленности от центра на стоимость объекта в границах Санкт-Петербурга."
   ]
  },
  {
   "cell_type": "code",
   "execution_count": 86,
   "id": "6a19f2e1",
   "metadata": {},
   "outputs": [
    {
     "data": {
      "text/html": [
       "<div>\n",
       "<style scoped>\n",
       "    .dataframe tbody tr th:only-of-type {\n",
       "        vertical-align: middle;\n",
       "    }\n",
       "\n",
       "    .dataframe tbody tr th {\n",
       "        vertical-align: top;\n",
       "    }\n",
       "\n",
       "    .dataframe thead th {\n",
       "        text-align: right;\n",
       "    }\n",
       "</style>\n",
       "<table border=\"1\" class=\"dataframe\">\n",
       "  <thead>\n",
       "    <tr style=\"text-align: right;\">\n",
       "      <th></th>\n",
       "      <th>last_price</th>\n",
       "    </tr>\n",
       "    <tr>\n",
       "      <th>cityCenters_nearest_km</th>\n",
       "      <th></th>\n",
       "    </tr>\n",
       "  </thead>\n",
       "  <tbody>\n",
       "    <tr>\n",
       "      <th>0</th>\n",
       "      <td>22435.733950</td>\n",
       "    </tr>\n",
       "    <tr>\n",
       "      <th>1</th>\n",
       "      <td>17185.312877</td>\n",
       "    </tr>\n",
       "    <tr>\n",
       "      <th>2</th>\n",
       "      <td>16602.638796</td>\n",
       "    </tr>\n",
       "    <tr>\n",
       "      <th>3</th>\n",
       "      <td>11573.265050</td>\n",
       "    </tr>\n",
       "    <tr>\n",
       "      <th>4</th>\n",
       "      <td>12337.076816</td>\n",
       "    </tr>\n",
       "    <tr>\n",
       "      <th>5</th>\n",
       "      <td>14886.295597</td>\n",
       "    </tr>\n",
       "    <tr>\n",
       "      <th>6</th>\n",
       "      <td>11858.651731</td>\n",
       "    </tr>\n",
       "    <tr>\n",
       "      <th>7</th>\n",
       "      <td>13742.275458</td>\n",
       "    </tr>\n",
       "    <tr>\n",
       "      <th>8</th>\n",
       "      <td>7957.373761</td>\n",
       "    </tr>\n",
       "    <tr>\n",
       "      <th>9</th>\n",
       "      <td>6196.077146</td>\n",
       "    </tr>\n",
       "    <tr>\n",
       "      <th>10</th>\n",
       "      <td>6272.202255</td>\n",
       "    </tr>\n",
       "    <tr>\n",
       "      <th>11</th>\n",
       "      <td>5687.364766</td>\n",
       "    </tr>\n",
       "    <tr>\n",
       "      <th>12</th>\n",
       "      <td>5806.409578</td>\n",
       "    </tr>\n",
       "    <tr>\n",
       "      <th>13</th>\n",
       "      <td>5813.503631</td>\n",
       "    </tr>\n",
       "    <tr>\n",
       "      <th>14</th>\n",
       "      <td>5440.762182</td>\n",
       "    </tr>\n",
       "    <tr>\n",
       "      <th>15</th>\n",
       "      <td>5319.968214</td>\n",
       "    </tr>\n",
       "    <tr>\n",
       "      <th>16</th>\n",
       "      <td>5281.581260</td>\n",
       "    </tr>\n",
       "    <tr>\n",
       "      <th>17</th>\n",
       "      <td>4845.083741</td>\n",
       "    </tr>\n",
       "    <tr>\n",
       "      <th>18</th>\n",
       "      <td>5488.734508</td>\n",
       "    </tr>\n",
       "    <tr>\n",
       "      <th>19</th>\n",
       "      <td>4635.986921</td>\n",
       "    </tr>\n",
       "    <tr>\n",
       "      <th>20</th>\n",
       "      <td>5872.424687</td>\n",
       "    </tr>\n",
       "    <tr>\n",
       "      <th>21</th>\n",
       "      <td>4791.577282</td>\n",
       "    </tr>\n",
       "    <tr>\n",
       "      <th>22</th>\n",
       "      <td>4943.936709</td>\n",
       "    </tr>\n",
       "    <tr>\n",
       "      <th>23</th>\n",
       "      <td>4200.857143</td>\n",
       "    </tr>\n",
       "    <tr>\n",
       "      <th>24</th>\n",
       "      <td>3826.125000</td>\n",
       "    </tr>\n",
       "    <tr>\n",
       "      <th>25</th>\n",
       "      <td>4195.575758</td>\n",
       "    </tr>\n",
       "    <tr>\n",
       "      <th>26</th>\n",
       "      <td>3287.500000</td>\n",
       "    </tr>\n",
       "    <tr>\n",
       "      <th>27</th>\n",
       "      <td>8300.000000</td>\n",
       "    </tr>\n",
       "    <tr>\n",
       "      <th>28</th>\n",
       "      <td>4910.500000</td>\n",
       "    </tr>\n",
       "    <tr>\n",
       "      <th>29</th>\n",
       "      <td>4200.000000</td>\n",
       "    </tr>\n",
       "  </tbody>\n",
       "</table>\n",
       "</div>"
      ],
      "text/plain": [
       "                          last_price\n",
       "cityCenters_nearest_km              \n",
       "0                       22435.733950\n",
       "1                       17185.312877\n",
       "2                       16602.638796\n",
       "3                       11573.265050\n",
       "4                       12337.076816\n",
       "5                       14886.295597\n",
       "6                       11858.651731\n",
       "7                       13742.275458\n",
       "8                        7957.373761\n",
       "9                        6196.077146\n",
       "10                       6272.202255\n",
       "11                       5687.364766\n",
       "12                       5806.409578\n",
       "13                       5813.503631\n",
       "14                       5440.762182\n",
       "15                       5319.968214\n",
       "16                       5281.581260\n",
       "17                       4845.083741\n",
       "18                       5488.734508\n",
       "19                       4635.986921\n",
       "20                       5872.424687\n",
       "21                       4791.577282\n",
       "22                       4943.936709\n",
       "23                       4200.857143\n",
       "24                       3826.125000\n",
       "25                       4195.575758\n",
       "26                       3287.500000\n",
       "27                       8300.000000\n",
       "28                       4910.500000\n",
       "29                       4200.000000"
      ]
     },
     "execution_count": 86,
     "metadata": {},
     "output_type": "execute_result"
    },
    {
     "data": {
      "image/png": "[encoded data removed]",
      "text/plain": [
       "<Figure size 432x288 with 1 Axes>"
      ]
     },
     "metadata": {
      "needs_background": "light"
     },
     "output_type": "display_data"
    }
   ],
   "source": [
    "pivot_table_km_spb = data.query('locality_name in \"Санкт-Петербург\"').pivot_table(index = 'cityCenters_nearest_km', values = 'last_price', aggfunc = 'mean')\n",
    "pivot_table_km_spb.plot()\n",
    "plt.title('Зависимость цены объекта от удаленности от центра СПб в пределах СПб')\n",
    "pivot_table_km_spb"
   ]
  },
  {
   "cell_type": "markdown",
   "id": "2dd2e25a",
   "metadata": {},
   "source": [
    "На графике мы видим закономерность: чем объект ближе к центру Санкт-Петербурга, тем он дороже. График стремится вниз по мере удаления от центра, поначалу плавно, до уровня 8-9 км, как и на общем графике, представленном выше, и затем резко снижается с умеренным пиком в самом конце.\\\n",
    "Для получения данного графика мы взяли из общего датасета строки с объектами, обозначенными как объекты из Санкт-Петербурга.\\\n",
    "На всякий случай, уточним размеры Санкт-Петербурга: севера на юг в пределах КАД — 32 км (за пределами КАД — 52 км), с северо-запада на юго-восток за пределами КАД,— около 90 км. В пределах этих значений и лежат наши результаты.\\\n",
    "Объяснить пики на графике довольно просто: районы с жилой недвижимостью с высокой стоимостью расположены на территории Санкт-Петербурга не только в центре, но и географически на окраинах (например, Курортный район Санкт-Петербурга)."
   ]
  },
  {
   "cell_type": "markdown",
   "id": "872732b0-52cc-4055-99b5-a4e877257fc8",
   "metadata": {},
   "source": [
    "## Общий вывод"
   ]
  },
  {
   "cell_type": "markdown",
   "id": "472233e2-db7d-4836-98cb-34cd95515055",
   "metadata": {},
   "source": [
    "Для исследования был предоставлен датасет, содержащий информацию об объявлениях о продаже квартир в Санкт-Петербурге и Ленинградской области в период 2014-2019 гг. Часть информации в датасет была внесена пользователями самостоятельно при подаче объявлений, часть — автоматически, с использованием геосервисов.\\\n",
    "`total_images` — число фотографий квартиры в объявлении \\\n",
    "`last_price` — цена на момент снятия с публикации \\\n",
    "`total_area` — общая площадь квартиры в квадратных метрах (м²) \\\n",
    "`first_day_exposition` — дата публикации \\\n",
    "`rooms` — число комнат \\\n",
    "`ceiling_height` — высота потолков (м) \\\n",
    "`floors_total` — всего этажей в доме (float64) \\\n",
    "`living_area` — жилая площадь в квадратных метрах (м²) \\\n",
    "`floor` — этаж \\\n",
    "`is_apartment` — апартаменты \\\n",
    "`studio` — квартира-студия \\\n",
    "`open_plan` — свободная планировка \\\n",
    "`kitchen_area` — площадь кухни в квадратных метрах (м²) \\\n",
    "`balcony` — число балконов \\\n",
    "`locality_name` — название населённого пункта \\\n",
    "`airports_nearest` — расстояние до ближайшего аэропорта в метрах (м) \\\n",
    "`cityCenters_nearest` — расстояние до центра города (м) \\\n",
    "`parks_around3000` — число парков в радиусе 3 км \\\n",
    "`parks_nearest` — расстояние до ближайшего парка (м) \\\n",
    "`ponds_around3000` — число водоёмов в радиусе 3 км \\\n",
    "`ponds_nearest` — расстояние до ближайшего водоёма (м) \\\n",
    "`days_exposition` — сколько дней было размещено объявление (от публикации до снятия)\\\n",
    "\n",
    "На этапе предобработки мы детально рассмотрели предоставленный датасет, обработали пропуски и аномальные значения там, где это возможно, привели данные к корректному типу, пригодному для дальнейших манипуляций.\\\n",
    "Часть аномальных значений в столбцах с высотой потолков и жилой площадью мы обработали с применением дополнительных источников информации (СНиП). \n",
    "В ряде случаев мы столкнулись с невосполнимыми пропусками в данных: столбцы с информацией о расстоянии до аэропорта, парков, прудов. В случае решения реальной задачи, мы бы обратились к источнику данных за коррекцией датасета или же уточнением, что делать в такой ситуации и насколько это важно для нашего исследования.\n",
    "Также мы столкнулись с пользовательской природой пропусков — 38,8% значений в столбце с информацией о высоте потолков были пропущены. Это солидный объем, но восполнить его мы так же не можем, поскольку имеем дело с датасетом с информацией о квартирах в Санкт-Петербурге, где высота потолков не зависит от района, и восполнить такие пропуски доступными нам методами мы не можем, не исказив результат исследования. Поэтому мы заполнили пропуски нулевым значением, чтобы не терять эти строки из датасета и использовать их для анализа других показателей.\\\n",
    "Пропуски в локации объявления были удалены (0,21%), так как у нас нет возможности на данном этапе восстановить эту информацию.\n",
    "\n",
    "Для дальнейшего анализа мы вывели производные величины:\n",
    "* цена квадратный метр;\n",
    "* день недели, месяц и год публикации объявления;\n",
    "* этаж квартиры (первый, последний, другой);\n",
    "* расстояние до центра Санкт-Петербурга в км.\n",
    "\n",
    "Были изучены следующие параметры ообъектов:\n",
    "* общая площадь;\n",
    "* жилая площадь;\n",
    "* площадь кухни;\n",
    "* цена объекта;\n",
    "* количество комнат;\n",
    "* высота потолков;\n",
    "* тип этажа квартиры («первый», «последний», «другой»);\n",
    "* общее количество этажей в доме;\n",
    "* расстояние до центра города в метрах;\n",
    "* расстояние до ближайшего парка.\n",
    "\n",
    "В ходе исследования мы выяснили, что:\n",
    "* Средняя площадь квартир — 60,2 кв.м., медиана — 52 кв.м. Самая маленькая квартира в предоставленной выборке 14 кв.м., а самая большая — двенадцатикомнатная квартира площадью 900 кв.м.\n",
    "* Жилая площадь колеблется в диапазоне от 8 кв.м. до 409 кв.м (жилая площадь вышеупомянутой двенадцатикомнатной квартиры общей площадью 900 кв.м.). Средняя жилая площадь квартир — 34,5 кв.м. Медиана — 30 кв.м.\n",
    "* Средний размер кухонь в Санкт-Петербурге составляет 5,8 кв.м., медиана — 9 кв.м.\n",
    "* Средняя стоимость квартир составляет 6.479.150 и медиана 4.680.000. Самая дорогая квартира стоит 420.000.000.\n",
    "* Количество комнат в квартирах выборки колеблется от 1 до 19.\n",
    "* Минимальная высота потолков 2,4м, максимальная — 4,5м, медиана составила 2,6м.\n",
    "* В выборке подавляющее большинство квартир не первого и не последнего этажа, а какого-либо другого. Меньше всего — квартир первого этажа. \n",
    "* Основная масса квартир расположена на 1-7 этажах, но есть и варианты выше. Максимальный этаж 30.\n",
    "* В выборке есть варианты квартир, расположенные как в центре Санкт-Петербурга (менее 1 км), так и удаленные от него: максимально удаленный вариант — 65 км от центра Санкт-Петербурга. Среднее расстояние составило 9,5 км, а медиана — 11 км.\n",
    "* Минимальное расстояние до парка составляет 3м, максимальное — 3,19км. Среднее расстояние — 337м, медиана — 453м.\n",
    "\n",
    "Изучив имеющиеся параметры, мы приступили к выявлению закономерностей, которые позволили бы нам лучше понять состояние рынка жилой недвижимости Санкт-Петербурга.\n",
    "* Средний срок публикации объявления 227 дня, медиана 115 дней. Самый долгий срок объявления составил 1580 дней (около 4 лет).\n",
    "В ходе рассмотрения этого параметра мы приняли во внимание, что Яндекс.Недвижимость контролирует сроки публикации объявлений, и очистили выборку от объявлений, снятых автоматически по сроку.\n",
    "* Общая и жилая площадь сильно влияют на цену объекта; площадь кухни также влияет, но умеренно, и, вероятно, ее влияние опосредованно связано с общим метражом квартиры.\n",
    "* Количество комнат умеренно влияет на цену квартиры.\n",
    "* Дешевле всего квартиры на первом этаже. Далее по возрастанию стоимости идут квартиры на последнем этаже и затем на любых других этажах.\n",
    "* С пятницы по воскресенье выставляют объявления с низкими ценами, а во вторник — с самыми высокими.\n",
    "* Цены выше в сентябре и январе и ниже в марте и июне.\n",
    "* В период 2014-2018 гг. цены на квартиры снижались, причем резко в 2014-2015 гг. и далее более плавно; затем, в 2018-2019 гг, наблюдаем плавный рост цен. При этом стоимость кв.м. в период 2014-2015 гг. снижалась, как и стоимость объектов, но затем повышалась.\n",
    "* Самый дорогой квадратный метр в Санкт-Петербург, а самый дешевый, если выбирать из 10 самых популярных локаций, в Гатчине. При этом Гатчина стоит на девятой строчке по популярности.\n",
    "Несколько дешевле, чем в Санкт-Петербурге, квартиры в Пушкине, расположенном на седьмом месте по популярности.\n",
    "* Самые дорогие квартиры в центре Санкт-Петербурга и на расстоянии 8-9 км от него, далее цены заметно снижаются. В соседних населенных пунктах цены на квартиры порой выше, чем на окраинах Санкт-Петербурга.\n",
    "* При детальном рассмотрении конкретно объектов в Санкт-Петербурге мы видим явную зависимость: чем ближе объект к центру Санкт-Петербурга, тем выше его цена. При этом на достаточном отдалении от центра Санкт-Петербурга находятся районы с ценой несколько выше, чем в близлежащих районах."
   ]
  }
 ],
 "metadata": {
  "ExecuteTimeLog": [
   {
    "duration": 753,
    "start_time": "2023-11-23T08:25:33.189Z"
   },
   {
    "duration": 0,
    "start_time": "2023-11-23T08:25:33.946Z"
   },
   {
    "duration": 0,
    "start_time": "2023-11-23T08:25:33.946Z"
   },
   {
    "duration": 1,
    "start_time": "2023-11-23T08:25:33.947Z"
   },
   {
    "duration": 0,
    "start_time": "2023-11-23T08:25:33.949Z"
   },
   {
    "duration": 0,
    "start_time": "2023-11-23T08:25:33.950Z"
   },
   {
    "duration": 0,
    "start_time": "2023-11-23T08:25:33.951Z"
   },
   {
    "duration": 0,
    "start_time": "2023-11-23T08:25:33.952Z"
   },
   {
    "duration": 0,
    "start_time": "2023-11-23T08:25:33.953Z"
   },
   {
    "duration": 0,
    "start_time": "2023-11-23T08:25:33.953Z"
   },
   {
    "duration": 0,
    "start_time": "2023-11-23T08:25:33.955Z"
   },
   {
    "duration": 0,
    "start_time": "2023-11-23T08:25:33.955Z"
   },
   {
    "duration": 0,
    "start_time": "2023-11-23T08:25:33.956Z"
   },
   {
    "duration": 0,
    "start_time": "2023-11-23T08:25:33.957Z"
   },
   {
    "duration": 0,
    "start_time": "2023-11-23T08:25:33.958Z"
   },
   {
    "duration": 0,
    "start_time": "2023-11-23T08:25:33.959Z"
   },
   {
    "duration": 0,
    "start_time": "2023-11-23T08:25:33.960Z"
   },
   {
    "duration": 0,
    "start_time": "2023-11-23T08:25:33.961Z"
   },
   {
    "duration": 0,
    "start_time": "2023-11-23T08:25:33.962Z"
   },
   {
    "duration": 0,
    "start_time": "2023-11-23T08:25:33.963Z"
   },
   {
    "duration": 0,
    "start_time": "2023-11-23T08:25:33.964Z"
   },
   {
    "duration": 0,
    "start_time": "2023-11-23T08:25:33.964Z"
   },
   {
    "duration": 0,
    "start_time": "2023-11-23T08:25:33.965Z"
   },
   {
    "duration": 0,
    "start_time": "2023-11-23T08:25:33.966Z"
   },
   {
    "duration": 0,
    "start_time": "2023-11-23T08:25:33.967Z"
   },
   {
    "duration": 0,
    "start_time": "2023-11-23T08:25:33.968Z"
   },
   {
    "duration": 0,
    "start_time": "2023-11-23T08:25:33.970Z"
   },
   {
    "duration": 0,
    "start_time": "2023-11-23T08:25:33.970Z"
   },
   {
    "duration": 0,
    "start_time": "2023-11-23T08:25:33.971Z"
   },
   {
    "duration": 0,
    "start_time": "2023-11-23T08:25:33.972Z"
   },
   {
    "duration": 0,
    "start_time": "2023-11-23T08:25:33.973Z"
   },
   {
    "duration": 0,
    "start_time": "2023-11-23T08:25:33.974Z"
   },
   {
    "duration": 0,
    "start_time": "2023-11-23T08:25:33.975Z"
   },
   {
    "duration": 0,
    "start_time": "2023-11-23T08:25:33.976Z"
   },
   {
    "duration": 0,
    "start_time": "2023-11-23T08:25:33.977Z"
   },
   {
    "duration": 0,
    "start_time": "2023-11-23T08:25:33.978Z"
   },
   {
    "duration": 0,
    "start_time": "2023-11-23T08:25:33.978Z"
   },
   {
    "duration": 0,
    "start_time": "2023-11-23T08:25:33.979Z"
   },
   {
    "duration": 0,
    "start_time": "2023-11-23T08:25:33.980Z"
   },
   {
    "duration": 0,
    "start_time": "2023-11-23T08:25:33.981Z"
   },
   {
    "duration": 0,
    "start_time": "2023-11-23T08:25:33.982Z"
   },
   {
    "duration": 0,
    "start_time": "2023-11-23T08:25:33.983Z"
   },
   {
    "duration": 0,
    "start_time": "2023-11-23T08:25:33.984Z"
   },
   {
    "duration": 0,
    "start_time": "2023-11-23T08:25:33.985Z"
   },
   {
    "duration": 0,
    "start_time": "2023-11-23T08:25:33.987Z"
   },
   {
    "duration": 0,
    "start_time": "2023-11-23T08:25:33.988Z"
   },
   {
    "duration": 0,
    "start_time": "2023-11-23T08:25:33.990Z"
   },
   {
    "duration": 0,
    "start_time": "2023-11-23T08:25:33.990Z"
   },
   {
    "duration": 0,
    "start_time": "2023-11-23T08:25:33.992Z"
   },
   {
    "duration": 0,
    "start_time": "2023-11-23T08:25:33.993Z"
   },
   {
    "duration": 0,
    "start_time": "2023-11-23T08:25:33.995Z"
   },
   {
    "duration": 0,
    "start_time": "2023-11-23T08:25:34.056Z"
   },
   {
    "duration": 0,
    "start_time": "2023-11-23T08:25:34.058Z"
   },
   {
    "duration": 0,
    "start_time": "2023-11-23T08:25:34.059Z"
   },
   {
    "duration": 0,
    "start_time": "2023-11-23T08:25:34.060Z"
   },
   {
    "duration": 0,
    "start_time": "2023-11-23T08:25:34.061Z"
   },
   {
    "duration": 0,
    "start_time": "2023-11-23T08:25:34.062Z"
   },
   {
    "duration": 0,
    "start_time": "2023-11-23T08:25:34.063Z"
   },
   {
    "duration": 0,
    "start_time": "2023-11-23T08:25:34.064Z"
   },
   {
    "duration": 0,
    "start_time": "2023-11-23T08:25:34.065Z"
   },
   {
    "duration": 0,
    "start_time": "2023-11-23T08:25:34.066Z"
   },
   {
    "duration": 0,
    "start_time": "2023-11-23T08:25:34.067Z"
   },
   {
    "duration": 0,
    "start_time": "2023-11-23T08:25:34.069Z"
   },
   {
    "duration": 0,
    "start_time": "2023-11-23T08:25:34.069Z"
   },
   {
    "duration": 0,
    "start_time": "2023-11-23T08:25:34.070Z"
   },
   {
    "duration": 0,
    "start_time": "2023-11-23T08:25:34.071Z"
   },
   {
    "duration": 0,
    "start_time": "2023-11-23T08:25:34.072Z"
   },
   {
    "duration": 0,
    "start_time": "2023-11-23T08:25:34.073Z"
   },
   {
    "duration": 0,
    "start_time": "2023-11-23T08:25:34.074Z"
   },
   {
    "duration": 0,
    "start_time": "2023-11-23T08:25:34.075Z"
   },
   {
    "duration": 0,
    "start_time": "2023-11-23T08:25:34.076Z"
   },
   {
    "duration": 0,
    "start_time": "2023-11-23T08:25:34.077Z"
   },
   {
    "duration": 0,
    "start_time": "2023-11-23T08:25:34.078Z"
   },
   {
    "duration": 0,
    "start_time": "2023-11-23T08:25:34.079Z"
   },
   {
    "duration": 0,
    "start_time": "2023-11-23T08:25:34.080Z"
   },
   {
    "duration": 0,
    "start_time": "2023-11-23T08:25:34.081Z"
   },
   {
    "duration": 0,
    "start_time": "2023-11-23T08:25:34.082Z"
   },
   {
    "duration": 48,
    "start_time": "2023-11-23T09:47:43.061Z"
   },
   {
    "duration": 799,
    "start_time": "2023-11-23T09:47:47.026Z"
   },
   {
    "duration": 160,
    "start_time": "2023-11-23T09:47:51.635Z"
   },
   {
    "duration": 254,
    "start_time": "2023-11-23T10:02:09.075Z"
   },
   {
    "duration": 1882,
    "start_time": "2023-11-23T10:02:27.634Z"
   },
   {
    "duration": 1853,
    "start_time": "2023-11-23T10:02:32.682Z"
   },
   {
    "duration": 1887,
    "start_time": "2023-11-23T10:03:36.615Z"
   },
   {
    "duration": 117,
    "start_time": "2023-11-23T10:40:04.422Z"
   },
   {
    "duration": 643,
    "start_time": "2023-11-23T11:10:04.027Z"
   },
   {
    "duration": 290,
    "start_time": "2023-11-23T11:10:04.672Z"
   },
   {
    "duration": 29,
    "start_time": "2023-11-23T11:10:04.963Z"
   },
   {
    "duration": 1923,
    "start_time": "2023-11-23T11:10:04.993Z"
   },
   {
    "duration": 1963,
    "start_time": "2023-11-23T11:10:06.918Z"
   },
   {
    "duration": 26,
    "start_time": "2023-11-23T11:10:08.882Z"
   },
   {
    "duration": 10,
    "start_time": "2023-11-23T11:10:08.909Z"
   },
   {
    "duration": 14,
    "start_time": "2023-11-23T11:10:08.921Z"
   },
   {
    "duration": 4,
    "start_time": "2023-11-23T11:10:08.937Z"
   },
   {
    "duration": 8,
    "start_time": "2023-11-23T11:10:08.942Z"
   },
   {
    "duration": 20,
    "start_time": "2023-11-23T11:10:08.952Z"
   },
   {
    "duration": 387,
    "start_time": "2023-11-23T11:10:08.973Z"
   },
   {
    "duration": 242,
    "start_time": "2023-11-23T11:10:09.362Z"
   },
   {
    "duration": 5,
    "start_time": "2023-11-23T11:10:09.608Z"
   },
   {
    "duration": 20,
    "start_time": "2023-11-23T11:10:09.615Z"
   },
   {
    "duration": 64,
    "start_time": "2023-11-23T11:10:09.637Z"
   },
   {
    "duration": 130,
    "start_time": "2023-11-23T11:10:09.703Z"
   },
   {
    "duration": 7,
    "start_time": "2023-11-23T11:10:09.835Z"
   },
   {
    "duration": 146,
    "start_time": "2023-11-23T11:10:09.844Z"
   },
   {
    "duration": 13,
    "start_time": "2023-11-23T11:10:09.991Z"
   },
   {
    "duration": 18,
    "start_time": "2023-11-23T11:10:10.006Z"
   },
   {
    "duration": 17,
    "start_time": "2023-11-23T11:10:10.025Z"
   },
   {
    "duration": 130,
    "start_time": "2023-11-23T11:10:10.043Z"
   },
   {
    "duration": 6,
    "start_time": "2023-11-23T11:10:10.174Z"
   },
   {
    "duration": 13,
    "start_time": "2023-11-23T11:10:10.187Z"
   },
   {
    "duration": 19,
    "start_time": "2023-11-23T11:10:10.202Z"
   },
   {
    "duration": 105,
    "start_time": "2023-11-23T11:10:10.223Z"
   },
   {
    "duration": 6,
    "start_time": "2023-11-23T11:10:10.329Z"
   },
   {
    "duration": 28,
    "start_time": "2023-11-23T11:10:10.337Z"
   },
   {
    "duration": 17,
    "start_time": "2023-11-23T11:10:10.366Z"
   },
   {
    "duration": 15,
    "start_time": "2023-11-23T11:10:10.384Z"
   },
   {
    "duration": 16,
    "start_time": "2023-11-23T11:10:10.400Z"
   },
   {
    "duration": 15,
    "start_time": "2023-11-23T11:10:10.417Z"
   },
   {
    "duration": 15,
    "start_time": "2023-11-23T11:10:10.434Z"
   },
   {
    "duration": 3,
    "start_time": "2023-11-23T11:10:10.451Z"
   },
   {
    "duration": 18,
    "start_time": "2023-11-23T11:10:10.456Z"
   },
   {
    "duration": 12,
    "start_time": "2023-11-23T11:10:10.476Z"
   },
   {
    "duration": 39,
    "start_time": "2023-11-23T11:10:10.489Z"
   },
   {
    "duration": 7,
    "start_time": "2023-11-23T11:10:10.529Z"
   },
   {
    "duration": 28,
    "start_time": "2023-11-23T11:10:10.538Z"
   },
   {
    "duration": 7,
    "start_time": "2023-11-23T11:10:10.571Z"
   },
   {
    "duration": 6,
    "start_time": "2023-11-23T11:10:10.579Z"
   },
   {
    "duration": 9,
    "start_time": "2023-11-23T11:10:10.600Z"
   },
   {
    "duration": 169,
    "start_time": "2023-11-23T11:10:10.610Z"
   },
   {
    "duration": 5,
    "start_time": "2023-11-23T11:10:10.781Z"
   },
   {
    "duration": 36,
    "start_time": "2023-11-23T11:10:10.787Z"
   },
   {
    "duration": 254,
    "start_time": "2023-11-23T11:10:10.825Z"
   },
   {
    "duration": 263,
    "start_time": "2023-11-23T11:10:11.081Z"
   },
   {
    "duration": 18,
    "start_time": "2023-11-23T11:10:11.346Z"
   },
   {
    "duration": 257,
    "start_time": "2023-11-23T11:10:11.366Z"
   },
   {
    "duration": 10,
    "start_time": "2023-11-23T11:10:11.625Z"
   },
   {
    "duration": 5,
    "start_time": "2023-11-23T11:10:11.636Z"
   },
   {
    "duration": 593,
    "start_time": "2023-11-23T11:10:11.642Z"
   },
   {
    "duration": 179,
    "start_time": "2023-11-23T11:10:12.237Z"
   },
   {
    "duration": 227,
    "start_time": "2023-11-23T11:10:12.418Z"
   },
   {
    "duration": 98,
    "start_time": "2023-11-23T11:10:12.647Z"
   },
   {
    "duration": 183,
    "start_time": "2023-11-23T11:10:12.747Z"
   },
   {
    "duration": 259,
    "start_time": "2023-11-23T11:10:12.932Z"
   },
   {
    "duration": 198,
    "start_time": "2023-11-23T11:10:13.193Z"
   },
   {
    "duration": 190,
    "start_time": "2023-11-23T11:10:13.392Z"
   },
   {
    "duration": 277,
    "start_time": "2023-11-23T11:10:13.583Z"
   },
   {
    "duration": 360,
    "start_time": "2023-11-23T11:10:13.861Z"
   },
   {
    "duration": 7,
    "start_time": "2023-11-23T11:10:14.223Z"
   },
   {
    "duration": 118,
    "start_time": "2023-11-23T11:10:14.232Z"
   },
   {
    "duration": 9,
    "start_time": "2023-11-23T11:10:14.351Z"
   },
   {
    "duration": 323,
    "start_time": "2023-11-23T11:10:14.362Z"
   },
   {
    "duration": 134,
    "start_time": "2023-11-23T11:10:14.686Z"
   },
   {
    "duration": 147,
    "start_time": "2023-11-23T11:10:14.821Z"
   },
   {
    "duration": 141,
    "start_time": "2023-11-23T11:10:14.970Z"
   },
   {
    "duration": 140,
    "start_time": "2023-11-23T11:10:15.112Z"
   },
   {
    "duration": 131,
    "start_time": "2023-11-23T11:10:15.253Z"
   },
   {
    "duration": 150,
    "start_time": "2023-11-23T11:10:15.386Z"
   },
   {
    "duration": 247,
    "start_time": "2023-11-23T11:10:15.538Z"
   },
   {
    "duration": 153,
    "start_time": "2023-11-23T11:10:15.786Z"
   },
   {
    "duration": 21,
    "start_time": "2023-11-23T11:10:15.941Z"
   },
   {
    "duration": 9,
    "start_time": "2023-11-23T11:10:15.963Z"
   },
   {
    "duration": 27,
    "start_time": "2023-11-23T11:10:15.974Z"
   },
   {
    "duration": 38,
    "start_time": "2023-11-23T11:10:16.003Z"
   },
   {
    "duration": 203,
    "start_time": "2023-11-23T11:10:16.043Z"
   },
   {
    "duration": 124,
    "start_time": "2023-11-23T11:12:06.159Z"
   },
   {
    "duration": 129,
    "start_time": "2023-11-23T11:12:10.341Z"
   },
   {
    "duration": 137,
    "start_time": "2023-11-23T11:12:20.755Z"
   },
   {
    "duration": 158,
    "start_time": "2023-11-23T11:12:51.920Z"
   },
   {
    "duration": 143,
    "start_time": "2023-11-23T11:12:55.849Z"
   },
   {
    "duration": 141,
    "start_time": "2023-11-23T11:13:10.579Z"
   },
   {
    "duration": 146,
    "start_time": "2023-11-23T11:13:16.180Z"
   },
   {
    "duration": 102,
    "start_time": "2023-11-23T11:13:20.025Z"
   },
   {
    "duration": 118,
    "start_time": "2023-11-23T11:13:23.207Z"
   },
   {
    "duration": 150,
    "start_time": "2023-11-23T11:13:26.024Z"
   },
   {
    "duration": 149,
    "start_time": "2023-11-23T11:13:29.165Z"
   },
   {
    "duration": 154,
    "start_time": "2023-11-23T11:13:31.572Z"
   },
   {
    "duration": 136,
    "start_time": "2023-11-23T11:13:34.267Z"
   },
   {
    "duration": 307,
    "start_time": "2023-11-23T11:14:35.957Z"
   },
   {
    "duration": 143,
    "start_time": "2023-11-23T11:14:45.535Z"
   },
   {
    "duration": 155,
    "start_time": "2023-11-23T11:14:49.984Z"
   },
   {
    "duration": 112,
    "start_time": "2023-11-23T11:15:06.291Z"
   },
   {
    "duration": 133,
    "start_time": "2023-11-23T11:15:10.048Z"
   },
   {
    "duration": 131,
    "start_time": "2023-11-23T11:15:16.163Z"
   },
   {
    "duration": 147,
    "start_time": "2023-11-23T11:15:21.299Z"
   },
   {
    "duration": 131,
    "start_time": "2023-11-23T11:15:26.422Z"
   },
   {
    "duration": 118,
    "start_time": "2023-11-23T11:15:44.666Z"
   },
   {
    "duration": 134,
    "start_time": "2023-11-23T11:15:47.972Z"
   },
   {
    "duration": 139,
    "start_time": "2023-11-23T11:15:53.744Z"
   },
   {
    "duration": 184,
    "start_time": "2023-11-23T11:17:00.047Z"
   },
   {
    "duration": 177,
    "start_time": "2023-11-23T12:02:11.341Z"
   },
   {
    "duration": 173,
    "start_time": "2023-11-23T12:02:17.200Z"
   },
   {
    "duration": 118,
    "start_time": "2023-11-23T12:06:31.106Z"
   },
   {
    "duration": 15,
    "start_time": "2023-11-23T12:06:54.466Z"
   },
   {
    "duration": 153,
    "start_time": "2023-11-23T12:07:03.292Z"
   },
   {
    "duration": 244,
    "start_time": "2023-11-23T12:07:08.121Z"
   },
   {
    "duration": 134,
    "start_time": "2023-11-23T13:03:13.516Z"
   },
   {
    "duration": 110,
    "start_time": "2023-11-23T13:03:53.206Z"
   },
   {
    "duration": 170,
    "start_time": "2023-11-23T13:06:57.033Z"
   },
   {
    "duration": 155,
    "start_time": "2023-11-23T13:10:27.994Z"
   },
   {
    "duration": 111,
    "start_time": "2023-11-23T13:12:52.020Z"
   },
   {
    "duration": 662,
    "start_time": "2023-11-23T18:02:30.010Z"
   },
   {
    "duration": 250,
    "start_time": "2023-11-23T18:02:30.674Z"
   },
   {
    "duration": 31,
    "start_time": "2023-11-23T18:02:30.925Z"
   },
   {
    "duration": 2330,
    "start_time": "2023-11-23T18:02:30.958Z"
   },
   {
    "duration": 2230,
    "start_time": "2023-11-23T18:02:33.290Z"
   },
   {
    "duration": 21,
    "start_time": "2023-11-23T18:02:35.522Z"
   },
   {
    "duration": 20,
    "start_time": "2023-11-23T18:02:35.544Z"
   },
   {
    "duration": 53,
    "start_time": "2023-11-23T18:02:35.566Z"
   },
   {
    "duration": 4,
    "start_time": "2023-11-23T18:02:35.621Z"
   },
   {
    "duration": 16,
    "start_time": "2023-11-23T18:02:35.627Z"
   },
   {
    "duration": 20,
    "start_time": "2023-11-23T18:02:35.645Z"
   },
   {
    "duration": 356,
    "start_time": "2023-11-23T18:02:35.667Z"
   },
   {
    "duration": 236,
    "start_time": "2023-11-23T18:02:36.025Z"
   },
   {
    "duration": 4,
    "start_time": "2023-11-23T18:02:36.264Z"
   },
   {
    "duration": 50,
    "start_time": "2023-11-23T18:02:36.270Z"
   },
   {
    "duration": 18,
    "start_time": "2023-11-23T18:02:36.322Z"
   },
   {
    "duration": 39,
    "start_time": "2023-11-23T18:02:36.341Z"
   },
   {
    "duration": 130,
    "start_time": "2023-11-23T18:02:36.381Z"
   },
   {
    "duration": 15,
    "start_time": "2023-11-23T18:02:36.513Z"
   },
   {
    "duration": 144,
    "start_time": "2023-11-23T18:02:36.530Z"
   },
   {
    "duration": 6,
    "start_time": "2023-11-23T18:02:36.676Z"
   },
   {
    "duration": 8,
    "start_time": "2023-11-23T18:02:36.684Z"
   },
   {
    "duration": 32,
    "start_time": "2023-11-23T18:02:36.693Z"
   },
   {
    "duration": 132,
    "start_time": "2023-11-23T18:02:36.726Z"
   },
   {
    "duration": 5,
    "start_time": "2023-11-23T18:02:36.859Z"
   },
   {
    "duration": 15,
    "start_time": "2023-11-23T18:02:36.866Z"
   },
   {
    "duration": 18,
    "start_time": "2023-11-23T18:02:36.882Z"
   },
   {
    "duration": 15,
    "start_time": "2023-11-23T18:02:36.901Z"
   },
   {
    "duration": 5,
    "start_time": "2023-11-23T18:02:36.918Z"
   },
   {
    "duration": 8,
    "start_time": "2023-11-23T18:02:36.924Z"
   },
   {
    "duration": 9,
    "start_time": "2023-11-23T18:02:36.933Z"
   },
   {
    "duration": 15,
    "start_time": "2023-11-23T18:02:36.943Z"
   },
   {
    "duration": 4,
    "start_time": "2023-11-23T18:02:36.959Z"
   },
   {
    "duration": 18,
    "start_time": "2023-11-23T18:02:36.965Z"
   },
   {
    "duration": 100,
    "start_time": "2023-11-23T18:02:36.985Z"
   },
   {
    "duration": 3,
    "start_time": "2023-11-23T18:02:37.086Z"
   },
   {
    "duration": 39,
    "start_time": "2023-11-23T18:02:37.091Z"
   },
   {
    "duration": 25,
    "start_time": "2023-11-23T18:02:37.132Z"
   },
   {
    "duration": 38,
    "start_time": "2023-11-23T18:02:37.158Z"
   },
   {
    "duration": 15,
    "start_time": "2023-11-23T18:02:37.197Z"
   },
   {
    "duration": 27,
    "start_time": "2023-11-23T18:02:37.217Z"
   },
   {
    "duration": 6,
    "start_time": "2023-11-23T18:02:37.246Z"
   },
   {
    "duration": 15,
    "start_time": "2023-11-23T18:02:37.254Z"
   },
   {
    "duration": 17,
    "start_time": "2023-11-23T18:02:37.270Z"
   },
   {
    "duration": 165,
    "start_time": "2023-11-23T18:02:37.289Z"
   },
   {
    "duration": 6,
    "start_time": "2023-11-23T18:02:37.456Z"
   },
   {
    "duration": 28,
    "start_time": "2023-11-23T18:02:37.464Z"
   },
   {
    "duration": 266,
    "start_time": "2023-11-23T18:02:37.494Z"
   },
   {
    "duration": 244,
    "start_time": "2023-11-23T18:02:37.762Z"
   },
   {
    "duration": 19,
    "start_time": "2023-11-23T18:02:38.008Z"
   },
   {
    "duration": 267,
    "start_time": "2023-11-23T18:02:38.029Z"
   },
   {
    "duration": 8,
    "start_time": "2023-11-23T18:02:38.297Z"
   },
   {
    "duration": 3,
    "start_time": "2023-11-23T18:02:38.306Z"
   },
   {
    "duration": 584,
    "start_time": "2023-11-23T18:02:38.311Z"
   },
   {
    "duration": 161,
    "start_time": "2023-11-23T18:02:38.896Z"
   },
   {
    "duration": 206,
    "start_time": "2023-11-23T18:02:39.059Z"
   },
   {
    "duration": 89,
    "start_time": "2023-11-23T18:02:39.267Z"
   },
   {
    "duration": 185,
    "start_time": "2023-11-23T18:02:39.357Z"
   },
   {
    "duration": 262,
    "start_time": "2023-11-23T18:02:39.544Z"
   },
   {
    "duration": 204,
    "start_time": "2023-11-23T18:02:39.808Z"
   },
   {
    "duration": 196,
    "start_time": "2023-11-23T18:02:40.014Z"
   },
   {
    "duration": 280,
    "start_time": "2023-11-23T18:02:40.211Z"
   },
   {
    "duration": 401,
    "start_time": "2023-11-23T18:02:40.492Z"
   },
   {
    "duration": 8,
    "start_time": "2023-11-23T18:02:40.894Z"
   },
   {
    "duration": 111,
    "start_time": "2023-11-23T18:02:40.904Z"
   },
   {
    "duration": 10,
    "start_time": "2023-11-23T18:02:41.016Z"
   },
   {
    "duration": 324,
    "start_time": "2023-11-23T18:02:41.027Z"
   },
   {
    "duration": 145,
    "start_time": "2023-11-23T18:02:41.355Z"
   },
   {
    "duration": 158,
    "start_time": "2023-11-23T18:02:41.502Z"
   },
   {
    "duration": 152,
    "start_time": "2023-11-23T18:02:41.662Z"
   },
   {
    "duration": 148,
    "start_time": "2023-11-23T18:02:41.816Z"
   },
   {
    "duration": 146,
    "start_time": "2023-11-23T18:02:41.966Z"
   },
   {
    "duration": 178,
    "start_time": "2023-11-23T18:02:42.114Z"
   },
   {
    "duration": 234,
    "start_time": "2023-11-23T18:02:42.294Z"
   },
   {
    "duration": 145,
    "start_time": "2023-11-23T18:02:42.530Z"
   },
   {
    "duration": 161,
    "start_time": "2023-11-23T18:02:42.677Z"
   },
   {
    "duration": 29,
    "start_time": "2023-11-23T18:02:42.840Z"
   },
   {
    "duration": 184,
    "start_time": "2023-11-23T18:02:42.871Z"
   },
   {
    "duration": 8,
    "start_time": "2023-11-23T18:02:43.057Z"
   },
   {
    "duration": 20,
    "start_time": "2023-11-23T18:02:43.067Z"
   },
   {
    "duration": 4,
    "start_time": "2023-11-23T18:02:43.089Z"
   },
   {
    "duration": 15,
    "start_time": "2023-11-23T18:02:43.094Z"
   },
   {
    "duration": 160,
    "start_time": "2023-11-23T18:02:43.110Z"
   },
   {
    "duration": 49,
    "start_time": "2023-11-23T20:03:15.184Z"
   },
   {
    "duration": 843,
    "start_time": "2023-11-23T20:04:44.148Z"
   },
   {
    "duration": 253,
    "start_time": "2023-11-23T20:04:44.994Z"
   },
   {
    "duration": 32,
    "start_time": "2023-11-23T20:04:45.249Z"
   },
   {
    "duration": 1922,
    "start_time": "2023-11-23T20:04:45.282Z"
   },
   {
    "duration": 1910,
    "start_time": "2023-11-23T20:04:47.206Z"
   },
   {
    "duration": 20,
    "start_time": "2023-11-23T20:04:49.117Z"
   },
   {
    "duration": 8,
    "start_time": "2023-11-23T20:04:49.139Z"
   },
   {
    "duration": 12,
    "start_time": "2023-11-23T20:04:49.166Z"
   },
   {
    "duration": 4,
    "start_time": "2023-11-23T20:04:49.180Z"
   },
   {
    "duration": 13,
    "start_time": "2023-11-23T20:04:49.186Z"
   },
   {
    "duration": 14,
    "start_time": "2023-11-23T20:04:49.201Z"
   },
   {
    "duration": 365,
    "start_time": "2023-11-23T20:04:49.217Z"
   },
   {
    "duration": 250,
    "start_time": "2023-11-23T20:04:49.584Z"
   },
   {
    "duration": 5,
    "start_time": "2023-11-23T20:04:49.837Z"
   },
   {
    "duration": 22,
    "start_time": "2023-11-23T20:04:49.843Z"
   },
   {
    "duration": 5,
    "start_time": "2023-11-23T20:04:49.867Z"
   },
   {
    "duration": 15,
    "start_time": "2023-11-23T20:04:49.873Z"
   },
   {
    "duration": 12,
    "start_time": "2023-11-23T20:04:49.889Z"
   },
   {
    "duration": 145,
    "start_time": "2023-11-23T20:04:49.903Z"
   },
   {
    "duration": 18,
    "start_time": "2023-11-23T20:04:50.050Z"
   },
   {
    "duration": 163,
    "start_time": "2023-11-23T20:04:50.070Z"
   },
   {
    "duration": 10,
    "start_time": "2023-11-23T20:04:50.235Z"
   },
   {
    "duration": 20,
    "start_time": "2023-11-23T20:04:50.246Z"
   },
   {
    "duration": 17,
    "start_time": "2023-11-23T20:04:50.268Z"
   },
   {
    "duration": 136,
    "start_time": "2023-11-23T20:04:50.287Z"
   },
   {
    "duration": 6,
    "start_time": "2023-11-23T20:04:50.425Z"
   },
   {
    "duration": 6,
    "start_time": "2023-11-23T20:04:50.433Z"
   },
   {
    "duration": 25,
    "start_time": "2023-11-23T20:04:50.441Z"
   },
   {
    "duration": 11,
    "start_time": "2023-11-23T20:04:50.467Z"
   },
   {
    "duration": 7,
    "start_time": "2023-11-23T20:04:50.480Z"
   },
   {
    "duration": 10,
    "start_time": "2023-11-23T20:04:50.488Z"
   },
   {
    "duration": 14,
    "start_time": "2023-11-23T20:04:50.499Z"
   },
   {
    "duration": 9,
    "start_time": "2023-11-23T20:04:50.515Z"
   },
   {
    "duration": 40,
    "start_time": "2023-11-23T20:04:50.525Z"
   },
   {
    "duration": 5,
    "start_time": "2023-11-23T20:04:50.567Z"
   },
   {
    "duration": 122,
    "start_time": "2023-11-23T20:04:50.575Z"
   },
   {
    "duration": 4,
    "start_time": "2023-11-23T20:04:50.699Z"
   },
   {
    "duration": 19,
    "start_time": "2023-11-23T20:04:50.704Z"
   },
   {
    "duration": 17,
    "start_time": "2023-11-23T20:04:50.724Z"
   },
   {
    "duration": 56,
    "start_time": "2023-11-23T20:04:50.744Z"
   },
   {
    "duration": 8,
    "start_time": "2023-11-23T20:04:50.806Z"
   },
   {
    "duration": 50,
    "start_time": "2023-11-23T20:04:50.816Z"
   },
   {
    "duration": 9,
    "start_time": "2023-11-23T20:04:50.868Z"
   },
   {
    "duration": 5,
    "start_time": "2023-11-23T20:04:50.879Z"
   },
   {
    "duration": 11,
    "start_time": "2023-11-23T20:04:50.885Z"
   },
   {
    "duration": 254,
    "start_time": "2023-11-23T20:04:50.897Z"
   },
   {
    "duration": 5,
    "start_time": "2023-11-23T20:04:51.152Z"
   },
   {
    "duration": 24,
    "start_time": "2023-11-23T20:04:51.165Z"
   },
   {
    "duration": 243,
    "start_time": "2023-11-23T20:04:51.190Z"
   },
   {
    "duration": 252,
    "start_time": "2023-11-23T20:04:51.435Z"
   },
   {
    "duration": 19,
    "start_time": "2023-11-23T20:04:51.689Z"
   },
   {
    "duration": 271,
    "start_time": "2023-11-23T20:04:51.710Z"
   },
   {
    "duration": 10,
    "start_time": "2023-11-23T20:04:51.983Z"
   },
   {
    "duration": 4,
    "start_time": "2023-11-23T20:04:51.995Z"
   },
   {
    "duration": 581,
    "start_time": "2023-11-23T20:04:52.000Z"
   },
   {
    "duration": 172,
    "start_time": "2023-11-23T20:04:52.583Z"
   },
   {
    "duration": 197,
    "start_time": "2023-11-23T20:04:52.757Z"
   },
   {
    "duration": 93,
    "start_time": "2023-11-23T20:04:52.956Z"
   },
   {
    "duration": 165,
    "start_time": "2023-11-23T20:04:53.050Z"
   },
   {
    "duration": 245,
    "start_time": "2023-11-23T20:04:53.217Z"
   },
   {
    "duration": 185,
    "start_time": "2023-11-23T20:04:53.465Z"
   },
   {
    "duration": 211,
    "start_time": "2023-11-23T20:04:53.652Z"
   },
   {
    "duration": 368,
    "start_time": "2023-11-23T20:04:53.865Z"
   },
   {
    "duration": 252,
    "start_time": "2023-11-23T20:04:54.235Z"
   },
   {
    "duration": 10,
    "start_time": "2023-11-23T20:04:54.488Z"
   },
   {
    "duration": 119,
    "start_time": "2023-11-23T20:04:54.499Z"
   },
   {
    "duration": 10,
    "start_time": "2023-11-23T20:04:54.620Z"
   },
   {
    "duration": 303,
    "start_time": "2023-11-23T20:04:54.631Z"
   },
   {
    "duration": 138,
    "start_time": "2023-11-23T20:04:54.936Z"
   },
   {
    "duration": 156,
    "start_time": "2023-11-23T20:04:55.075Z"
   },
   {
    "duration": 145,
    "start_time": "2023-11-23T20:04:55.232Z"
   },
   {
    "duration": 136,
    "start_time": "2023-11-23T20:04:55.379Z"
   },
   {
    "duration": 136,
    "start_time": "2023-11-23T20:04:55.516Z"
   },
   {
    "duration": 250,
    "start_time": "2023-11-23T20:04:55.653Z"
   },
   {
    "duration": 139,
    "start_time": "2023-11-23T20:04:55.904Z"
   },
   {
    "duration": 146,
    "start_time": "2023-11-23T20:04:56.044Z"
   },
   {
    "duration": 161,
    "start_time": "2023-11-23T20:04:56.191Z"
   },
   {
    "duration": 29,
    "start_time": "2023-11-23T20:04:56.354Z"
   },
   {
    "duration": 183,
    "start_time": "2023-11-23T20:04:56.385Z"
   },
   {
    "duration": 8,
    "start_time": "2023-11-23T20:04:56.569Z"
   },
   {
    "duration": 9,
    "start_time": "2023-11-23T20:04:56.578Z"
   },
   {
    "duration": 6,
    "start_time": "2023-11-23T20:04:56.588Z"
   },
   {
    "duration": 21,
    "start_time": "2023-11-23T20:04:56.595Z"
   },
   {
    "duration": 171,
    "start_time": "2023-11-23T20:04:56.618Z"
   },
   {
    "duration": 6,
    "start_time": "2023-11-23T20:07:02.030Z"
   },
   {
    "duration": 6,
    "start_time": "2023-11-23T20:07:51.127Z"
   },
   {
    "duration": 13,
    "start_time": "2023-11-23T20:09:04.445Z"
   },
   {
    "duration": 112,
    "start_time": "2023-11-23T20:09:32.800Z"
   },
   {
    "duration": 5,
    "start_time": "2023-11-23T20:09:40.602Z"
   },
   {
    "duration": 13,
    "start_time": "2023-11-23T20:09:43.687Z"
   },
   {
    "duration": 110,
    "start_time": "2023-11-23T20:09:45.204Z"
   },
   {
    "duration": 705,
    "start_time": "2023-11-23T20:09:53.864Z"
   },
   {
    "duration": 209,
    "start_time": "2023-11-23T20:09:54.572Z"
   },
   {
    "duration": 27,
    "start_time": "2023-11-23T20:09:54.783Z"
   },
   {
    "duration": 1840,
    "start_time": "2023-11-23T20:09:54.812Z"
   },
   {
    "duration": 1811,
    "start_time": "2023-11-23T20:09:56.654Z"
   },
   {
    "duration": 21,
    "start_time": "2023-11-23T20:09:58.466Z"
   },
   {
    "duration": 9,
    "start_time": "2023-11-23T20:09:58.488Z"
   },
   {
    "duration": 17,
    "start_time": "2023-11-23T20:09:58.498Z"
   },
   {
    "duration": 3,
    "start_time": "2023-11-23T20:09:58.516Z"
   },
   {
    "duration": 8,
    "start_time": "2023-11-23T20:09:58.521Z"
   },
   {
    "duration": 34,
    "start_time": "2023-11-23T20:09:58.531Z"
   },
   {
    "duration": 373,
    "start_time": "2023-11-23T20:09:58.567Z"
   },
   {
    "duration": 249,
    "start_time": "2023-11-23T20:09:58.942Z"
   },
   {
    "duration": 4,
    "start_time": "2023-11-23T20:09:59.195Z"
   },
   {
    "duration": 8,
    "start_time": "2023-11-23T20:09:59.201Z"
   },
   {
    "duration": 7,
    "start_time": "2023-11-23T20:09:59.210Z"
   },
   {
    "duration": 14,
    "start_time": "2023-11-23T20:09:59.218Z"
   },
   {
    "duration": 41,
    "start_time": "2023-11-23T20:09:59.234Z"
   },
   {
    "duration": 117,
    "start_time": "2023-11-23T20:09:59.277Z"
   },
   {
    "duration": 6,
    "start_time": "2023-11-23T20:09:59.396Z"
   },
   {
    "duration": 162,
    "start_time": "2023-11-23T20:09:59.403Z"
   },
   {
    "duration": 8,
    "start_time": "2023-11-23T20:09:59.567Z"
   },
   {
    "duration": 5,
    "start_time": "2023-11-23T20:09:59.576Z"
   },
   {
    "duration": 11,
    "start_time": "2023-11-23T20:09:59.583Z"
   },
   {
    "duration": 171,
    "start_time": "2023-11-23T20:09:59.595Z"
   },
   {
    "duration": 6,
    "start_time": "2023-11-23T20:09:59.768Z"
   },
   {
    "duration": 6,
    "start_time": "2023-11-23T20:09:59.775Z"
   },
   {
    "duration": 19,
    "start_time": "2023-11-23T20:09:59.783Z"
   },
   {
    "duration": 10,
    "start_time": "2023-11-23T20:09:59.804Z"
   },
   {
    "duration": 7,
    "start_time": "2023-11-23T20:09:59.815Z"
   },
   {
    "duration": 6,
    "start_time": "2023-11-23T20:09:59.824Z"
   },
   {
    "duration": 39,
    "start_time": "2023-11-23T20:09:59.831Z"
   },
   {
    "duration": 8,
    "start_time": "2023-11-23T20:09:59.871Z"
   },
   {
    "duration": 6,
    "start_time": "2023-11-23T20:09:59.881Z"
   },
   {
    "duration": 5,
    "start_time": "2023-11-23T20:09:59.888Z"
   },
   {
    "duration": 124,
    "start_time": "2023-11-23T20:09:59.894Z"
   },
   {
    "duration": 3,
    "start_time": "2023-11-23T20:10:00.020Z"
   },
   {
    "duration": 118,
    "start_time": "2023-11-23T20:10:00.024Z"
   },
   {
    "duration": 100,
    "start_time": "2023-11-23T20:10:00.144Z"
   },
   {
    "duration": 64,
    "start_time": "2023-11-23T20:10:00.245Z"
   },
   {
    "duration": 9,
    "start_time": "2023-11-23T20:10:00.314Z"
   },
   {
    "duration": 56,
    "start_time": "2023-11-23T20:10:00.324Z"
   },
   {
    "duration": 9,
    "start_time": "2023-11-23T20:10:00.381Z"
   },
   {
    "duration": 28,
    "start_time": "2023-11-23T20:10:00.391Z"
   },
   {
    "duration": 31,
    "start_time": "2023-11-23T20:10:00.421Z"
   },
   {
    "duration": 253,
    "start_time": "2023-11-23T20:10:00.454Z"
   },
   {
    "duration": 5,
    "start_time": "2023-11-23T20:10:00.708Z"
   },
   {
    "duration": 39,
    "start_time": "2023-11-23T20:10:00.714Z"
   },
   {
    "duration": 229,
    "start_time": "2023-11-23T20:10:00.755Z"
   },
   {
    "duration": 228,
    "start_time": "2023-11-23T20:10:00.985Z"
   },
   {
    "duration": 20,
    "start_time": "2023-11-23T20:10:01.214Z"
   },
   {
    "duration": 263,
    "start_time": "2023-11-23T20:10:01.235Z"
   },
   {
    "duration": 8,
    "start_time": "2023-11-23T20:10:01.500Z"
   },
   {
    "duration": 27,
    "start_time": "2023-11-23T20:10:01.510Z"
   },
   {
    "duration": 575,
    "start_time": "2023-11-23T20:10:01.539Z"
   },
   {
    "duration": 174,
    "start_time": "2023-11-23T20:10:02.116Z"
   },
   {
    "duration": 196,
    "start_time": "2023-11-23T20:10:02.292Z"
   },
   {
    "duration": 84,
    "start_time": "2023-11-23T20:10:02.489Z"
   },
   {
    "duration": 150,
    "start_time": "2023-11-23T20:10:02.575Z"
   },
   {
    "duration": 246,
    "start_time": "2023-11-23T20:10:02.727Z"
   },
   {
    "duration": 182,
    "start_time": "2023-11-23T20:10:02.975Z"
   },
   {
    "duration": 196,
    "start_time": "2023-11-23T20:10:03.158Z"
   },
   {
    "duration": 338,
    "start_time": "2023-11-23T20:10:03.355Z"
   },
   {
    "duration": 240,
    "start_time": "2023-11-23T20:10:03.695Z"
   },
   {
    "duration": 8,
    "start_time": "2023-11-23T20:10:03.936Z"
   },
   {
    "duration": 125,
    "start_time": "2023-11-23T20:10:03.945Z"
   },
   {
    "duration": 10,
    "start_time": "2023-11-23T20:10:04.071Z"
   },
   {
    "duration": 285,
    "start_time": "2023-11-23T20:10:04.082Z"
   },
   {
    "duration": 134,
    "start_time": "2023-11-23T20:10:04.368Z"
   },
   {
    "duration": 142,
    "start_time": "2023-11-23T20:10:04.503Z"
   },
   {
    "duration": 129,
    "start_time": "2023-11-23T20:10:04.647Z"
   },
   {
    "duration": 132,
    "start_time": "2023-11-23T20:10:04.777Z"
   },
   {
    "duration": 122,
    "start_time": "2023-11-23T20:10:04.910Z"
   },
   {
    "duration": 220,
    "start_time": "2023-11-23T20:10:05.033Z"
   },
   {
    "duration": 128,
    "start_time": "2023-11-23T20:10:05.264Z"
   },
   {
    "duration": 130,
    "start_time": "2023-11-23T20:10:05.394Z"
   },
   {
    "duration": 142,
    "start_time": "2023-11-23T20:10:05.525Z"
   },
   {
    "duration": 21,
    "start_time": "2023-11-23T20:10:05.669Z"
   },
   {
    "duration": 178,
    "start_time": "2023-11-23T20:10:05.692Z"
   },
   {
    "duration": 8,
    "start_time": "2023-11-23T20:10:05.872Z"
   },
   {
    "duration": 8,
    "start_time": "2023-11-23T20:10:05.881Z"
   },
   {
    "duration": 4,
    "start_time": "2023-11-23T20:10:05.891Z"
   },
   {
    "duration": 15,
    "start_time": "2023-11-23T20:10:05.896Z"
   },
   {
    "duration": 164,
    "start_time": "2023-11-23T20:10:05.912Z"
   },
   {
    "duration": 136,
    "start_time": "2023-11-23T20:12:36.571Z"
   },
   {
    "duration": 119,
    "start_time": "2023-11-23T20:13:13.029Z"
   },
   {
    "duration": 174,
    "start_time": "2023-11-23T20:21:38.969Z"
   },
   {
    "duration": 173,
    "start_time": "2023-11-23T20:21:47.065Z"
   },
   {
    "duration": 416,
    "start_time": "2023-11-23T20:21:52.166Z"
   },
   {
    "duration": 136,
    "start_time": "2023-11-23T20:21:55.318Z"
   },
   {
    "duration": 140,
    "start_time": "2023-11-23T20:24:40.755Z"
   },
   {
    "duration": 104,
    "start_time": "2023-11-23T20:25:32.334Z"
   },
   {
    "duration": 103,
    "start_time": "2023-11-23T20:26:36.952Z"
   },
   {
    "duration": 83,
    "start_time": "2023-11-23T20:39:15.443Z"
   },
   {
    "duration": 150,
    "start_time": "2023-11-23T20:40:48.646Z"
   },
   {
    "duration": 165,
    "start_time": "2023-11-23T21:01:05.531Z"
   },
   {
    "duration": 166,
    "start_time": "2023-11-23T21:06:58.053Z"
   },
   {
    "duration": 161,
    "start_time": "2023-11-23T21:07:05.151Z"
   },
   {
    "duration": 279,
    "start_time": "2023-11-23T21:07:38.022Z"
   },
   {
    "duration": 166,
    "start_time": "2023-11-23T21:07:49.491Z"
   },
   {
    "duration": 265,
    "start_time": "2023-11-23T21:10:05.493Z"
   },
   {
    "duration": 161,
    "start_time": "2023-11-23T21:12:22.004Z"
   },
   {
    "duration": 167,
    "start_time": "2023-11-23T21:12:29.640Z"
   },
   {
    "duration": 640,
    "start_time": "2023-11-23T21:17:59.588Z"
   },
   {
    "duration": 238,
    "start_time": "2023-11-23T21:18:00.230Z"
   },
   {
    "duration": 28,
    "start_time": "2023-11-23T21:18:00.470Z"
   },
   {
    "duration": 1916,
    "start_time": "2023-11-23T21:18:00.500Z"
   },
   {
    "duration": 1809,
    "start_time": "2023-11-23T21:18:02.418Z"
   },
   {
    "duration": 20,
    "start_time": "2023-11-23T21:18:04.229Z"
   },
   {
    "duration": 20,
    "start_time": "2023-11-23T21:18:04.251Z"
   },
   {
    "duration": 11,
    "start_time": "2023-11-23T21:18:04.273Z"
   },
   {
    "duration": 5,
    "start_time": "2023-11-23T21:18:04.285Z"
   },
   {
    "duration": 8,
    "start_time": "2023-11-23T21:18:04.291Z"
   },
   {
    "duration": 9,
    "start_time": "2023-11-23T21:18:04.300Z"
   },
   {
    "duration": 363,
    "start_time": "2023-11-23T21:18:04.311Z"
   },
   {
    "duration": 221,
    "start_time": "2023-11-23T21:18:04.676Z"
   },
   {
    "duration": 5,
    "start_time": "2023-11-23T21:18:04.900Z"
   },
   {
    "duration": 15,
    "start_time": "2023-11-23T21:18:04.906Z"
   },
   {
    "duration": 5,
    "start_time": "2023-11-23T21:18:04.923Z"
   },
   {
    "duration": 12,
    "start_time": "2023-11-23T21:18:04.930Z"
   },
   {
    "duration": 29,
    "start_time": "2023-11-23T21:18:04.944Z"
   },
   {
    "duration": 136,
    "start_time": "2023-11-23T21:18:04.974Z"
   },
   {
    "duration": 7,
    "start_time": "2023-11-23T21:18:05.111Z"
   },
   {
    "duration": 163,
    "start_time": "2023-11-23T21:18:05.119Z"
   },
   {
    "duration": 8,
    "start_time": "2023-11-23T21:18:05.283Z"
   },
   {
    "duration": 4,
    "start_time": "2023-11-23T21:18:05.293Z"
   },
   {
    "duration": 10,
    "start_time": "2023-11-23T21:18:05.298Z"
   },
   {
    "duration": 140,
    "start_time": "2023-11-23T21:18:05.309Z"
   },
   {
    "duration": 17,
    "start_time": "2023-11-23T21:18:05.450Z"
   },
   {
    "duration": 6,
    "start_time": "2023-11-23T21:18:05.469Z"
   },
   {
    "duration": 12,
    "start_time": "2023-11-23T21:18:05.476Z"
   },
   {
    "duration": 9,
    "start_time": "2023-11-23T21:18:05.489Z"
   },
   {
    "duration": 6,
    "start_time": "2023-11-23T21:18:05.499Z"
   },
   {
    "duration": 7,
    "start_time": "2023-11-23T21:18:05.506Z"
   },
   {
    "duration": 10,
    "start_time": "2023-11-23T21:18:05.515Z"
   },
   {
    "duration": 7,
    "start_time": "2023-11-23T21:18:05.527Z"
   },
   {
    "duration": 34,
    "start_time": "2023-11-23T21:18:05.535Z"
   },
   {
    "duration": 4,
    "start_time": "2023-11-23T21:18:05.571Z"
   },
   {
    "duration": 105,
    "start_time": "2023-11-23T21:18:05.577Z"
   },
   {
    "duration": 4,
    "start_time": "2023-11-23T21:18:05.683Z"
   },
   {
    "duration": 15,
    "start_time": "2023-11-23T21:18:05.688Z"
   },
   {
    "duration": 8,
    "start_time": "2023-11-23T21:18:05.704Z"
   },
   {
    "duration": 58,
    "start_time": "2023-11-23T21:18:05.713Z"
   },
   {
    "duration": 8,
    "start_time": "2023-11-23T21:18:05.775Z"
   },
   {
    "duration": 38,
    "start_time": "2023-11-23T21:18:05.784Z"
   },
   {
    "duration": 8,
    "start_time": "2023-11-23T21:18:05.823Z"
   },
   {
    "duration": 7,
    "start_time": "2023-11-23T21:18:05.832Z"
   },
   {
    "duration": 31,
    "start_time": "2023-11-23T21:18:05.840Z"
   },
   {
    "duration": 242,
    "start_time": "2023-11-23T21:18:05.873Z"
   },
   {
    "duration": 6,
    "start_time": "2023-11-23T21:18:06.117Z"
   },
   {
    "duration": 25,
    "start_time": "2023-11-23T21:18:06.124Z"
   },
   {
    "duration": 237,
    "start_time": "2023-11-23T21:18:06.150Z"
   },
   {
    "duration": 237,
    "start_time": "2023-11-23T21:18:06.389Z"
   },
   {
    "duration": 18,
    "start_time": "2023-11-23T21:18:06.627Z"
   },
   {
    "duration": 253,
    "start_time": "2023-11-23T21:18:06.646Z"
   },
   {
    "duration": 9,
    "start_time": "2023-11-23T21:18:06.901Z"
   },
   {
    "duration": 4,
    "start_time": "2023-11-23T21:18:06.911Z"
   },
   {
    "duration": 548,
    "start_time": "2023-11-23T21:18:06.917Z"
   },
   {
    "duration": 167,
    "start_time": "2023-11-23T21:18:07.466Z"
   },
   {
    "duration": 164,
    "start_time": "2023-11-23T21:18:07.635Z"
   },
   {
    "duration": 80,
    "start_time": "2023-11-23T21:18:07.802Z"
   },
   {
    "duration": 147,
    "start_time": "2023-11-23T21:18:07.884Z"
   },
   {
    "duration": 247,
    "start_time": "2023-11-23T21:18:08.032Z"
   },
   {
    "duration": 187,
    "start_time": "2023-11-23T21:18:08.281Z"
   },
   {
    "duration": 207,
    "start_time": "2023-11-23T21:18:08.470Z"
   },
   {
    "duration": 365,
    "start_time": "2023-11-23T21:18:08.678Z"
   },
   {
    "duration": 237,
    "start_time": "2023-11-23T21:18:09.044Z"
   },
   {
    "duration": 8,
    "start_time": "2023-11-23T21:18:09.283Z"
   },
   {
    "duration": 122,
    "start_time": "2023-11-23T21:18:09.293Z"
   },
   {
    "duration": 10,
    "start_time": "2023-11-23T21:18:09.417Z"
   },
   {
    "duration": 307,
    "start_time": "2023-11-23T21:18:09.428Z"
   },
   {
    "duration": 138,
    "start_time": "2023-11-23T21:18:09.736Z"
   },
   {
    "duration": 147,
    "start_time": "2023-11-23T21:18:09.875Z"
   },
   {
    "duration": 129,
    "start_time": "2023-11-23T21:18:10.024Z"
   },
   {
    "duration": 133,
    "start_time": "2023-11-23T21:18:10.155Z"
   },
   {
    "duration": 139,
    "start_time": "2023-11-23T21:18:10.289Z"
   },
   {
    "duration": 236,
    "start_time": "2023-11-23T21:18:10.429Z"
   },
   {
    "duration": 142,
    "start_time": "2023-11-23T21:18:10.666Z"
   },
   {
    "duration": 137,
    "start_time": "2023-11-23T21:18:10.809Z"
   },
   {
    "duration": 143,
    "start_time": "2023-11-23T21:18:10.947Z"
   },
   {
    "duration": 21,
    "start_time": "2023-11-23T21:18:11.091Z"
   },
   {
    "duration": 177,
    "start_time": "2023-11-23T21:18:11.113Z"
   },
   {
    "duration": 175,
    "start_time": "2023-11-23T21:18:11.291Z"
   },
   {
    "duration": 7,
    "start_time": "2023-11-23T21:18:11.468Z"
   },
   {
    "duration": 28,
    "start_time": "2023-11-23T21:18:11.476Z"
   },
   {
    "duration": 6,
    "start_time": "2023-11-23T21:18:11.506Z"
   },
   {
    "duration": 14,
    "start_time": "2023-11-23T21:18:11.513Z"
   },
   {
    "duration": 143,
    "start_time": "2023-11-23T21:18:11.528Z"
   },
   {
    "duration": 173,
    "start_time": "2023-11-23T21:18:11.673Z"
   },
   {
    "duration": 721,
    "start_time": "2023-11-23T21:33:52.457Z"
   },
   {
    "duration": 236,
    "start_time": "2023-11-23T21:33:53.180Z"
   },
   {
    "duration": 30,
    "start_time": "2023-11-23T21:33:53.418Z"
   },
   {
    "duration": 2764,
    "start_time": "2023-11-23T21:33:53.450Z"
   },
   {
    "duration": 2061,
    "start_time": "2023-11-23T21:33:56.217Z"
   },
   {
    "duration": 22,
    "start_time": "2023-11-23T21:33:58.280Z"
   },
   {
    "duration": 13,
    "start_time": "2023-11-23T21:33:58.304Z"
   },
   {
    "duration": 16,
    "start_time": "2023-11-23T21:33:58.319Z"
   },
   {
    "duration": 8,
    "start_time": "2023-11-23T21:33:58.337Z"
   },
   {
    "duration": 31,
    "start_time": "2023-11-23T21:33:58.348Z"
   },
   {
    "duration": 26,
    "start_time": "2023-11-23T21:33:58.380Z"
   },
   {
    "duration": 398,
    "start_time": "2023-11-23T21:33:58.407Z"
   },
   {
    "duration": 261,
    "start_time": "2023-11-23T21:33:58.807Z"
   },
   {
    "duration": 6,
    "start_time": "2023-11-23T21:33:59.070Z"
   },
   {
    "duration": 27,
    "start_time": "2023-11-23T21:33:59.079Z"
   },
   {
    "duration": 5,
    "start_time": "2023-11-23T21:33:59.108Z"
   },
   {
    "duration": 13,
    "start_time": "2023-11-23T21:33:59.115Z"
   },
   {
    "duration": 12,
    "start_time": "2023-11-23T21:33:59.130Z"
   },
   {
    "duration": 164,
    "start_time": "2023-11-23T21:33:59.144Z"
   },
   {
    "duration": 8,
    "start_time": "2023-11-23T21:33:59.310Z"
   },
   {
    "duration": 195,
    "start_time": "2023-11-23T21:33:59.320Z"
   },
   {
    "duration": 9,
    "start_time": "2023-11-23T21:33:59.517Z"
   },
   {
    "duration": 5,
    "start_time": "2023-11-23T21:33:59.528Z"
   },
   {
    "duration": 11,
    "start_time": "2023-11-23T21:33:59.535Z"
   },
   {
    "duration": 145,
    "start_time": "2023-11-23T21:33:59.573Z"
   },
   {
    "duration": 7,
    "start_time": "2023-11-23T21:33:59.720Z"
   },
   {
    "duration": 18,
    "start_time": "2023-11-23T21:33:59.728Z"
   },
   {
    "duration": 124,
    "start_time": "2023-11-23T21:33:59.750Z"
   },
   {
    "duration": 25,
    "start_time": "2023-11-23T21:33:59.876Z"
   },
   {
    "duration": 7,
    "start_time": "2023-11-23T21:33:59.903Z"
   },
   {
    "duration": 9,
    "start_time": "2023-11-23T21:33:59.911Z"
   },
   {
    "duration": 13,
    "start_time": "2023-11-23T21:33:59.922Z"
   },
   {
    "duration": 12,
    "start_time": "2023-11-23T21:33:59.937Z"
   },
   {
    "duration": 5,
    "start_time": "2023-11-23T21:33:59.951Z"
   },
   {
    "duration": 17,
    "start_time": "2023-11-23T21:33:59.958Z"
   },
   {
    "duration": 12,
    "start_time": "2023-11-23T21:33:59.977Z"
   },
   {
    "duration": 4,
    "start_time": "2023-11-23T21:33:59.991Z"
   },
   {
    "duration": 43,
    "start_time": "2023-11-23T21:33:59.996Z"
   },
   {
    "duration": 59,
    "start_time": "2023-11-23T21:34:00.041Z"
   },
   {
    "duration": 63,
    "start_time": "2023-11-23T21:34:00.102Z"
   },
   {
    "duration": 9,
    "start_time": "2023-11-23T21:34:00.167Z"
   },
   {
    "duration": 65,
    "start_time": "2023-11-23T21:34:00.177Z"
   },
   {
    "duration": 42,
    "start_time": "2023-11-23T21:34:00.244Z"
   },
   {
    "duration": 37,
    "start_time": "2023-11-23T21:34:00.288Z"
   },
   {
    "duration": 48,
    "start_time": "2023-11-23T21:34:00.327Z"
   },
   {
    "duration": 294,
    "start_time": "2023-11-23T21:34:00.377Z"
   },
   {
    "duration": 6,
    "start_time": "2023-11-23T21:34:00.673Z"
   },
   {
    "duration": 64,
    "start_time": "2023-11-23T21:34:00.680Z"
   },
   {
    "duration": 284,
    "start_time": "2023-11-23T21:34:00.746Z"
   },
   {
    "duration": 258,
    "start_time": "2023-11-23T21:34:01.031Z"
   },
   {
    "duration": 20,
    "start_time": "2023-11-23T21:34:01.291Z"
   },
   {
    "duration": 458,
    "start_time": "2023-11-23T21:34:01.313Z"
   },
   {
    "duration": 9,
    "start_time": "2023-11-23T21:34:01.773Z"
   },
   {
    "duration": 12,
    "start_time": "2023-11-23T21:34:01.784Z"
   },
   {
    "duration": 595,
    "start_time": "2023-11-23T21:34:01.797Z"
   },
   {
    "duration": 181,
    "start_time": "2023-11-23T21:34:02.394Z"
   },
   {
    "duration": 165,
    "start_time": "2023-11-23T21:34:02.578Z"
   },
   {
    "duration": 91,
    "start_time": "2023-11-23T21:34:02.745Z"
   },
   {
    "duration": 173,
    "start_time": "2023-11-23T21:34:02.838Z"
   },
   {
    "duration": 274,
    "start_time": "2023-11-23T21:34:03.013Z"
   },
   {
    "duration": 206,
    "start_time": "2023-11-23T21:34:03.289Z"
   },
   {
    "duration": 217,
    "start_time": "2023-11-23T21:34:03.497Z"
   },
   {
    "duration": 405,
    "start_time": "2023-11-23T21:34:03.716Z"
   },
   {
    "duration": 270,
    "start_time": "2023-11-23T21:34:04.122Z"
   },
   {
    "duration": 11,
    "start_time": "2023-11-23T21:34:04.394Z"
   },
   {
    "duration": 129,
    "start_time": "2023-11-23T21:34:04.407Z"
   },
   {
    "duration": 12,
    "start_time": "2023-11-23T21:34:04.538Z"
   },
   {
    "duration": 334,
    "start_time": "2023-11-23T21:34:04.552Z"
   },
   {
    "duration": 146,
    "start_time": "2023-11-23T21:34:04.888Z"
   },
   {
    "duration": 162,
    "start_time": "2023-11-23T21:34:05.036Z"
   },
   {
    "duration": 152,
    "start_time": "2023-11-23T21:34:05.200Z"
   },
   {
    "duration": 152,
    "start_time": "2023-11-23T21:34:05.354Z"
   },
   {
    "duration": 145,
    "start_time": "2023-11-23T21:34:05.508Z"
   },
   {
    "duration": 264,
    "start_time": "2023-11-23T21:34:05.656Z"
   },
   {
    "duration": 147,
    "start_time": "2023-11-23T21:34:05.923Z"
   },
   {
    "duration": 148,
    "start_time": "2023-11-23T21:34:06.074Z"
   },
   {
    "duration": 164,
    "start_time": "2023-11-23T21:34:06.224Z"
   },
   {
    "duration": 25,
    "start_time": "2023-11-23T21:34:06.391Z"
   },
   {
    "duration": 196,
    "start_time": "2023-11-23T21:34:06.418Z"
   },
   {
    "duration": 187,
    "start_time": "2023-11-23T21:34:06.616Z"
   },
   {
    "duration": 9,
    "start_time": "2023-11-23T21:34:06.805Z"
   },
   {
    "duration": 8,
    "start_time": "2023-11-23T21:34:06.820Z"
   },
   {
    "duration": 4,
    "start_time": "2023-11-23T21:34:06.830Z"
   },
   {
    "duration": 40,
    "start_time": "2023-11-23T21:34:06.836Z"
   },
   {
    "duration": 165,
    "start_time": "2023-11-23T21:34:06.878Z"
   },
   {
    "duration": 186,
    "start_time": "2023-11-23T21:34:07.046Z"
   }
  ],
  "kernelspec": {
   "display_name": "Python 3 (ipykernel)",
   "language": "python",
   "name": "python3"
  },
  "language_info": {
   "codemirror_mode": {
    "name": "ipython",
    "version": 3
   },
   "file_extension": ".py",
   "mimetype": "text/x-python",
   "name": "python",
   "nbconvert_exporter": "python",
   "pygments_lexer": "ipython3",
   "version": "3.9.18"
  },
  "toc": {
   "base_numbering": 1,
   "nav_menu": {},
   "number_sections": true,
   "sideBar": true,
   "skip_h1_title": true,
   "title_cell": "Table of Contents",
   "title_sidebar": "Contents",
   "toc_cell": false,
   "toc_position": {},
   "toc_section_display": true,
   "toc_window_display": true
  }
 },
 "nbformat": 4,
 "nbformat_minor": 5
}
